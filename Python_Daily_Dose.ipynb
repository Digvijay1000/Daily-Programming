{
 "cells": [
  {
   "cell_type": "markdown",
   "id": "66f22408-107d-43f4-8f88-9611dd461550",
   "metadata": {},
   "source": [
    "### 20-12-2023"
   ]
  },
  {
   "cell_type": "markdown",
   "id": "6bec77db-798a-4623-b154-aa076d92e84b",
   "metadata": {},
   "source": [
    "##### 1. WAP for display values of common element from list and dictionary"
   ]
  },
  {
   "cell_type": "code",
   "execution_count": 11,
   "id": "0077cd84-c100-44d7-a384-b0989ff0688f",
   "metadata": {},
   "outputs": [
    {
     "name": "stdout",
     "output_type": "stream",
     "text": [
      "common elements from list and dictionary ['A', 'B', 'C']\n",
      "common elements values from list and dictionary [10, 20, 30]\n",
      "different elements from list  ['X', 'Y', 'Z']\n",
      "different elements from dictionary ['D', 'E']\n",
      "different elements values dictionary [40, 50]\n"
     ]
    }
   ],
   "source": [
    "list1=['A','B','C','X','Y','Z']\n",
    "dict1={'A':10,'B':20,'C':30,'D':40,'E':50}\n",
    "\n",
    "common_elements = []\n",
    "common_values = []\n",
    "dict_different_elements = []\n",
    "list_different_elements = []\n",
    "dict_different_values = []\n",
    "\n",
    "for i in list1:\n",
    "    if i in dict1:\n",
    "        common_elements.append(i)\n",
    "        common_values.append(dict1[i])\n",
    "        \n",
    "    if i not in dict1:\n",
    "        list_different_elements.append(i)\n",
    "        \n",
    "print(\"common elements from list and dictionary\", common_elements)    \n",
    "print(\"common elements values from list and dictionary\", common_values) \n",
    "print(\"different elements from list \", list_different_elements)\n",
    "        \n",
    "for i in dict1:\n",
    "    if i not in list1:\n",
    "        dict_different_elements.append(i)\n",
    "        dict_different_values.append(dict1[i]) \n",
    "\n",
    "print(\"different elements from dictionary\", dict_different_elements)    \n",
    "print(\"different elements values dictionary\", dict_different_values)  "
   ]
  },
  {
   "cell_type": "markdown",
   "id": "f20d07ef-6796-456a-8906-b8c8a99c3e06",
   "metadata": {},
   "source": [
    "##### 2. WAP for finding even and odd numbers from range 1 to 100"
   ]
  },
  {
   "cell_type": "code",
   "execution_count": 18,
   "id": "52e3f31b-68bc-4c5f-98c7-7f716ae52943",
   "metadata": {},
   "outputs": [
    {
     "name": "stdout",
     "output_type": "stream",
     "text": [
      "Even numbers : [2, 4, 6, 8, 10, 12, 14, 16, 18, 20, 22, 24, 26, 28, 30, 32, 34, 36, 38, 40, 42, 44, 46, 48, 50, 52, 54, 56, 58, 60, 62, 64, 66, 68, 70, 72, 74, 76, 78, 80, 82, 84, 86, 88, 90, 92, 94, 96, 98, 100]\n",
      "*********************************************************************************************************************************************************\n",
      "Odd numbers : [1, 3, 5, 7, 9, 11, 13, 15, 17, 19, 21, 23, 25, 27, 29, 31, 33, 35, 37, 39, 41, 43, 45, 47, 49, 51, 53, 55, 57, 59, 61, 63, 65, 67, 69, 71, 73, 75, 77, 79, 81, 83, 85, 87, 89, 91, 93, 95, 97, 99]\n"
     ]
    }
   ],
   "source": [
    "even_num = []\n",
    "odd_num = []\n",
    "\n",
    "for i in range(1,101):\n",
    "    if i%2 == 0:\n",
    "        even_num.append(i)\n",
    "    else:\n",
    "        odd_num.append(i)\n",
    "\n",
    "print(\"Even numbers :\",even_num)\n",
    "print('*'*153)\n",
    "print(\"Odd numbers :\", odd_num)"
   ]
  },
  {
   "cell_type": "code",
   "execution_count": null,
   "id": "719f9524-ab93-40eb-aa8b-37e97eeec07f",
   "metadata": {},
   "outputs": [],
   "source": []
  }
 ],
 "metadata": {
  "kernelspec": {
   "display_name": "Python 3 (ipykernel)",
   "language": "python",
   "name": "python3"
  },
  "language_info": {
   "codemirror_mode": {
    "name": "ipython",
    "version": 3
   },
   "file_extension": ".py",
   "mimetype": "text/x-python",
   "name": "python",
   "nbconvert_exporter": "python",
   "pygments_lexer": "ipython3",
   "version": "3.12.1"
  }
 },
 "nbformat": 4,
 "nbformat_minor": 5
}

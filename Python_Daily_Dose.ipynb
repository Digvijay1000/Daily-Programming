{
 "cells": [
  {
   "cell_type": "markdown",
   "id": "66f22408-107d-43f4-8f88-9611dd461550",
   "metadata": {},
   "source": [
    "### 20-12-2023"
   ]
  },
  {
   "cell_type": "markdown",
   "id": "6bec77db-798a-4623-b154-aa076d92e84b",
   "metadata": {},
   "source": [
    "##### 1. WAP for display values of common element from list and dictionary"
   ]
  },
  {
   "cell_type": "code",
   "execution_count": 11,
   "id": "0077cd84-c100-44d7-a384-b0989ff0688f",
   "metadata": {},
   "outputs": [
    {
     "name": "stdout",
     "output_type": "stream",
     "text": [
      "common elements from list and dictionary ['A', 'B', 'C']\n",
      "common elements values from list and dictionary [10, 20, 30]\n",
      "different elements from list  ['X', 'Y', 'Z']\n",
      "different elements from dictionary ['D', 'E']\n",
      "different elements values dictionary [40, 50]\n"
     ]
    }
   ],
   "source": [
    "list1=['A','B','C','X','Y','Z']\n",
    "dict1={'A':10,'B':20,'C':30,'D':40,'E':50}\n",
    "\n",
    "common_elements = []\n",
    "common_values = []\n",
    "dict_different_elements = []\n",
    "list_different_elements = []\n",
    "dict_different_values = []\n",
    "\n",
    "for i in list1:\n",
    "    if i in dict1:\n",
    "        common_elements.append(i)\n",
    "        common_values.append(dict1[i])\n",
    "        \n",
    "    if i not in dict1:\n",
    "        list_different_elements.append(i)\n",
    "        \n",
    "print(\"common elements from list and dictionary\", common_elements)    \n",
    "print(\"common elements values from list and dictionary\", common_values) \n",
    "print(\"different elements from list \", list_different_elements)\n",
    "        \n",
    "for i in dict1:\n",
    "    if i not in list1:\n",
    "        dict_different_elements.append(i)\n",
    "        dict_different_values.append(dict1[i]) \n",
    "\n",
    "print(\"different elements from dictionary\", dict_different_elements)    \n",
    "print(\"different elements values dictionary\", dict_different_values)  "
   ]
  },
  {
   "cell_type": "markdown",
   "id": "f20d07ef-6796-456a-8906-b8c8a99c3e06",
   "metadata": {},
   "source": [
    "##### 2. WAP for finding even and odd numbers from range 1 to 100"
   ]
  },
  {
   "cell_type": "code",
   "execution_count": 18,
   "id": "52e3f31b-68bc-4c5f-98c7-7f716ae52943",
   "metadata": {},
   "outputs": [
    {
     "name": "stdout",
     "output_type": "stream",
     "text": [
      "Even numbers : [2, 4, 6, 8, 10, 12, 14, 16, 18, 20, 22, 24, 26, 28, 30, 32, 34, 36, 38, 40, 42, 44, 46, 48, 50, 52, 54, 56, 58, 60, 62, 64, 66, 68, 70, 72, 74, 76, 78, 80, 82, 84, 86, 88, 90, 92, 94, 96, 98, 100]\n",
      "*********************************************************************************************************************************************************\n",
      "Odd numbers : [1, 3, 5, 7, 9, 11, 13, 15, 17, 19, 21, 23, 25, 27, 29, 31, 33, 35, 37, 39, 41, 43, 45, 47, 49, 51, 53, 55, 57, 59, 61, 63, 65, 67, 69, 71, 73, 75, 77, 79, 81, 83, 85, 87, 89, 91, 93, 95, 97, 99]\n"
     ]
    }
   ],
   "source": [
    "even_num = []\n",
    "odd_num = []\n",
    "\n",
    "for i in range(1,101):\n",
    "    if i%2 == 0:\n",
    "        even_num.append(i)\n",
    "    else:\n",
    "        odd_num.append(i)\n",
    "\n",
    "print(\"Even numbers :\",even_num)\n",
    "print('*'*153)\n",
    "print(\"Odd numbers :\", odd_num)"
   ]
  },
  {
   "cell_type": "markdown",
   "id": "f1f70e29-ca97-4f8c-b292-37e35fdddb40",
   "metadata": {},
   "source": [
    "### 21-12-2023"
   ]
  },
  {
   "cell_type": "markdown",
   "id": "f3aaa0b3-4833-45a4-8315-daaced11b216",
   "metadata": {},
   "source": [
    "##### 3. Program for finding given number is prime or not\n",
    "\n",
    "        A prime number is a number that is divisible by only 1 and itself. For example, 2, 3, 5, 7, 11, 13, 17, 19, 23, 29, 31, 37, 41, 43, 47, 53, 59, 61, 67, 71, 73, 79, 83, 89, 97 are all prime numbers."
   ]
  },
  {
   "cell_type": "code",
   "execution_count": 4,
   "id": "12c47226-2dcc-47c8-b76c-4c0ac694bc07",
   "metadata": {},
   "outputs": [
    {
     "name": "stdin",
     "output_type": "stream",
     "text": [
      "Enter number 7\n"
     ]
    },
    {
     "name": "stdout",
     "output_type": "stream",
     "text": [
      "7 is Prime number\n"
     ]
    }
   ],
   "source": [
    "num=int(input('Enter number'))\n",
    "\n",
    "for i in range(2,num):\n",
    "    if num%i == 0:\n",
    "        print(num,'is not Prime number')\n",
    "        break\n",
    "else:\n",
    "    print(num,'is Prime number')"
   ]
  },
  {
   "cell_type": "markdown",
   "id": "3ed7e935-35e7-4aeb-80cf-6b82bdca0b79",
   "metadata": {},
   "source": [
    "##### 4. Program for sort prime/unprime numbers from given list"
   ]
  },
  {
   "cell_type": "code",
   "execution_count": 5,
   "id": "408c724d-0b9e-4eb4-8d05-224796359bd3",
   "metadata": {},
   "outputs": [],
   "source": [
    "def is_prime(n):\n",
    "    if n < 2 :\n",
    "        return False\n",
    "        \n",
    "    for i in range(2, n):\n",
    "        if n%i == 0:\n",
    "            return False\n",
    "            \n",
    "    return True"
   ]
  },
  {
   "cell_type": "code",
   "execution_count": 8,
   "id": "c582e815-3e3c-44cd-8162-4e620007fab8",
   "metadata": {},
   "outputs": [
    {
     "name": "stdout",
     "output_type": "stream",
     "text": [
      "Prime numbers : [2, 3, 5, 7, 11, 13, 17, 19, 23, 29, 31, 37, 41, 43, 47, 53, 59, 61, 67, 71, 73, 79, 83, 89, 97]\n",
      "Unprime numbers : [1, 4, 6, 8, 9, 10, 12, 14, 15, 16, 18, 20, 21, 22, 24, 25, 26, 27, 28, 30, 32, 33, 34, 35, 36, 38, 39, 40, 42, 44, 45, 46, 48, 49, 50, 51, 52, 54, 55, 56, 57, 58, 60, 62, 63, 64, 65, 66, 68, 69, 70, 72, 74, 75, 76, 77, 78, 80, 81, 82, 84, 85, 86, 87, 88, 90, 91, 92, 93, 94, 95, 96, 98, 99]\n"
     ]
    }
   ],
   "source": [
    "prime_num = []\n",
    "unprime_num = []\n",
    "\n",
    "for i in range(1, 100):\n",
    "    if is_prime(i):\n",
    "        prime_num.append(i)\n",
    "    else:\n",
    "        unprime_num.append(i)\n",
    "        \n",
    "print(\"Prime numbers :\", prime_num)\n",
    "print(\"Unprime numbers :\", unprime_num) "
   ]
  },
  {
   "cell_type": "markdown",
   "id": "184327d8-98ba-4241-816e-6bcd5ada4e84",
   "metadata": {},
   "source": [
    "##### 5. Addition of string and integer Using Explicit Conversion"
   ]
  },
  {
   "cell_type": "code",
   "execution_count": 12,
   "id": "923235f2-ad42-4e1c-aaa2-74125cc8dfa1",
   "metadata": {},
   "outputs": [
    {
     "name": "stdout",
     "output_type": "stream",
     "text": [
      "str1 : 1000 <class 'str'>\n",
      "str2 : 7000 <class 'int'>\n",
      "Addition of str1 and str2 : 8000\n"
     ]
    }
   ],
   "source": [
    "str1 = '1000'\n",
    "str2 = 7000\n",
    "\n",
    "print(\"str1 :\",str1, type(str1))\n",
    "print(\"str2 :\",str2, type(str2))\n",
    "\n",
    "str3 = int(str1)\n",
    "\n",
    "print(\"Addition of str1 and str2 :\", str3+str2)"
   ]
  },
  {
   "cell_type": "markdown",
   "id": "c4a8900c-9f4c-487b-bb00-153c302047dd",
   "metadata": {},
   "source": [
    "##### 6. Python program output of two print statemets in single line."
   ]
  },
  {
   "cell_type": "code",
   "execution_count": 18,
   "id": "66b60e81-2eaf-477e-a68d-381a20de5d40",
   "metadata": {},
   "outputs": [
    {
     "name": "stdout",
     "output_type": "stream",
     "text": [
      "Do it now, sometimes later becomes never..! Practice makes man perfect..!\n"
     ]
    }
   ],
   "source": [
    "# print with end whitespace\n",
    "print('Do it now, sometimes later becomes never..!', end= ' ')\n",
    "print('Practice makes man perfect..!')"
   ]
  },
  {
   "cell_type": "code",
   "execution_count": 19,
   "id": "5faa3311-c7b8-47cd-904c-6c81526c1bd3",
   "metadata": {},
   "outputs": [
    {
     "name": "stdout",
     "output_type": "stream",
     "text": [
      "Do it now, sometimes later becomes never..! Practice makes man perfect..!\n"
     ]
    }
   ],
   "source": [
    "# print with the help of variables\n",
    "pr1='Do it now, sometimes later becomes never..!'\n",
    "pr2='Practice makes man perfect..!'\n",
    "\n",
    "print(pr1,pr2)"
   ]
  },
  {
   "cell_type": "markdown",
   "id": "01ce5b0f-c601-40fb-aa08-e7453246e975",
   "metadata": {},
   "source": [
    "##### 7. Python Program to Generate a Random Number"
   ]
  },
  {
   "cell_type": "code",
   "execution_count": 33,
   "id": "508fee8f-e05a-4cba-be53-6c249fbf3a24",
   "metadata": {},
   "outputs": [
    {
     "name": "stdout",
     "output_type": "stream",
     "text": [
      "0.3797622045280826\n",
      "6\n",
      "4\n",
      "[4, 5, 1, 3, 2]\n",
      "[4, 5, 2]\n"
     ]
    }
   ],
   "source": [
    "import random\n",
    "rand_num = random.random() # This function returns a random float in the range [0.0, 1.0). The returned value is between 0.0 (inclusive) and 1.0 (exclusive).\n",
    "print(rand_num)\n",
    "\n",
    "rand_int = random.randint(1, 10) # This function returns a random integer in the range [a, b] (inclusive).\n",
    "print(rand_int)\n",
    "\n",
    "my_list = [1, 2, 3, 4, 5]\n",
    "rand_choice = random.choice(my_list) # This function returns a random element from the given sequence (e.g., a list or a string).\n",
    "print(rand_choice)\n",
    "\n",
    "my_list = [1, 2, 3, 4, 5]\n",
    "random.shuffle(my_list) # This function shuffles the elements of a sequence in place.\n",
    "print(my_list)\n",
    "\n",
    "my_list = [1, 2, 3, 4, 5]\n",
    "rand_sample = random.sample(my_list, 3) # This function returns a k-length list of unique elements chosen randomly from the population sequence.\n",
    "print(rand_sample)"
   ]
  },
  {
   "cell_type": "code",
   "execution_count": null,
   "id": "5e4507f3-b571-41db-bb9a-73be0a38f4bf",
   "metadata": {},
   "outputs": [],
   "source": []
  },
  {
   "cell_type": "code",
   "execution_count": null,
   "id": "613b23ef-5852-43a7-ab21-5559e724b461",
   "metadata": {},
   "outputs": [],
   "source": []
  }
 ],
 "metadata": {
  "kernelspec": {
   "display_name": "Python 3 (ipykernel)",
   "language": "python",
   "name": "python3"
  },
  "language_info": {
   "codemirror_mode": {
    "name": "ipython",
    "version": 3
   },
   "file_extension": ".py",
   "mimetype": "text/x-python",
   "name": "python",
   "nbconvert_exporter": "python",
   "pygments_lexer": "ipython3",
   "version": "3.12.1"
  }
 },
 "nbformat": 4,
 "nbformat_minor": 5
}

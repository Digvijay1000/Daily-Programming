{
 "cells": [
  {
   "cell_type": "markdown",
   "id": "02178d94",
   "metadata": {},
   "source": [
    "                                                                               Date: 16_April-2023"
   ]
  },
  {
   "cell_type": "markdown",
   "id": "ae64f973",
   "metadata": {},
   "source": [
    "### Python Programming"
   ]
  },
  {
   "cell_type": "markdown",
   "id": "88ef62b5",
   "metadata": {},
   "source": [
    "###### 1. WAP for finding common & uncommon element from list and dictionary"
   ]
  },
  {
   "cell_type": "code",
   "execution_count": 1,
   "id": "d8e56b41",
   "metadata": {},
   "outputs": [
    {
     "name": "stdout",
     "output_type": "stream",
     "text": [
      "Values of Common elements from list & dictionary : [10, 20, 30]\n",
      "******************************************************************************************\n",
      "Values of uncommon elements from list & dictionary : [40, 50]\n",
      "******************************************************************************************\n",
      "Keys of common elements from list & dictionary : ['A', 'B', 'C']\n",
      "******************************************************************************************\n",
      "Keys of uncommon elements from list & dictionary : ['D', 'E']\n"
     ]
    }
   ],
   "source": [
    "list1=['A','B','C']\n",
    "dict1={'A':10,'B':20,'C':30,'D':40,'E':50}\n",
    "\n",
    "com=[]\n",
    "uncom=[]\n",
    "com_keys=[]\n",
    "uncom_keys=[]\n",
    "\n",
    "for i in list1:\n",
    "    if i in dict1:\n",
    "        com.append(dict1[i])      \n",
    "\n",
    "for i in dict1:\n",
    "    if i not in list1:\n",
    "        uncom.append(dict1[i])\n",
    "            \n",
    "for i in list1:\n",
    "    if i in dict1:\n",
    "        com_keys.append(i)\n",
    "             \n",
    "for i in dict1:\n",
    "    if i not in list1:\n",
    "        uncom_keys.append(i)\n",
    "          \n",
    "        \n",
    "print('Values of Common elements from list & dictionary :',com)\n",
    "print('*'*90)\n",
    "\n",
    "print(\"Values of uncommon elements from list & dictionary :\",uncom)     \n",
    "print('*'*90)\n",
    "\n",
    "print('Keys of common elements from list & dictionary :',com_keys)     \n",
    "print('*'*90)\n",
    "\n",
    "print('Keys of uncommon elements from list & dictionary :',uncom_keys)"
   ]
  },
  {
   "cell_type": "markdown",
   "id": "bfaf4c83",
   "metadata": {},
   "source": [
    "###### 2. WAP for finding even and odd numbers from range 1 to 100"
   ]
  },
  {
   "cell_type": "code",
   "execution_count": 2,
   "id": "c340a8cb",
   "metadata": {},
   "outputs": [
    {
     "name": "stdout",
     "output_type": "stream",
     "text": [
      "Even numbers are : [2, 4, 6, 8, 10, 12, 14, 16, 18, 20, 22, 24, 26, 28, 30, 32, 34, 36, 38, 40, 42, 44, 46, 48, 50, 52, 54, 56, 58, 60, 62, 64, 66, 68, 70, 72, 74, 76, 78, 80, 82, 84, 86, 88, 90, 92, 94, 96, 98, 100]\n",
      "****************************************************************************************************\n",
      "Odd numbers are : [1, 3, 5, 7, 9, 11, 13, 15, 17, 19, 21, 23, 25, 27, 29, 31, 33, 35, 37, 39, 41, 43, 45, 47, 49, 51, 53, 55, 57, 59, 61, 63, 65, 67, 69, 71, 73, 75, 77, 79, 81, 83, 85, 87, 89, 91, 93, 95, 97, 99]\n"
     ]
    }
   ],
   "source": [
    "even_number=[]\n",
    "odd_number=[]\n",
    "\n",
    "for i in range(1,101):\n",
    "    if i%2==0:\n",
    "        even_number.append(i)\n",
    "    else:\n",
    "        odd_number.append(i)\n",
    "        \n",
    "print(\"Even numbers are :\",even_number)\n",
    "print('*'*100)\n",
    "print(\"Odd numbers are :\",odd_number)"
   ]
  },
  {
   "cell_type": "markdown",
   "id": "e3ef5723",
   "metadata": {},
   "source": [
    "###### 3.  Program for finding given number is prime or not"
   ]
  },
  {
   "cell_type": "markdown",
   "id": "45b85a64",
   "metadata": {},
   "source": [
    "###### Prime Numbers\n",
    "\n",
    "    A prime number is a positive integer greater than 1 that has only two factors, 1 and itself. In other words, it is a number that is divisible by only 1 and itself. For example, 2, 3, 5, 7, 11, 13, 17, 19, 23, 29, 31, 37, 41, 43, 47, 53, 59, 61, 67, 71, 73, 79, 83, 89, 97 are all prime numbers."
   ]
  },
  {
   "cell_type": "code",
   "execution_count": 3,
   "id": "00010cea",
   "metadata": {},
   "outputs": [
    {
     "name": "stdout",
     "output_type": "stream",
     "text": [
      "Enter number100\n",
      "100 is not Prime number\n"
     ]
    }
   ],
   "source": [
    "num=int(input('Enter number'))\n",
    "\n",
    "for i in range(2,num):\n",
    "    if num%i == 0:\n",
    "        print(num,'is not Prime number')\n",
    "        break\n",
    "    else:\n",
    "        print(num,'is Prime number')"
   ]
  },
  {
   "cell_type": "markdown",
   "id": "c5603e15",
   "metadata": {},
   "source": [
    "###### 4. Program for sorting prime /unprime numbers from given range"
   ]
  },
  {
   "cell_type": "code",
   "execution_count": 4,
   "id": "e0ee912b",
   "metadata": {},
   "outputs": [
    {
     "name": "stdout",
     "output_type": "stream",
     "text": [
      "not_prime list : [0, 1, 4, 6, 8, 9, 10, 12, 14, 15, 16, 18, 20, 21, 22, 24, 25, 26, 27, 28, 30, 32, 33, 34, 35, 36, 38, 39, 40, 42, 44, 45, 46, 48, 49, 50, 51, 52, 54, 55, 56, 57, 58, 60, 62, 63, 64, 65, 66, 68, 69, 70, 72, 74, 75, 76, 77, 78, 80, 81, 82, 84, 85, 86, 87, 88, 90, 91, 92, 93, 94, 95, 96, 98, 99, 100]\n",
      "****************************************************************************************************\n",
      "prime_num list : [2, 3, 5, 7, 11, 13, 17, 19, 23, 29, 31, 37, 41, 43, 47, 53, 59, 61, 67, 71, 73, 79, 83, 89, 97]\n"
     ]
    }
   ],
   "source": [
    "def is_prime(n):\n",
    "    if n < 2:\n",
    "        return False\n",
    "    for i in range(2,n):\n",
    "        if n % i == 0:\n",
    "            return False\n",
    "    return True\n",
    "\n",
    "prime_num=[]\n",
    "not_prime=[]\n",
    "\n",
    "for i in range(0,101):\n",
    "    if is_prime(i):\n",
    "        prime_num.append(i)\n",
    "    else:\n",
    "        not_prime.append(i)\n",
    "        \n",
    "print('not_prime list :',not_prime)\n",
    "print('*'*100)\n",
    "print('prime_num list :',prime_num)"
   ]
  },
  {
   "cell_type": "markdown",
   "id": "961e0b86",
   "metadata": {},
   "source": [
    "###### 5. Addition of string and integer Using Explicit Conversion"
   ]
  },
  {
   "cell_type": "code",
   "execution_count": 5,
   "id": "75fef5c9",
   "metadata": {},
   "outputs": [
    {
     "name": "stdout",
     "output_type": "stream",
     "text": [
      "string value : 1000\n",
      "<class 'str'>\n",
      "Integer value : 2000\n",
      "<class 'int'>\n",
      "****************************************************************************************************\n",
      "explicit conversion str_var to int_var :\n",
      "New converted str_var : 1000\n",
      "<class 'int'>\n",
      "****************************************************************************************************\n",
      "Addition of new_str_var and int_var : 3000\n"
     ]
    }
   ],
   "source": [
    "str_var='1000'\n",
    "int_var=2000\n",
    "\n",
    "print('string value :',str_var)\n",
    "print(type(str_var))\n",
    "\n",
    "print('Integer value :',int_var)\n",
    "print(type(int_var))\n",
    "\n",
    "print('*'*100)\n",
    "\n",
    "print('explicit conversion str_var to int_var :')\n",
    "new_str_var=int(str_var) # explicit conversion string to int\n",
    "print('New converted str_var :',new_str_var)\n",
    "print(type(new_str_var))\n",
    "\n",
    "print('*'*100)\n",
    "\n",
    "print('Addition of new_str_var and int_var :',new_str_var+int_var)"
   ]
  },
  {
   "cell_type": "markdown",
   "id": "179284e6",
   "metadata": {},
   "source": [
    "                                                                             Date : 17_April-2023"
   ]
  },
  {
   "cell_type": "markdown",
   "id": "cd943439",
   "metadata": {},
   "source": [
    "###### 6. Python program output of two print statemets in single line."
   ]
  },
  {
   "cell_type": "code",
   "execution_count": 6,
   "id": "a48fdb51",
   "metadata": {},
   "outputs": [
    {
     "name": "stdout",
     "output_type": "stream",
     "text": [
      "Do it now, sometimes later becomes never..! Practice makes man perfect..!\n"
     ]
    }
   ],
   "source": [
    "# print with end whitespace\n",
    "print('Do it now, sometimes later becomes never..!', end= ' ')\n",
    "print('Practice makes man perfect..!')"
   ]
  },
  {
   "cell_type": "code",
   "execution_count": 7,
   "id": "32801902",
   "metadata": {},
   "outputs": [
    {
     "name": "stdout",
     "output_type": "stream",
     "text": [
      "Do it now, sometimes later becomes never..! Practice makes man perfect..!\n"
     ]
    }
   ],
   "source": [
    "# print with the help of variables\n",
    "pr1='Do it now, sometimes later becomes never..!'\n",
    "pr2='Practice makes man perfect..!'\n",
    "\n",
    "print(pr1,pr2)"
   ]
  },
  {
   "cell_type": "markdown",
   "id": "6925a429",
   "metadata": {},
   "source": [
    "###### 7. Python Program to Generate a Random Number"
   ]
  },
  {
   "cell_type": "code",
   "execution_count": 8,
   "id": "c9cc3e52",
   "metadata": {},
   "outputs": [
    {
     "name": "stdout",
     "output_type": "stream",
     "text": [
      "7\n"
     ]
    }
   ],
   "source": [
    "import random\n",
    "\n",
    "var= random.randint(0,9)\n",
    "print(var)"
   ]
  },
  {
   "cell_type": "markdown",
   "id": "16c546c0",
   "metadata": {},
   "source": [
    "###### 8. Python program to check if year is a leap year or not\n",
    "\n",
    "        divided by 100 means century year (ending with 00)\n",
    "        century year divided by 400 is leap year\n",
    "\n",
    "        not divided by 100 means not a century year\n",
    "        year divided by 4 is a leap year\n",
    "\n",
    "        if not divided by both 400 (century year) and 4 (not century year)\n",
    "        year is not leap year"
   ]
  },
  {
   "cell_type": "code",
   "execution_count": 9,
   "id": "12963a04",
   "metadata": {},
   "outputs": [
    {
     "name": "stdout",
     "output_type": "stream",
     "text": [
      "Enter year to check leep or not :100\n",
      "100 is not a leep year..!\n"
     ]
    }
   ],
   "source": [
    "year=int(input('Enter year to check leep or not :'))\n",
    "\n",
    "if (year % 400 == 0) and (year % 100 == 0):\n",
    "    print(year,'is a leep year..!')\n",
    "    \n",
    "elif (year % 4 == 0) and (year % 100 != 0):\n",
    "    print(year,'is a leep year..!')\n",
    "    \n",
    "else:\n",
    "    print(year,'is not a leep year..!')"
   ]
  },
  {
   "cell_type": "markdown",
   "id": "59785221",
   "metadata": {},
   "source": [
    "###### 9. Python Program to Check if a Number is Positive, Negative or 0"
   ]
  },
  {
   "cell_type": "code",
   "execution_count": 10,
   "id": "568f5a22",
   "metadata": {},
   "outputs": [
    {
     "name": "stdout",
     "output_type": "stream",
     "text": [
      "Enter required number to check +ve, -ve or zero : 100\n",
      "100.0 is a positive number\n"
     ]
    }
   ],
   "source": [
    "num = float(input('Enter required number to check +ve, -ve or zero : '))\n",
    "\n",
    "if num > 0:\n",
    "    print(num, \"is a positive number\")\n",
    "elif num == 0:\n",
    "    print(num, \"is a zero number\")\n",
    "else:\n",
    "    print(num, 'is negative number')"
   ]
  },
  {
   "cell_type": "markdown",
   "id": "f1c9cf8e",
   "metadata": {},
   "source": [
    "###### 10. Python Program to Find the Largest Among Three Numbers"
   ]
  },
  {
   "cell_type": "code",
   "execution_count": 11,
   "id": "aaa21da7",
   "metadata": {},
   "outputs": [
    {
     "name": "stdout",
     "output_type": "stream",
     "text": [
      "Enter 1st number : 10\n",
      "Enter 2nd number : 20\n",
      "Enter 3rd number : 30\n",
      "The largest number is : 30.0\n"
     ]
    }
   ],
   "source": [
    "a=float(input(\"Enter 1st number : \"))\n",
    "b=float(input(\"Enter 2nd number : \"))\n",
    "c=float(input(\"Enter 3rd number : \"))\n",
    "\n",
    "if (a>=b) and (a>=c):\n",
    "    largest=a\n",
    "    \n",
    "elif (b>=a) and (b>=c):\n",
    "    largest=b\n",
    "    \n",
    "else:\n",
    "    largest=c\n",
    "    \n",
    "print(\"The largest number is :\",largest)"
   ]
  },
  {
   "cell_type": "markdown",
   "id": "908b7cc9",
   "metadata": {},
   "source": [
    "                                                                            Date : 18_April-2023"
   ]
  },
  {
   "cell_type": "markdown",
   "id": "340a3725",
   "metadata": {},
   "source": [
    "###### 11. Cast integer number into str/float/complex/bool"
   ]
  },
  {
   "cell_type": "code",
   "execution_count": 12,
   "id": "26f135a9",
   "metadata": {},
   "outputs": [
    {
     "name": "stdout",
     "output_type": "stream",
     "text": [
      "Integer value 1000\n",
      "****************************************************************************************************\n",
      "Str value : 1000\n",
      "****************************************************************************************************\n",
      "Float value : 1000.0\n",
      "****************************************************************************************************\n",
      "Complex value : (1000+0j)\n",
      "****************************************************************************************************\n",
      "Boolean value : True\n",
      "****************************************************************************************************\n"
     ]
    }
   ],
   "source": [
    "int_num=1000\n",
    "print('Integer value',int_num)\n",
    "print('*'*100)\n",
    "\n",
    "str_num=str(int_num)\n",
    "print('Str value :',str_num)\n",
    "print('*'*100)\n",
    "\n",
    "flt_num=float(int_num)\n",
    "print('Float value :',flt_num)\n",
    "print('*'*100)\n",
    "\n",
    "comp_num=complex(int_num)\n",
    "print('Complex value :',comp_num)\n",
    "print('*'*100)\n",
    "\n",
    "bool_num=bool(int_num)\n",
    "print('Boolean value :',bool_num)\n",
    "print('*'*100)"
   ]
  },
  {
   "cell_type": "markdown",
   "id": "c125b00a",
   "metadata": {},
   "source": [
    "###### 12. Take two numbers and display output on operator functions "
   ]
  },
  {
   "cell_type": "code",
   "execution_count": 13,
   "id": "4d161011",
   "metadata": {},
   "outputs": [
    {
     "name": "stdout",
     "output_type": "stream",
     "text": [
      "x + y = 18\n",
      "....................................................................................................\n",
      "x - y = 10\n",
      "....................................................................................................\n",
      "x * y = 56\n",
      "....................................................................................................\n",
      "x / y = 3.5\n",
      "....................................................................................................\n",
      "x // y = 3\n",
      "....................................................................................................\n",
      "x % y = 2\n",
      "....................................................................................................\n",
      "x ** y = 38416\n"
     ]
    }
   ],
   "source": [
    "x=14\n",
    "y=4\n",
    "\n",
    "print('x + y =',x+y)\n",
    "print('.'*100)\n",
    "\n",
    "print('x - y =',x-y)\n",
    "print('.'*100)\n",
    "\n",
    "print('x * y =',x*y)\n",
    "print('.'*100)\n",
    "\n",
    "print('x / y =',x/y)\n",
    "print('.'*100)\n",
    "\n",
    "print('x // y =',x//y)\n",
    "print('.'*100)\n",
    "\n",
    "print('x % y =',x%y)\n",
    "print('.'*100)\n",
    "\n",
    "print('x ** y =',x**y)\n"
   ]
  },
  {
   "cell_type": "markdown",
   "id": "2fee846f",
   "metadata": {},
   "source": [
    "###### 13. create list by using user input, display ascending and descending order and access that elemets"
   ]
  },
  {
   "cell_type": "code",
   "execution_count": 11,
   "id": "fa381f34",
   "metadata": {},
   "outputs": [
    {
     "name": "stdout",
     "output_type": "stream",
     "text": [
      "Enter the number of elements in the list: 10\n",
      "Enter a number: 100\n",
      "Enter a number: 2\n",
      "Enter a number: 6\n",
      "Enter a number: 2\n",
      "Enter a number: 200\n",
      "Enter a number: 334455\n",
      "Enter a number: 6\n",
      "Enter a number: 7\n",
      "Enter a number: 89\n",
      "Enter a number: 30\n",
      "Original list: [100, 2, 6, 2, 200, 334455, 6, 7, 89, 30]\n",
      "List in ascending order: [2, 2, 6, 6, 7, 30, 89, 100, 200, 334455]\n",
      "List in descending order: [334455, 200, 100, 89, 30, 7, 6, 6, 2, 2]\n",
      "10\n",
      "[334455, 6]\n"
     ]
    }
   ],
   "source": [
    "numbers = []\n",
    "n = int(input(\"Enter the number of elements in the list: \"))\n",
    "\n",
    "for i in range(n):\n",
    "    num = int(input(\"Enter a number: \"))\n",
    "    numbers.append(num)\n",
    "\n",
    "print(\"Original list:\", numbers)\n",
    "\n",
    "print(\"List in ascending order:\", sorted(numbers))\n",
    "\n",
    "print(\"List in descending order:\", sorted(numbers, reverse=True))\n",
    "print(len(numbers))\n",
    "print(numbers[5:7])"
   ]
  },
  {
   "cell_type": "markdown",
   "id": "f3cbe719",
   "metadata": {},
   "source": [
    "###### 14. Create the tuple and append any number in tuple "
   ]
  },
  {
   "cell_type": "code",
   "execution_count": 12,
   "id": "ee2e7da6",
   "metadata": {},
   "outputs": [
    {
     "name": "stdout",
     "output_type": "stream",
     "text": [
      "(1, 2, 55, 66, 600) <class 'tuple'>\n",
      "****************************************************************************************************\n",
      "converting tup to list for append function:\n",
      "[1, 2, 55, 66, 600, 'Digvijay'] <class 'list'>\n",
      "****************************************************************************************************\n",
      "(1, 2, 55, 66, 600, 'Digvijay') <class 'tuple'>\n"
     ]
    }
   ],
   "source": [
    "tup=(1,2,55,66,600)\n",
    "print(tup,type(tup))\n",
    "print('*'*100)\n",
    "\n",
    "print('converting tup to list for append function:')\n",
    "list1=list(tup)\n",
    "list1.append('Digvijay')\n",
    "print(list1,type(list1))\n",
    "print('*'*100)\n",
    "\n",
    "tup=tuple(list1)\n",
    "print(tup,type(tup))"
   ]
  },
  {
   "cell_type": "markdown",
   "id": "79b39f9b",
   "metadata": {},
   "source": [
    "###### 15. create a tuple and display one element seperate from tuple"
   ]
  },
  {
   "cell_type": "code",
   "execution_count": 22,
   "id": "1e53b1aa",
   "metadata": {},
   "outputs": [
    {
     "name": "stdout",
     "output_type": "stream",
     "text": [
      "apple\n",
      "['banana', 'chiku', 'mango']\n",
      "****************************************************************************************************\n",
      "('a', 'b', 'c', 'd', 'e')\n",
      "('d', 's', 'm')\n",
      "merging two tuples: ('a', 'b', 'c', 'd', 'e', 'd', 's', 'm')\n"
     ]
    }
   ],
   "source": [
    "tup=('apple','banana','chiku','mango')\n",
    "(a,*b)=tup\n",
    "print(a)\n",
    "print(b)\n",
    "\n",
    "print('*'*100)\n",
    "\n",
    "tup1=('a','b','c','d','e')\n",
    "tup2=('d','s','m')\n",
    "tup=(*tup1,*tup2)\n",
    "print(tup1)\n",
    "print(tup2)\n",
    "print(\"merging two tuples:\",tup)\n"
   ]
  },
  {
   "cell_type": "markdown",
   "id": "addad1ee",
   "metadata": {},
   "source": [
    "                                                                            Date : 19_April-2023"
   ]
  },
  {
   "cell_type": "markdown",
   "id": "0495ffe5",
   "metadata": {},
   "source": [
    "###### 16. create set and update one set to another"
   ]
  },
  {
   "cell_type": "code",
   "execution_count": 29,
   "id": "8bce1117",
   "metadata": {},
   "outputs": [
    {
     "name": "stdout",
     "output_type": "stream",
     "text": [
      "{1, 2, 3, 4, 5}\n",
      "{6, 7, 8, 9, 10}\n",
      "****************************************************************************************************\n",
      "Updating set1 to set2 : {1, 2, 3, 4, 5, 6, 7, 8, 9, 10}\n",
      "Updating set2 to set1 : {33, 6, 7, 8, 9, 10, 11, 44, 22, 55}\n"
     ]
    }
   ],
   "source": [
    "set1=set([1,2,3,4,5])\n",
    "set2=set((6,7,8,9,10))\n",
    "set3=set([11,22,33,44,55])\n",
    "\n",
    "print(set1)\n",
    "print(set2)\n",
    "print('*'*100)\n",
    "set1.update(set2)\n",
    "print('Updating set1 to set2 :',set1)\n",
    "set2.update(set3)\n",
    "print('Updating set2 to set1 :',set2)"
   ]
  },
  {
   "cell_type": "markdown",
   "id": "278a5a87",
   "metadata": {},
   "source": [
    "###### 17. create a dictionary and access it in different ways"
   ]
  },
  {
   "cell_type": "code",
   "execution_count": 6,
   "id": "ee7aad35",
   "metadata": {},
   "outputs": [
    {
     "name": "stdout",
     "output_type": "stream",
     "text": [
      "Created Dictionary is : {'a': 1, 'b': 2, 'c': 3, 'd': 4, 'e': 5}\n",
      "****************************************************************************************************\n",
      "Accesing element by using given key : 1\n",
      "Accesing element by using index : 1\n",
      "Accesing all keys : dict_keys(['a', 'b', 'c', 'd', 'e'])\n",
      "Accesing all values : dict_values([1, 2, 3, 4, 5])\n",
      "Accesing all key-value pair : dict_items([('a', 1), ('b', 2), ('c', 3), ('d', 4), ('e', 5)])\n"
     ]
    }
   ],
   "source": [
    "dict1={'a':1,'b':2,'c':3,'d':4,'e':5}\n",
    "print('Created Dictionary is :',dict1)\n",
    "print('*'*100)\n",
    "\n",
    "print('Accesing element by using given key :',dict1['a'])\n",
    "print('Accesing element by using index :',dict1.get('a'))\n",
    "print('Accesing all keys :',dict1.keys())\n",
    "print('Accesing all values :',dict1.values())\n",
    "print('Accesing all key-value pair :',dict1.items())"
   ]
  },
  {
   "cell_type": "markdown",
   "id": "a2399343",
   "metadata": {},
   "source": [
    "###### 18. write a program to swap any two values from a list using function swap()\n",
    "input  : list1=[1,2,3,4,5,8,10]\n",
    "output :list2=[1,2,10,4,5,8,3]"
   ]
  },
  {
   "cell_type": "code",
   "execution_count": 12,
   "id": "86476cc5",
   "metadata": {},
   "outputs": [
    {
     "name": "stdout",
     "output_type": "stream",
     "text": [
      "Input List : [1, 2, 3, 4, 5, 8, 10]\n",
      "Output List : [1, 2, 10, 4, 5, 8, 3]\n"
     ]
    }
   ],
   "source": [
    "def swap(lst,i, j):\n",
    "    temp = lst[i]\n",
    "    lst[i] = lst[j]\n",
    "    lst[j] = temp\n",
    "    return lst[i], lst[j]\n",
    "\n",
    "\n",
    "\n",
    "list1=[1,2,3,4,5,8,10] \n",
    "print('Input List :',list1)\n",
    "swap(list1,2,6) # input, index num, index num\n",
    "print('Output List :',list1)"
   ]
  },
  {
   "cell_type": "markdown",
   "id": "9f33263a",
   "metadata": {},
   "source": [
    "###### 19. pass list as argument and get the sum of list\n",
    "list1=[1,2,3,7,4,5,8,10]"
   ]
  },
  {
   "cell_type": "code",
   "execution_count": 15,
   "id": "013192b4",
   "metadata": {},
   "outputs": [
    {
     "name": "stdout",
     "output_type": "stream",
     "text": [
      "inlput list: [1, 2, 3, 7, 4, 5, 8, 10]\n",
      "sum of list : 40\n"
     ]
    }
   ],
   "source": [
    "def sum_list(lst):\n",
    "    total=0\n",
    "    for num in lst:\n",
    "        total+=num\n",
    "    return total \n",
    "    \n",
    "list1=[1,2,3,7,4,5,8,10]\n",
    "print('inlput list:',list1)\n",
    "print('sum of list :',sum_list(list1))"
   ]
  },
  {
   "cell_type": "markdown",
   "id": "2f1c7d8d",
   "metadata": {},
   "source": [
    "###### 20. pass tuple and count number of elemnt in tuple\n",
    "tup=(1,2,3,7,4,5,8,10)"
   ]
  },
  {
   "cell_type": "code",
   "execution_count": 17,
   "id": "af6bf4e1",
   "metadata": {},
   "outputs": [
    {
     "name": "stdout",
     "output_type": "stream",
     "text": [
      "count of tuple is : 8\n"
     ]
    }
   ],
   "source": [
    "def count_ele(tup):\n",
    "    count=len(tup)\n",
    "    return count\n",
    "\n",
    "tup=(1,2,3,4,5,67,99,77)\n",
    "print('count of tuple is :',count_ele(tup))"
   ]
  },
  {
   "cell_type": "markdown",
   "id": "da263cc5",
   "metadata": {},
   "source": [
    "                                                                               Date: 20_April-2023"
   ]
  },
  {
   "cell_type": "markdown",
   "id": "46111f71",
   "metadata": {},
   "source": [
    "###### 21. Create nested dictionary and acces element"
   ]
  },
  {
   "cell_type": "code",
   "execution_count": 14,
   "id": "534da692",
   "metadata": {},
   "outputs": [
    {
     "name": "stdout",
     "output_type": "stream",
     "text": [
      "{'person1': {'name': 'Rohit', 'age': 35, 'address': {'city': 'Mumbai', 'state': 'MH'}}, 'person2': {'name': 'Virat', 'age': 34, 'address': {'city': 'Delhi', 'state': 'DL'}}}\n",
      "****************************************************************************************************\n",
      "accessing address for Person1: {'city': 'Mumbai', 'state': 'MH'}\n",
      "accessing state for Person1: MH\n",
      "accessing address for Person1: Virat\n"
     ]
    }
   ],
   "source": [
    "nested_dict = {\n",
    "    'person1': {'name': 'Rohit', 'age': 35, 'address': {'city': 'Mumbai', 'state': 'MH'}},\n",
    "    'person2': {'name': 'Virat', 'age': 34, 'address': {'city': 'Delhi', 'state': 'DL'}}\n",
    "              }\n",
    "\n",
    "print(nested_dict)\n",
    "print('*'*100)\n",
    "\n",
    "# Accessing element from nested dictionary\n",
    "\n",
    "print('accessing address for Person1:',nested_dict['person1']['address'])\n",
    "print('accessing state for Person1:',nested_dict['person1']['address']['state'])\n",
    "print('accessing address for Person1:',nested_dict['person2']['name'])   \n",
    "      "
   ]
  },
  {
   "cell_type": "code",
   "execution_count": 18,
   "id": "94224a6a",
   "metadata": {},
   "outputs": [
    {
     "name": "stdout",
     "output_type": "stream",
     "text": [
      "{'f_key': {'p_key': {'s_key': {'g_name': 'grans_son_name'}, 's_name': 'son_name'}, 'p_name': 'Parent_name'}}\n"
     ]
    }
   ],
   "source": [
    "grandson = { 'g_name':'grans_son_name'} \n",
    "\n",
    "son = { 's_key' : grandson,'s_name': 'son_name'} \n",
    "\n",
    "parent = {'p_key':son,'p_name':'Parent_name'}\n",
    "\n",
    "family ={'f_key':parent}\n",
    "\n",
    "print(family)"
   ]
  },
  {
   "cell_type": "code",
   "execution_count": 20,
   "id": "eb315210",
   "metadata": {},
   "outputs": [
    {
     "name": "stdout",
     "output_type": "stream",
     "text": [
      "Parent_name\n"
     ]
    }
   ],
   "source": [
    "print(parent['p_name'])"
   ]
  },
  {
   "cell_type": "markdown",
   "id": "0ca322a4",
   "metadata": {},
   "source": [
    "###### 22. For example, assigning grades (A, B, C) based on marks obtained by a student.\n",
    "if the percentage is above 90, assign grade A, if the percentage is above 75, assign grade B,\n",
    "if the percentage is above 65, assign grade C"
   ]
  },
  {
   "cell_type": "code",
   "execution_count": 40,
   "id": "e3ac3b25",
   "metadata": {},
   "outputs": [
    {
     "name": "stdout",
     "output_type": "stream",
     "text": [
      "[99, 100, 56, 75, 88, 34, 30, 50]\n",
      "****************************************************************************************************\n",
      "['A', 'A', 'PASS', 'B', 'B', 'FAIL', 'FAIL', 'PASS']\n"
     ]
    }
   ],
   "source": [
    "lst=[99,100,56,75,88,34,30,50]\n",
    "\n",
    "final_res=[]\n",
    "\n",
    "def result(lst):\n",
    "    for i in lst:\n",
    "        if i<=100 and i>90:\n",
    "            final_res.append('A')\n",
    "        \n",
    "        elif i<90 and i>=75:\n",
    "            final_res.append('B')\n",
    "    \n",
    "        elif i<75 and i>=60:\n",
    "            final_res.append('C')\n",
    "                \n",
    "        elif i<60 and i>=35:\n",
    "            final_res.append('PASS')\n",
    "                \n",
    "        else:\n",
    "            final_res.append('FAIL')\n",
    "    \n",
    "    \n",
    "result(lst)\n",
    "print(lst)\n",
    "print('*'*100)\n",
    "print(final_res)\n",
    "        "
   ]
  },
  {
   "cell_type": "code",
   "execution_count": 46,
   "id": "904036fa",
   "metadata": {},
   "outputs": [
    {
     "name": "stdout",
     "output_type": "stream",
     "text": [
      "{'MAR': 99, 'HINDI': 100, 'ENG': 56, 'SCI': 75, 'SPORT': 88, 'HIST': 34, 'GEO': 30, 'SOCIAL': 50}\n",
      "****************************************************************************************************\n",
      "MAR : A\n",
      "HINDI : A\n",
      "ENG : PASS\n",
      "SCI : B\n",
      "SPORT : B\n",
      "HIST : FAIL\n",
      "GEO : FAIL\n",
      "SOCIAL : PASS\n"
     ]
    }
   ],
   "source": [
    "dict1={'MAR':99,'HINDI':100,'ENG':56,'SCI':75,'SPORT':88,'HIST':34,'GEO':30,'SOCIAL':50}\n",
    "\n",
    "def result(dict1):\n",
    "    for sub, marks in dict1.items():\n",
    "        if marks<=100 and marks>90:\n",
    "            print(sub,\": A\")\n",
    "        \n",
    "        elif marks<90 and marks>=75:\n",
    "            print(sub,\": B\")\n",
    "    \n",
    "        elif marks<75 and marks>=60:\n",
    "            print(sub,\": C\")\n",
    "                \n",
    "        elif marks<60 and marks>=35:\n",
    "            print(sub,\": PASS\")\n",
    "                \n",
    "        else:\n",
    "            print(sub,\": FAIL\")\n",
    "    \n",
    "    \n",
    "\n",
    "print(dict1)\n",
    "print('*'*100)\n",
    "result(dict1)\n",
    "        "
   ]
  },
  {
   "cell_type": "markdown",
   "id": "72553858",
   "metadata": {},
   "source": [
    "###### 23. Python program to find the sum of all items in a dictionary"
   ]
  },
  {
   "cell_type": "code",
   "execution_count": 47,
   "id": "fd48da78",
   "metadata": {},
   "outputs": [
    {
     "name": "stdout",
     "output_type": "stream",
     "text": [
      "532\n"
     ]
    }
   ],
   "source": [
    "dict1={'MAR':99,'HINDI':100,'ENG':56,'SCI':75,'SPORT':88,'HIST':34,'GEO':30,'SOCIAL':50}\n",
    "\n",
    "sum_of_values=sum(dict1.values())\n",
    "\n",
    "print(sum_of_values)"
   ]
  },
  {
   "cell_type": "markdown",
   "id": "f007f29d",
   "metadata": {},
   "source": [
    "###### 24. Python program to remove a key from a dictionary"
   ]
  },
  {
   "cell_type": "code",
   "execution_count": 52,
   "id": "6346ad83",
   "metadata": {},
   "outputs": [
    {
     "name": "stdout",
     "output_type": "stream",
     "text": [
      "Before removing a key: {'IND': 438, 'AUS': 476, 'SA': 434, 'NZ': 380}\n",
      "Key AUS removed from the dictionary\n",
      "After removing a key: {'IND': 438, 'SA': 434, 'NZ': 380}\n"
     ]
    }
   ],
   "source": [
    "my_dict={'IND':438,'AUS':476,'SA':434,'NZ':380}\n",
    "\n",
    "print(\"Before removing a key:\", my_dict)\n",
    "\n",
    "# we need to remove 'AUS' from dictionary\n",
    "remove_key='AUS'\n",
    "\n",
    "if remove_key in my_dict:\n",
    "    del my_dict[remove_key]\n",
    "    print('Key',remove_key ,'removed from the dictionary')\n",
    "else:\n",
    "    print('Key',remove_key ,'not found in the dictionary')\n",
    "    \n",
    "print(\"After removing a key:\", my_dict)"
   ]
  },
  {
   "cell_type": "markdown",
   "id": "ece3ed45",
   "metadata": {},
   "source": [
    "###### 25. Python program to merge two Dictionaries"
   ]
  },
  {
   "cell_type": "code",
   "execution_count": 62,
   "id": "3f273bb2",
   "metadata": {},
   "outputs": [
    {
     "name": "stdout",
     "output_type": "stream",
     "text": [
      "Dictionary 1: {'A': 10, 'B': 20, 'C': 30}\n",
      "Dictionary 2: {'D': 40, 'E': 50, 'F': 50}\n",
      "****************************************************************************************************\n",
      "Merged Dictionary : {'A': 10, 'B': 20, 'C': 30, 'D': 40, 'E': 50, 'F': 50}\n"
     ]
    }
   ],
   "source": [
    "dict1={'A':10, 'B':20, 'C':30}\n",
    "dict2={'D':40, 'E':50, 'F':50}\n",
    "\n",
    "merged_dict={**dict1,**dict2}\n",
    "print('Dictionary 1:',dict1)\n",
    "print('Dictionary 2:',dict2)\n",
    "print('*'*100)\n",
    "print('Merged Dictionary :',merged_dict)"
   ]
  },
  {
   "cell_type": "markdown",
   "id": "20733284",
   "metadata": {},
   "source": [
    "                                                                               Date: 21-April-2023"
   ]
  },
  {
   "cell_type": "markdown",
   "id": "683c8a5b",
   "metadata": {},
   "source": [
    "###### 26. Sort a list of tuples by the second Item"
   ]
  },
  {
   "cell_type": "code",
   "execution_count": 19,
   "id": "1b8143a1",
   "metadata": {},
   "outputs": [
    {
     "name": "stdout",
     "output_type": "stream",
     "text": [
      "[('Rhaul', 1), ('Virat', 18), ('Hardik', 33), ('Rohit', 45)]\n"
     ]
    }
   ],
   "source": [
    "my_list = [('Rohit', 45), ('Virat', 18), ('Hardik', 33), ('Rhaul', 1)]\n",
    "\n",
    "sorted_list = sorted(my_list, key=lambda x: x[1])\n",
    "\n",
    "print(sorted_list)\n"
   ]
  },
  {
   "cell_type": "code",
   "execution_count": 20,
   "id": "558ecba6",
   "metadata": {},
   "outputs": [
    {
     "name": "stdout",
     "output_type": "stream",
     "text": [
      "[(4, 1), (1, 2), (2, 5), (3, 7)]\n"
     ]
    }
   ],
   "source": [
    "my_list = [(2, 5), (1, 2), (4, 1), (3, 7)]\n",
    "\n",
    "sorted_list = sorted(my_list, key=lambda x: x[1])\n",
    "\n",
    "print(sorted_list)\n"
   ]
  },
  {
   "cell_type": "code",
   "execution_count": 38,
   "id": "65dedcc8",
   "metadata": {},
   "outputs": [
    {
     "name": "stdout",
     "output_type": "stream",
     "text": [
      "[{'name': 'Kate', 'age': 18}, {'name': 'Alice', 'age': 20}, {'name': 'John', 'age': 25}, {'name': 'Bob', 'age': 32}]\n"
     ]
    }
   ],
   "source": [
    "# Write a Python program to sort a list of dictionaries using Lambda\n",
    "\n",
    "my_dict_list = [\n",
    "    {'name': 'John', 'age': 25},\n",
    "    {'name': 'Kate', 'age': 18},\n",
    "    {'name': 'Bob', 'age': 32},\n",
    "    {'name': 'Alice', 'age': 20}\n",
    "]\n",
    "\n",
    "sorted_dict = sorted(my_dict_list,key=lambda x: x['age'])\n",
    "\n",
    "print(sorted_dict)"
   ]
  },
  {
   "cell_type": "markdown",
   "id": "6a9c427b",
   "metadata": {},
   "source": [
    "###### 27. Write a Python program to find square and cube every number in a given list of integers using Lambda\n"
   ]
  },
  {
   "cell_type": "code",
   "execution_count": 29,
   "id": "59eb0714",
   "metadata": {},
   "outputs": [
    {
     "name": "stdout",
     "output_type": "stream",
     "text": [
      "[(1, 1), (9, 27), (25, 125), (49, 343), (81, 729), (121, 1331)]\n"
     ]
    }
   ],
   "source": [
    "list1=[1,3,5,7,9,11]\n",
    "\n",
    "# one way\n",
    "funcition_square_cube=lambda x:(x**2,x**3)\n",
    "\n",
    "result=map(funcition_square_cube, list1) # map(function, iterable)\n",
    "\n",
    "print(list(result))"
   ]
  },
  {
   "cell_type": "code",
   "execution_count": 31,
   "id": "b5b3048e",
   "metadata": {},
   "outputs": [
    {
     "name": "stdout",
     "output_type": "stream",
     "text": [
      "[[1, 1], [4, 8], [9, 27], [16, 64]]\n"
     ]
    }
   ],
   "source": [
    "list1=[1,2,3,4]\n",
    "\n",
    "# another way\n",
    "function=lambda x:[x**2,x**3]\n",
    "\n",
    "result=list(map(function,list1))\n",
    "\n",
    "print(result)"
   ]
  },
  {
   "cell_type": "markdown",
   "id": "2c53cb5f",
   "metadata": {},
   "source": [
    "###### 28. Write a Python program to find if a given string starts with a given character using Lambda\n"
   ]
  },
  {
   "cell_type": "code",
   "execution_count": 33,
   "id": "59ebe06d",
   "metadata": {},
   "outputs": [
    {
     "name": "stdout",
     "output_type": "stream",
     "text": [
      "True\n"
     ]
    }
   ],
   "source": [
    "string = 'Digvijay'\n",
    "my_char = 'D'\n",
    "\n",
    "function = lambda x: True if string.startswith(my_char) else False\n",
    "\n",
    "result=function(string)\n",
    "\n",
    "print(result)"
   ]
  },
  {
   "cell_type": "code",
   "execution_count": 36,
   "id": "a69d1d70",
   "metadata": {},
   "outputs": [
    {
     "name": "stdout",
     "output_type": "stream",
     "text": [
      "True\n"
     ]
    }
   ],
   "source": [
    "str1='India is my country'\n",
    "my_char='i'\n",
    "\n",
    "function= lambda x: True if str1.startswith(my_char.upper()) else False\n",
    "\n",
    "print(function(str1))"
   ]
  },
  {
   "cell_type": "markdown",
   "id": "694f7c61",
   "metadata": {},
   "source": [
    "###### 29. Write a Python program to check whether a given string is number or not using Lambda"
   ]
  },
  {
   "cell_type": "code",
   "execution_count": 44,
   "id": "0c3f30c6",
   "metadata": {},
   "outputs": [
    {
     "name": "stdout",
     "output_type": "stream",
     "text": [
      "Given string is number : True\n"
     ]
    }
   ],
   "source": [
    "string='1231'\n",
    "\n",
    "function = lambda x: True if string.isnumeric() else False\n",
    "\n",
    "print(\"Given string is number :\",function(string))"
   ]
  },
  {
   "cell_type": "markdown",
   "id": "2e0e81c4",
   "metadata": {},
   "source": [
    "###### 30. Write a Python program to add two given lists using map and lambda"
   ]
  },
  {
   "cell_type": "code",
   "execution_count": 48,
   "id": "b06f8c21",
   "metadata": {},
   "outputs": [
    {
     "name": "stdout",
     "output_type": "stream",
     "text": [
      "[1, 2, 3, 4, 5]\n",
      "[1, 2, 3, 4, 5]\n",
      "****************************************************************************************************\n",
      "Addition of two list : [2, 4, 6, 8, 10]\n"
     ]
    }
   ],
   "source": [
    "list1=[1,2,3,4,5]\n",
    "list2=[1,2,3,4,5]\n",
    "\n",
    "list12=list1 and list2\n",
    "\n",
    "function = lambda x: x+x\n",
    "\n",
    "result=list(map(function,(list12)))\n",
    "\n",
    "print(list1)\n",
    "print(list2)\n",
    "print('*'*100)\n",
    "print('Addition of two list :',result)"
   ]
  },
  {
   "cell_type": "markdown",
   "id": "88594679",
   "metadata": {},
   "source": [
    "                                                                               Date: 22-April-2023"
   ]
  },
  {
   "cell_type": "markdown",
   "id": "1fc795fb",
   "metadata": {},
   "source": [
    "###### 31. Write a Python program to create Fibonacci series using Lambda\n",
    "\n",
    "\n",
    "    The Fibonacci series is a sequence of numbers that starts with 0 and 1, and each subsequent number in the sequence is the sum of the previous two. The first few numbers in the Fibonacci series are:\n",
    "\n",
    "    0, 1, 1, 2, 3, 5, 8, 13, 21, 34, 55, 89, 144, ..."
   ]
  },
  {
   "cell_type": "code",
   "execution_count": 50,
   "id": "db818aa7",
   "metadata": {},
   "outputs": [
    {
     "name": "stdout",
     "output_type": "stream",
     "text": [
      "0 1 1 2 3 5 8 13 21 "
     ]
    }
   ],
   "source": [
    "# programmed by using \"for loop\" but not understanding in \"lambda\"\n",
    "\n",
    "def fibonacci(num):\n",
    "    first=0\n",
    "    second=1\n",
    "    print(first,end=' ')\n",
    "    print(second,end=' ')\n",
    "    for i in range(num-2):\n",
    "        third=first+second\n",
    "        first=second\n",
    "        second=third\n",
    "        print(third,end=\" \")\n",
    "        \n",
    "fibonacci(9)"
   ]
  },
  {
   "cell_type": "markdown",
   "id": "1bce89ae",
   "metadata": {},
   "source": [
    "###### 32. create set , modify it and access that set elements"
   ]
  },
  {
   "cell_type": "code",
   "execution_count": 54,
   "id": "4b784ea2",
   "metadata": {},
   "outputs": [
    {
     "name": "stdout",
     "output_type": "stream",
     "text": [
      "{1, 2, 4, 5, 6, 7, 8, 9, 44, 45, 50, 55}\n",
      "{1, 2, 4, 5, 6, 7, 8, 9, 100, 44, 45, 50, 55}\n",
      "Accessed element is in set: True\n"
     ]
    }
   ],
   "source": [
    "sett={1,2,44,4,45,5,5,55,50,6,7,7,8,8,8,9}\n",
    "print(sett)\n",
    "\n",
    "# we can modify set by using add method because set is mutable but unordered\n",
    "sett.add(100)\n",
    "print(sett)\n",
    "\n",
    "# accessing modified element\n",
    "access= 100 in sett\n",
    "print('Accessed element is in set:',access)"
   ]
  },
  {
   "cell_type": "markdown",
   "id": "c25d6c54",
   "metadata": {},
   "source": [
    "###### 33. create two sets and display common elements and uncommon elements from both"
   ]
  },
  {
   "cell_type": "code",
   "execution_count": 57,
   "id": "bbd53d26",
   "metadata": {},
   "outputs": [
    {
     "name": "stdout",
     "output_type": "stream",
     "text": [
      "{1, 2, 3, 4}\n",
      "{3, 4, 5, 6, 7}\n",
      "****************************************************************************************************\n",
      "Common elements from both sets are: {3, 4}\n",
      "Uncommon elemets from both sets are: {1, 2, 5, 6, 7}\n"
     ]
    }
   ],
   "source": [
    "s1={1,2,3,4}\n",
    "s2={3,4,5,6,7}\n",
    "\n",
    "print(s1)\n",
    "print(s2)\n",
    "print('*'*100)\n",
    "common_ele = s1.intersection(s2)\n",
    "print('Common elements from both sets are:',common_ele)\n",
    "\n",
    "uncommon_ele=s1.symmetric_difference(s2)\n",
    "print('Uncommon elemets from both sets are:',uncommon_ele)"
   ]
  },
  {
   "cell_type": "markdown",
   "id": "b84a677e",
   "metadata": {},
   "source": [
    "###### 34. create a series of 0 to 30 but skip the 15 and 25"
   ]
  },
  {
   "cell_type": "code",
   "execution_count": 65,
   "id": "a21ee6cb",
   "metadata": {},
   "outputs": [
    {
     "name": "stdout",
     "output_type": "stream",
     "text": [
      "1\n",
      "2\n",
      "3\n",
      "4\n",
      "5\n",
      "6\n",
      "7\n",
      "8\n",
      "9\n",
      "10\n",
      "11\n",
      "12\n",
      "13\n",
      "14\n",
      "Skiped Value : 15\n",
      "16\n",
      "17\n",
      "18\n",
      "19\n",
      "20\n",
      "21\n",
      "22\n",
      "23\n",
      "24\n",
      "Skiped Value : 25\n",
      "26\n",
      "27\n",
      "28\n",
      "29\n",
      "30\n"
     ]
    }
   ],
   "source": [
    "x=1\n",
    "\n",
    "while x<=30:\n",
    "    \n",
    "    if x==15 or x==25:\n",
    "        x+=1\n",
    "        print('Skiped Value :',x-1)\n",
    "        continue\n",
    "    print(x)\n",
    "    x+=1"
   ]
  },
  {
   "cell_type": "markdown",
   "id": "a28e9d7f",
   "metadata": {},
   "source": [
    "###### 35. create a dictionary and display iteration of keys "
   ]
  },
  {
   "cell_type": "code",
   "execution_count": 72,
   "id": "2fb7fed8",
   "metadata": {},
   "outputs": [
    {
     "name": "stdout",
     "output_type": "stream",
     "text": [
      "Name\n",
      "Team\n",
      "Jourcy No\n",
      "Role\n",
      "Sold Value\n"
     ]
    }
   ],
   "source": [
    "dict1 = {\n",
    "    'Name' : 'Rohit',\n",
    "    'Team' : 'Mumbai Indians',\n",
    "    'Jourcy No' : 45,\n",
    "    'Role' : 'Batter',\n",
    "    'Sold Value' : 160000000 \n",
    "       }\n",
    "for i in dict1:\n",
    "    print(i)"
   ]
  },
  {
   "cell_type": "markdown",
   "id": "04f69650",
   "metadata": {},
   "source": [
    "                                                                               Date: 23-April-2023"
   ]
  },
  {
   "cell_type": "markdown",
   "id": "b2d6aea6",
   "metadata": {},
   "source": [
    "###### 36. create a dictionary with unique key-value pair and assign common value to each key"
   ]
  },
  {
   "cell_type": "code",
   "execution_count": 1,
   "id": "25cc1cc6",
   "metadata": {},
   "outputs": [
    {
     "name": "stdout",
     "output_type": "stream",
     "text": [
      "{'A': 10, 'B': 20, 'C': 30, 40: 'D', 50: 'E', 60: 'F'}\n",
      "Assigning same value (\"Common\") to each key\n",
      "{'A': 'Common', 'B': 'Common', 'C': 'Common', 40: 'Common', 50: 'Common', 60: 'Common'}\n"
     ]
    }
   ],
   "source": [
    "dict1={'A':10, 'B': 20, 'C':30, 40:'D', 50:'E', 60:'F' }\n",
    "print(dict1)\n",
    "\n",
    "print('Assigning same value (\"Common\") to each key :')\n",
    "\n",
    "newdict=dict.fromkeys(dict1,'Common')\n",
    "print(newdict)\n"
   ]
  },
  {
   "cell_type": "markdown",
   "id": "cd32cc6e",
   "metadata": {},
   "source": [
    "###### 37. write a program and for removing every third element from list"
   ]
  },
  {
   "cell_type": "code",
   "execution_count": 25,
   "id": "d051a177",
   "metadata": {},
   "outputs": [
    {
     "name": "stdout",
     "output_type": "stream",
     "text": [
      "Sorted list: [1, 2, 4, 5, 7, 8, 10, 11, 13, 14]\n"
     ]
    }
   ],
   "source": [
    "lst = [1,2,3,4,5,6,7,8,9,10,11,12,13,14,15]\n",
    "\n",
    "i=2\n",
    "while i <len(lst):\n",
    "    del lst[i]\n",
    "    i+=2\n",
    "    \n",
    "print('Sorted list:',lst)"
   ]
  },
  {
   "cell_type": "code",
   "execution_count": 9,
   "id": "11e179f7",
   "metadata": {},
   "outputs": [
    {
     "name": "stdout",
     "output_type": "stream",
     "text": [
      "Sorted list: [1, 2, 4, 5, 7, 8, 10, 11, 13, 14]\n",
      "Removed elements [3, 6, 9, 12, 15]\n"
     ]
    }
   ],
   "source": [
    "lst = [1,2,3,4,5,6,7,8,9,10,11,12,13,14,15]\n",
    "\n",
    "removed_elements=[]\n",
    "i=2\n",
    "while i <len(lst):\n",
    "    removed_elements.append(lst.pop(i))\n",
    "    i+=2\n",
    "    \n",
    "print('Sorted list:',lst)\n",
    "print('Removed elements',removed_elements)"
   ]
  },
  {
   "cell_type": "markdown",
   "id": "edf445b4",
   "metadata": {},
   "source": [
    "###### 38. write a program for display five students record by using user input"
   ]
  },
  {
   "cell_type": "code",
   "execution_count": 32,
   "id": "ae1b2f4d",
   "metadata": {},
   "outputs": [
    {
     "name": "stdout",
     "output_type": "stream",
     "text": [
      "Name of student : Abhimanyu\n",
      "Age of student :6\n",
      "Score in percentage : 91.91\n",
      "****************************************************************************************************\n",
      "Student Record :\n",
      "Name: Abhimanyu Age: 6 Score(%) 91.91\n",
      "@@@@@@@@@@@@@@@@@@@@@@@@@@@@@@@@@@@@@@@@@@@@@@@@@@@@@@@@@@@@@@@@@@@@@@@@@@@@@@@@@@@@@@@@@@@@@@@@@@@@\n",
      "Name of student : Shourya\n",
      "Age of student :7\n",
      "Score in percentage : 93.91\n",
      "****************************************************************************************************\n",
      "Student Record :\n",
      "Name: Shourya Age: 7 Score(%) 93.91\n",
      "@@@@@@@@@@@@@@@@@@@@@@@@@@@@@@@@@@@@@@@@@@@@@@@@@@@@@@@@@@@@@@@@@@@@@@@@@@@@@@@@@@@@@@@@@@@@@@@@@@@@\n",
      "Name of student : Atharv\n",
      "Age of student :7\n",
      "Score in percentage : 94.91\n",
      "****************************************************************************************************\n",
      "Student Record :\n",
      "Name: Atharv Age: 7 Score(%) 94.91\n",
      "@@@@@@@@@@@@@@@@@@@@@@@@@@@@@@@@@@@@@@@@@@@@@@@@@@@@@@@@@@@@@@@@@@@@@@@@@@@@@@@@@@@@@@@@@@@@@@@@@@@@\n",
      "Name of student : Amey\n",
      "Age of student :2\n",
      "Score in percentage : 99\n",
      "****************************************************************************************************\n",
      "Student Record :\n",
      "Name: Amey Age: 2 Score(%) 99.0\n",
      "@@@@@@@@@@@@@@@@@@@@@@@@@@@@@@@@@@@@@@@@@@@@@@@@@@@@@@@@@@@@@@@@@@@@@@@@@@@@@@@@@@@@@@@@@@@@@@@@@@@@\n",
      "Name of student : Aditi\n",
      "Age of student :12\n",
      "Score in percentage : 95\n",
      "****************************************************************************************************\n",
      "Student Record :\n",
      "Name: Aditi Age: 12 Score(%) 95.0\n",
      "@@@@@@@@@@@@@@@@@@@@@@@@@@@@@@@@@@@@@@@@@@@@@@@@@@@@@@@@@@@@@@@@@@@@@@@@@@@@@@@@@@@@@@@@@@@@@@@@@@@@\n"
     ]
    }
   ],
   "source": [
    "def stud_record():\n",
    "    name=input('Name of student : ')\n",
    "    age=int(input('Age of student :'))\n",
    "    score=float(input('Score in percentage : '))\n",
    "    print('*'*100)\n",
    "    print('Student Record :')\n",
    "    print('Name:',name,'Age:',age,'Score(%)',score)\n",
    "    print('@'*100)\n",
    "    \n",
    "for i in range(0,5):\n",
    "    stud_record()"
   ]
  },
  {
   "cell_type": "markdown",
   "id": "a982eacd",
   "metadata": {},
   "source": [
    "###### 39. write program for addition of n no of unknown numbers"
   ]
  },
  {
   "cell_type": "code",
   "execution_count": 33,
   "id": "d63f4fe2",
   "metadata": {},
   "outputs": [
    {
     "name": "stdout",
     "output_type": "stream",
     "text": [
      "Addition of unknwokn numbers : 919780\n"
     ]
    }
   ],
   "source": [
    "def add(*numbers):\n",
    "    print('Addition of unknwokn numbers :',sum(numbers))\n",
    "    \n",
    "add(4555,54353,6466,774747,77457,777,757,223,445)"
   ]
  },
  {
   "cell_type": "markdown",
   "id": "bece3a92",
   "metadata": {},
   "source": [
    "###### 40. write a program forargument is key-value pair where order does not matter"
   ]
  },
  {
   "cell_type": "code",
   "execution_count": 34,
   "id": "35d87188",
   "metadata": {},
   "outputs": [
    {
     "name": "stdout",
     "output_type": "stream",
     "text": [
      "first std kid is : Akashay\n",
      "second std kid is : Rohit\n",
      "third std kid is : VIRAT\n",
      "fourth std kid is : Dhoni\n",
      "fifth std kid is : Hardik\n"
     ]
    }
   ],
   "source": [
    "def my_display(kid1,kid3,kid5,kid2,kid4):\n",
    "    print('first std kid is :',kid1)\n",
    "    print('second std kid is :',kid2)\n",
    "    print('third std kid is :',kid3)\n",
    "    print('fourth std kid is :',kid4)\n",
    "    print('fifth std kid is :',kid5)\n",
    "    \n",
    "my_display(kid3='VIRAT',kid2='Rohit',kid1='Akashay',kid4='Dhoni',kid5='Hardik')"
   ]
  },
  {
   "cell_type": "markdown",
   "id": "f4f61e89",
   "metadata": {},
   "source": [
    "                                                                               Date: 24-April-2023"
   ]
  },
  {
   "cell_type": "markdown",
   "id": "eb25749f",
   "metadata": {},
   "source": [
    "###### 41. write a program to create dictionary without manually and dict function  and acces that elements"
   ]
  },
  {
   "cell_type": "code",
   "execution_count": 1,
   "id": "f508fbe7",
   "metadata": {},
   "outputs": [
    {
     "name": "stdout",
     "output_type": "stream",
     "text": [
      "My user defined dictionary : {'Team': 'Mumbai', 'Captan': 'Rohit', 'Age': 36, 'Role': 'Batter'}\n",
      "Accessing dictionary elements : 36\n"
     ]
    }
   ],
   "source": [
    "def dictionary(**name):\n",
    "    print('My user defined dictionary :',name)\n",
    "    print('Accessing dictionary elements :',name['Age'])\n",
    "    \n",
    "dictionary(Team='Mumbai',Captan='Rohit',Age=36,Role='Batter')"
   ]
  },
  {
   "cell_type": "markdown",
   "id": "f6337885",
   "metadata": {},
   "source": [
    "###### 42. write  aprogram for to pass unlimited letters, display lenth of letters and iterate that letters"
   ]
  },
  {
   "cell_type": "code",
   "execution_count": 2,
   "id": "04a1ce22",
   "metadata": {},
   "outputs": [
    {
     "name": "stdout",
     "output_type": "stream",
     "text": [
      "My letters are : ('C', 'H', 'A', 'T', 'R', 'A', 'P', 'A', 'T', 'I', 'S', 'H', 'I', 'V', 'A', 'J', 'I', 'M', 'A', 'H', 'A', 'R', 'A', 'J')\n",
      "Length of letters : 24\n",
      "C\n",
      "H\n",
      "A\n",
      "T\n",
      "R\n",
      "A\n",
      "P\n",
      "A\n",
      "T\n",
      "I\n",
      "S\n",
      "H\n",
      "I\n",
      "V\n",
      "A\n",
      "J\n",
      "I\n",
      "M\n",
      "A\n",
      "H\n",
      "A\n",
      "R\n",
      "A\n",
      "J\n"
     ]
    }
   ],
   "source": [
    "def display(*letters):\n",
    "    print('My letters are :',letters)\n",
    "    l=len(letters)\n",
    "    print('Length of letters :',l)\n",
    "    \n",
    "    for i in letters:\n",
    "        print(i)\n",
    "        \n",
    "display('C','H','A','T','R','A','P','A','T','I','S','H','I','V','A','J','I','M','A','H','A','R','A','J')"
   ]
  },
  {
   "cell_type": "markdown",
   "id": "b37be891",
   "metadata": {},
   "source": [
    "###### 43. write program for display record of student by using init method"
   ]
  },
  {
   "cell_type": "code",
   "execution_count": 7,
   "id": "5a1968f4",
   "metadata": {},
   "outputs": [
    {
     "name": "stdout",
     "output_type": "stream",
     "text": [
      "Total number of student records =3\n",
      "Name of student 1 =A\n",
      "Class name of student 1 =F\n",
      "Roll No of student 1 =10\n",
      "School Name of student 1 =VISION\n",
      "....................................................................................................\n",
      "Name of student 2 =B\n",
      "Class name of student 2 =S\n",
      "Roll No of student 2 =20\n",
      "School Name of student 2 =BLOSSOM\n",
      "....................................................................................................\n",
      "Name of student 3 =C\n",
      "Class name of student 3 =S\n",
      "Roll No of student 3 =30\n",
      "School Name of student 3 =ZP\n",
      "....................................................................................................\n",
      "Name : A\n",
      "Class : F\n",
      "Roll No: 10\n",
      "School Name : VISION\n",
      "****************************************************************************************************\n",
      "Name : B\n",
      "Class : S\n",
      "Roll No: 20\n",
      "School Name : BLOSSOM\n",
      "****************************************************************************************************\n",
      "Name : C\n",
      "Class : S\n",
      "Roll No: 30\n",
      "School Name : ZP\n",
      "****************************************************************************************************\n"
     ]
    }
   ],
   "source": [
    "class Stud_record:\n",
    "    \n",
    "    def __init__(self,name,cls,rollno,school):\n",
    "        self.name=name\n",
    "        self.cls=cls\n",
    "        self.rollno=rollno\n",
    "        self.school=school\n",
    "        \n",
    "    def display_record(self):\n",
    "        print('Name :',self.name)\n",
    "        print('Class :',self.cls)\n",
    "        print('Roll No:',self.rollno)\n",
    "        print('School Name :',self.school)\n",
    "        \n",
    "\n",
    "number_of_stud=int(input('Total number of student records ='))\n",
    "\n",
    "object_list=[]\n",
    "\n",
    "for i in range(number_of_stud):\n",
    "    name=input('Name of student {} ='.format(i+1))\n",
    "    cls=input('Class name of student {} ='.format(i+1))\n",
    "    rollno=int(input('Roll No of student {} ='.format(i+1)))\n",
    "    school=input('School Name of student {} ='.format(i+1))\n",
    "    object_list.append(Stud_record(name,cls,rollno,school))\n",
    "    print('.'*100)\n",
    "    \n",
    "print('Displaying Student Record .......')\n",
    "print('.'*100)\n",
    "\n",
    "for student in object_list:\n",
    "    student.display_record()\n",
    "    print('*'*100)\n",
    "    "
   ]
  },
  {
   "cell_type": "markdown",
   "id": "5d6baaa2",
   "metadata": {},
   "source": [
    "###### 44. write program for \"how for loop internally work\" by using iter and next."
   ]
  },
  {
   "cell_type": "code",
   "execution_count": 5,
   "id": "c86a57a9",
   "metadata": {},
   "outputs": [
    {
     "name": "stdout",
     "output_type": "stream",
     "text": [
      "1\n",
      "2\n",
      "3\n",
      "4\n",
      "5\n",
      "6\n",
      "7\n",
      "8\n",
      "9\n",
      "10\n"
     ]
    }
   ],
   "source": [
    "class internal_code_forloop:\n",
    "    \n",
    "    def __iter__(self):\n",
    "        self.val=1\n",
    "        return self\n",
    "    \n",
    "    def __next__(self):\n",
    "        x=self.val\n",
    "        self.val+=1\n",
    "        \n",
    "        if x>10:\n",
    "            raise StopIteration\n",
    "        return x\n",
    "    \n",
    "loop = internal_code_forloop()\n",
    "\n",
    "itr=iter(loop)\n",
    "\n",
    "for i in itr:\n",
    "    print(i)"
   ]
  },
  {
   "cell_type": "markdown",
   "id": "585e059d",
   "metadata": {},
   "source": [
    "###### 45. write a program for class 2 inherit properties of class 1 "
   ]
  },
  {
   "cell_type": "code",
   "execution_count": 6,
   "id": "8dbdc617",
   "metadata": {},
   "outputs": [
    {
     "name": "stdout",
     "output_type": "stream",
     "text": [
      "Accessing through paratent class:\n",
      "Player Name: Rohit\n",
      "Team Name : Mumbai Indians\n",
      "City Name : Mumbai\n",
      "....................................................................................................\n",
      "Accessing parent through child class:\n",
      "Player Name: Rohit\n",
      "Team Name : Mumbai Indians\n",
      "City Name : Mumbai\n",
      "....................................................................................................\n",
      "Accessing child through child class:\n",
      "Player Name: Rohit\n",
      "Team Name : Mumbai Indians\n",
      "City Name : Mumbai\n",
      "Jersey Number: 45\n"
     ]
    }
   ],
   "source": [
    "class base:\n",
    "    \n",
    "    def __init__(self,name,team,city):\n",
    "        self.name=name\n",
    "        self.team=team\n",
    "        self.city=city\n",
    "        \n",
    "    def pdisplay(self):\n",
    "        print('Player Name:',self.name)\n",
    "        print('Team Name :',self.team)\n",
    "        print('City Name :',self.city)\n",
    "        \n",
    "class child(base):\n",
    "    \n",
    "    def __init__(self,name,team,city,jersey):\n",
    "        self.name=name\n",
    "        self.team=team\n",
    "        self.city=city\n",
    "        self.jersey=jersey\n",
    "        \n",
    "    def cdisplay(self):\n",
    "        print('Player Name:',self.name)\n",
    "        print('Team Name :',self.team)\n",
    "        print('City Name :',self.city)\n",
    "        print('Jersey Number:',self.jersey)\n",
    "        \n",
    "\n",
    "print('Accessing through paratent class:')    \n",
    "obj=base('Rohit','Mumbai Indians','Mumbai')\n",
    "obj.pdisplay()\n",
    "\n",
    "print('.'*100)\n",
    "\n",
    "print('Accessing parent through child class:')    \n",
    "obj=child('Rohit','Mumbai Indians','Mumbai',45)\n",
    "obj.pdisplay()\n",
    "\n",
    "print('.'*100)\n",
    "\n",
    "print('Accessing child through child class:')    \n",
    "obj=child('Rohit','Mumbai Indians','Mumbai',45)\n",
    "obj.cdisplay()"
   ]
  },
  {
   "cell_type": "markdown",
   "id": "e6aecbce",
   "metadata": {},
   "source": [
    "                                                                               Date: 25-April-2023"
   ]
  },
  {
   "cell_type": "markdown",
   "id": "cec9ca0a",
   "metadata": {},
   "source": [
    "###### 46. write program for match object of \"is\" and \"who\" for given string and also display start and end location of above object\n",
    "“Progress is impossible without change, and those who cannot change their minds cannot change anything”"
   ]
  },
  {
   "cell_type": "code",
   "execution_count": 10,
   "id": "4d3b71ac",
   "metadata": {},
   "outputs": [
    {
     "name": "stdout",
     "output_type": "stream",
     "text": [
      "Yes string starts with 'Progress' Ends with 'anything'\n",
      "input string for above string : Progress is impossible without change, and those who cannot change their minds cannot change anything\n",
      "start index 0\n",
      "end index 101\n",
      "start and end index for above object (0, 101)\n"
     ]
    }
   ],
   "source": [
    "import re\n",
    "txt = \"Progress is impossible without change, and those who cannot change their minds cannot change anything\"\n",
    "x=re.search(\"^Progress.*anything$\",txt)\n",
    "\n",
    "if x:\n",
    "    print(\"Yes string starts with 'Progress' Ends with 'anything'\")\n",
    "else:\n",
    "    print('Does not have match')\n",
    "    \n",
    "print('input string for above string :',x.string)\n",
    "print('start index',x.start())\n",
    "print('end index',x.end())\n",
    "print('start and end index for above object',x.span())"
   ]
  },
  {
   "cell_type": "markdown",
   "id": "c9858ec2",
   "metadata": {},
   "source": [
    "###### 47. write the program for to find the perticular characters occurance in a string. "
   ]
  },
  {
   "cell_type": "code",
   "execution_count": 25,
   "id": "11b90564",
   "metadata": {},
   "outputs": [
    {
     "name": "stdout",
     "output_type": "stream",
     "text": [
      "Enter string to findout perticular words: After spending five years in this organization\n",
      "txt : After spending five years in this organization\n",
      "Enter word to find :i\n"
     ]
    },
    {
     "data": {
      "text/plain": [
       "[6]"
      ]
     },
     "execution_count": 25,
     "metadata": {},
     "output_type": "execute_result"
    }
   ],
   "source": [
    "def occurance():\n",
    "    import re\n",
    "    count=[]\n",
    "    txt=input('Enter string to findout perticular words: ')\n",
    "    print('txt :',txt)\n",
    "    list1=input('Enter word to find :')\n",
    "    \n",
    "    for i in list1:\n",
    "        cnt=re.findall(i,txt)\n",
    "        count.append(len(cnt))\n",
    "    return count\n",
    "\n",
    "occurance()    "
   ]
  },
  {
   "cell_type": "markdown",
   "id": "877aa451",
   "metadata": {},
   "source": [
    "###### 48. write the program for to find the words occurance in a string."
   ]
  },
  {
   "cell_type": "code",
   "execution_count": 28,
   "id": "7c08cab1",
   "metadata": {},
   "outputs": [
    {
     "data": {
      "text/plain": [
       "[3, 2, 3]"
      ]
     },
     "execution_count": 28,
     "metadata": {},
     "output_type": "execute_result"
    }
   ],
   "source": [
    "def word():\n",
    "    import re\n",
    "    count=[]\n",
    "    txt='I strongly believe that this new change in my career will be my new beginning towards advancement'\n",
    "    list1=['in','my','be']\n",
    "    \n",
    "    for i in list1:\n",
    "        cnt=re.findall(i,txt)\n",
    "        count.append(len(cnt))\n",
    "    return count\n",
    "\n",
    "word()"
   ]
  },
  {
   "cell_type": "markdown",
   "id": "e5bab85a",
   "metadata": {},
   "source": [
    "###### 49. write the program on try and except error on division opeartion"
   ]
  },
  {
   "cell_type": "code",
   "execution_count": 31,
   "id": "e6a4cba0",
   "metadata": {},
   "outputs": [
    {
     "name": "stdout",
     "output_type": "stream",
     "text": [
      "Yeah..! your answer is =  1\n"
     ]
    }
   ],
   "source": [
    "def divide(x,y):\n",
    "    try:\n",
    "        result=x//y\n",
    "        print('Yeah..! your answer is = ',result)\n",
    "        \n",
    "    except ZeroDivisionError:\n",
    "        print('Sorry ! You are dividing by zero')\n",
    "        \n",
    "divide(10,10)"
   ]
  },
  {
   "cell_type": "code",
   "execution_count": 32,
   "id": "af9b98d3",
   "metadata": {},
   "outputs": [
    {
     "name": "stdout",
     "output_type": "stream",
     "text": [
      "Sorry ! You are dividing by zero\n"
     ]
    }
   ],
   "source": [
    "def divide(x,y):\n",
    "    try:\n",
    "        result=x//y\n",
    "        print('Yeah..! your answer is = ',result)\n",
    "        \n",
    "    except ZeroDivisionError:\n",
    "        print('Sorry ! You are dividing by zero')\n",
    "        \n",
    "divide(10,0)"
   ]
  },
  {
   "cell_type": "markdown",
   "id": "b800c22e",
   "metadata": {},
   "source": [
    "###### 50. write program for findout value error by using try except method"
   ]
  },
  {
   "cell_type": "code",
   "execution_count": 34,
   "id": "a003c3c4",
   "metadata": {},
   "outputs": [
    {
     "name": "stdout",
     "output_type": "stream",
     "text": [
      "Enter number :99.99\n",
      "Oops! That was no valid number,Try again..!\n",
      "Enter number :100\n"
     ]
    }
   ],
   "source": [
    "while True:\n",
    "    try:\n",
    "        x=int(input('Enter number :'))\n",
    "        break\n",
    "    except ValueError:\n",
    "        print(\"Oops! That was no valid number,Try again..!\")"
   ]
  },
  {
   "cell_type": "markdown",
   "id": "316921e9",
   "metadata": {},
   "source": [
    "                                                                                                 Date: 26-April-2023"
   ]
  },
  {
   "cell_type": "markdown",
   "id": "3735ff1e",
   "metadata": {},
   "source": [
    "# NumPy Programming"
   ]
  },
  {
   "cell_type": "markdown",
   "id": "3d3e4a02",
   "metadata": {},
   "source": [
    "###### 51. . Create a null vector of size 10"
   ]
  },
  {
   "cell_type": "code",
   "execution_count": 1,
   "id": "cd4774b6",
   "metadata": {},
   "outputs": [
    {
     "name": "stdout",
     "output_type": "stream",
     "text": [
      "[0. 0. 0. 0. 0. 0. 0. 0. 0. 0.]\n"
     ]
    }
   ],
   "source": [
    "import numpy as np\n",
    "\n",
    "arr=np.zeros(10)\n",
    "print(arr)"
   ]
  },
  {
   "cell_type": "markdown",
   "id": "f2286f5d",
   "metadata": {},
   "source": [
    "###### 52.  How to find the memory size of an array"
   ]
  },
  {
   "cell_type": "code",
   "execution_count": 10,
   "id": "5dfba345",
   "metadata": {},
   "outputs": [
    {
     "name": "stdout",
     "output_type": "stream",
     "text": [
      "[1 2 3 4 5 6 7 8 9]\n",
      "[[[1 2 3]\n",
      "  [4 5 6]\n",
      "  [7 8 9]]]\n",
      "memory size of arr in bytes : 4\n",
      "memory size of arr2 in bytes : 4\n"
     ]
    }
   ],
   "source": [
    "arr=np.arange(1,10)\n",
    "print(arr)\n",
    "arr2=arr.reshape(1,3,3)\n",
    "print(arr2)\n",
    "\n",
    "# checking memory size of array\n",
    "\n",
    "print('memory size of arr in bytes :',arr.itemsize)\n",
    "print('memory size of arr2 in bytes :',arr2.itemsize)"
   ]
  },
  {
   "cell_type": "markdown",
   "id": "63f628c0",
   "metadata": {},
   "source": [
    "###### 53. Create a null vector of size 10 but the fifth value which is 1"
   ]
  },
  {
   "cell_type": "code",
   "execution_count": 12,
   "id": "823718f9",
   "metadata": {},
   "outputs": [
    {
     "name": "stdout",
     "output_type": "stream",
     "text": [
      "[0. 0. 0. 0. 0. 1. 0. 0. 0. 0.]\n"
     ]
    }
   ],
   "source": [
    "arr=np.zeros(10)\n",
    "arr[5]=1\n",
    "print(arr)"
   ]
  },
  {
   "cell_type": "markdown",
   "id": "453f827a",
   "metadata": {},
   "source": [
    "###### 54.  Create a vector with values ranging from 15 to 45"
   ]
  },
  {
   "cell_type": "code",
   "execution_count": 13,
   "id": "4b739a8f",
   "metadata": {},
   "outputs": [
    {
     "name": "stdout",
     "output_type": "stream",
     "text": [
      "[15 16 17 18 19 20 21 22 23 24 25 26 27 28 29 30 31 32 33 34 35 36 37 38\n",
      " 39 40 41 42 43 44 45]\n"
     ]
    }
   ],
   "source": [
    "arr=np.arange(15,46)\n",
    "print(arr)"
   ]
  },
  {
   "cell_type": "markdown",
   "id": "b58161ad",
   "metadata": {},
   "source": [
    "###### 55. Reverse a vector (The first element becomes last)"
   ]
  },
  {
   "cell_type": "code",
   "execution_count": 17,
   "id": "024da1cc",
   "metadata": {},
   "outputs": [
    {
     "name": "stdout",
     "output_type": "stream",
     "text": [
      "original array : [1 2 3 4 5 6 7 8 9]\n",
      "modified array : [9 8 7 6 5 4 3 2 1]\n"
     ]
    }
   ],
   "source": [
    "arr=np.arange(1,10)\n",
    "print('original array :',arr)\n",
    "print('modified array :',arr[::-1])"
   ]
  },
  {
   "cell_type": "markdown",
   "id": "49e896c1",
   "metadata": {},
   "source": [
    "                                                                                                         Date: 27-April-2023"
   ]
  },
  {
   "cell_type": "markdown",
   "id": "52462592",
   "metadata": {},
   "source": [
    "###### 56. . Write a NumPy program to add, subtract, multiply, divide arguments element-wise"
   ]
  },
  {
   "cell_type": "code",
   "execution_count": 1,
   "id": "a8f51065",
   "metadata": {},
   "outputs": [
    {
     "name": "stdout",
     "output_type": "stream",
     "text": [
      "arr1 : [1 2 3 4 5]\n",
      "arr2 : [ 6  7  8  9 10]\n",
      "addition of arr1 and arr2 : [ 7  9 11 13 15]\n",
      "subsrtaction of arr1 and arr2 : [-5 -5 -5 -5 -5]\n",
      "multiplication of arr1 and arr2 : [ 6 14 24 36 50]\n",
      "division of arr1 and arr2 : [0.16666667 0.28571429 0.375      0.44444444 0.5       ]\n"
     ]
    }
   ],
   "source": [
    "import numpy as np\n",
    "\n",
    "arr1=np.arange(1,6)\n",
    "arr2=np.arange(6,11)\n",
    "print('arr1 :',arr1)\n",
    "print('arr2 :',arr2)\n",
    "\n",
    "add=np.array(arr1+arr2)\n",
    "print('addition of arr1 and arr2 :',add)\n",
    "\n",
    "sub=np.array(arr1-arr2)\n",
    "print('subsrtaction of arr1 and arr2 :',sub)\n",
    "\n",
    "mul=np.array(arr1*arr2)\n",
    "print('multiplication of arr1 and arr2 :',mul)\n",
    "\n",
    "div=np.array(arr1/arr2)\n",
    "print('division of arr1 and arr2 :',div)"
   ]
  },
  {
   "cell_type": "markdown",
   "id": "a0df54d4",
   "metadata": {},
   "source": [
    "###### 57. Write a NumPy program to round elements of the array to the nearest integer"
   ]
  },
  {
   "cell_type": "code",
   "execution_count": 3,
   "id": "190ebf88",
   "metadata": {},
   "outputs": [
    {
     "name": "stdout",
     "output_type": "stream",
     "text": [
      "Original array : [  1.25   1.55   1.75   1.99   2.18  10.77 100.9 ]\n",
      "Rounded array : [  1.   2.   2.   2.   2.  11. 101.]\n"
     ]
    }
   ],
   "source": [
    "arr=np.array([1.25, 1.55, 1.75, 1.99, 2.18, 10.77, 100.9])\n",
    "\n",
    "print('Original array :',arr)\n",
    "\n",
    "round_arr=np.round(arr)\n",
    "print('Rounded array :',round_arr)\n"
   ]
  },
  {
   "cell_type": "markdown",
   "id": "2af6c198",
   "metadata": {},
   "source": [
    "###### 58. Write a NumPy program to get the floor and ceiling values of the elements of a NumPy array"
   ]
  },
  {
   "cell_type": "code",
   "execution_count": 7,
   "id": "28b17bfb",
   "metadata": {},
   "outputs": [
    {
     "name": "stdout",
     "output_type": "stream",
     "text": [
      "array of elements : [10 20 30 40 50]\n",
      "array of divisors elements : [3 4 5 6 7]\n",
      "normal division : [3.33333333 5.         6.         6.66666667 7.14285714]\n",
      "floor division : [3 5 6 6 7]\n",
      "ceiling division : [4. 5. 6. 7. 8.]\n"
     ]
    }
   ],
   "source": [
    "arr = np.array([10, 20, 30, 40, 50])\n",
    "divisors = np.array([3, 4, 5, 6, 7])\n",
    "print('array of elements :',arr)\n",
    "print('array of divisors elements :',divisors)\n",
    "\n",
    "div_arr=np.array(arr/ divisors)\n",
    "print('normal division :',div_arr)\n",
    "\n",
    "floor_arr=np.floor_divide(arr, divisors)\n",
    "print('floor division :',floor_arr)\n",
    "\n",
    "ceiling_arr = np.ceil(arr/divisors)\n",
    "print('ceiling division :',ceiling_arr)"
   ]
  },
  {
   "cell_type": "markdown",
   "id": "ac14574d",
   "metadata": {},
   "source": [
    "###### 59. Write a NumPy program to calculate mean across dimensions, in a 2D NumPy array."
   ]
  },
  {
   "cell_type": "code",
   "execution_count": 13,
   "id": "0a5e3c84",
   "metadata": {},
   "outputs": [
    {
     "name": "stdout",
     "output_type": "stream",
     "text": [
      "2D array : [[1 2 3]\n",
      " [4 5 6]]\n",
      "Row means : [2. 5.]\n",
      "Columns means : [2.5 3.5 4.5]\n"
     ]
    }
   ],
   "source": [
    "arr=np.array([[1,2,3],[4,5,6]])\n",
    "print('2D array :',arr)\n",
    "\n",
    "row_mean=np.mean(arr,axis=1)\n",
    "print('Row means :',row_mean)\n",
    "\n",
    "col_mean=np.mean(arr,axis=0)\n",
    "print('Columns means :',col_mean)"
   ]
  },
  {
   "cell_type": "code",
   "execution_count": 16,
   "id": "777416bc",
   "metadata": {},
   "outputs": [
    {
     "name": "stdout",
     "output_type": "stream",
     "text": [
      "odd_array : [10 20 30]\n",
      "even_array : [20 40 60 80]\n",
      "odd array mean : 20.0\n",
      "odd array mean : 50.0\n"
     ]
    }
   ],
   "source": [
    "odd_data_point_arr=np.array([10,20,30])\n",
    "even_data_point_arr=np.array([20,40,60,80])\n",
    "print('odd_array :',odd_data_point_arr)\n",
    "print('even_array :',even_data_point_arr)\n",
    "\n",
    "odd_mean = np.mean(odd_data_point_arr)\n",
    "print('odd array mean :',odd_mean)\n",
    "\n",
    "even_mean = np.mean(even_data_point_arr)\n",
    "print('odd array mean :',even_mean)"
   ]
  },
  {
   "cell_type": "markdown",
   "id": "8e5faddb",
   "metadata": {},
   "source": [
    "###### 60. Write a NumPy program to convert angles from degrees to radians for all elements in a given array.\n",
    "\n",
    "A degree is a unit of angle measurement, where one full circle (360 degrees) represents a **complete rotation**. In NumPy, angles can be expressed in degrees using the deg unit.\n",
    "\n",
    "A radian is another unit of angle measurement, where one full circle (360 degrees) is equal to **2*pi radians**. In NumPy, angles can be expressed in radians using the rad unit.\n",
    "\n",
    "NumPy provides various functions to convert between degrees and radians, such as np.deg2rad() and np.rad2deg(). These functions can be used to convert an array of angles from one unit to another."
   ]
  },
  {
   "cell_type": "code",
   "execution_count": 17,
   "id": "09a111fc",
   "metadata": {},
   "outputs": [
    {
     "name": "stdout",
     "output_type": "stream",
     "text": [
      "degree element array : [  0  30  45  60  90 120 180 240 300 360]\n",
      "degree to radian converted array : [0.         0.52359878 0.78539816 1.04719755 1.57079633 2.0943951\n",
      " 3.14159265 4.1887902  5.23598776 6.28318531]\n"
     ]
    }
   ],
   "source": [
    "deg_arr=np.array([0, 30, 45 ,60, 90, 120, 180, 240, 300, 360])\n",
    "print('degree element array :',deg_arr)\n",
    "\n",
    "deg_to_rad_arr = np.deg2rad(deg_arr)\n",
    "\n",
    "print('degree to radian converted array :',deg_to_rad_arr)"
   ]
  },
  {
   "cell_type": "markdown",
   "id": "adfbdfc3",
   "metadata": {},
   "source": [
    "                                                                                                         Date: 28-April-2023"
   ]
  },
  {
   "cell_type": "markdown",
   "id": "d0fd301a",
   "metadata": {},
   "source": [
    "###### 61. What is the use of all and any function in numpy?"
   ]
  },
  {
   "cell_type": "markdown",
   "id": "5c822542",
   "metadata": {},
   "source": [
    "The **all()** function returns **True** if **all elements in the array evaluate to True** for the given condition, and **False otherwise**\n",
    "\n",
    "The **any()** function, on the other hand, returns **True if at least one element in the array** evaluates to True for the given condition, and **False otherwise**."
   ]
  },
  {
   "cell_type": "code",
   "execution_count": 12,
   "id": "8d23a56d",
   "metadata": {},
   "outputs": [
    {
     "name": "stdout",
     "output_type": "stream",
     "text": [
      "[1 0 1 1 2 3]\n",
      "[1 1 1 1 1 2]\n",
      "[0 0 0 0 0]\n",
      "****************************************************************************************************\n",
      "np.any() operation for arr1: True\n",
      "np.any() operation for arr2: True\n",
      "np.any() operation for arr3: False\n",
      "****************************************************************************************************\n",
      "np.all() operation for arr1: False\n",
      "np.all() operation for arr2: True\n",
      "np.all() operation for arr3: False\n"
     ]
    }
   ],
   "source": [
    "import numpy as np\n",
    "\n",
    "\n",
    "arr1=np.array([True, False, True, 1 , 2, 3])\n",
    "print(arr1)\n",
    "arr2=np.array([True, True, True, True, 1, 2])\n",
    "print(arr2)\n",
    "arr3=np.array([0,0,0,0,0])\n",
    "print(arr3)\n",
    "\n",
    "print('*'*100)\n",
    "\n",
    "print('np.any() operation for arr1:',np.any(arr1))\n",
    "print('np.any() operation for arr2:',np.any(arr2))\n",
    "print('np.any() operation for arr3:',np.any(arr3))\n",
    "\n",
    "print('*'*100)\n",
    "\n",
    "print('np.all() operation for arr1:',np.all(arr1))\n",
    "print('np.all() operation for arr2:',np.all(arr2))\n",
    "print('np.all() operation for arr3:',np.all(arr3))"
   ]
  },
  {
   "cell_type": "markdown",
   "id": "10b35a16",
   "metadata": {},
   "source": [
    "###### 62. Create a 3x3 matrix with values ranging from 0 to 8\n",
    "    [[0 1 2]\n",
    "    [3 4 5]\n",
    "    [6 7 8]]\n"
   ]
  },
  {
   "cell_type": "code",
   "execution_count": 24,
   "id": "9f67e2f7",
   "metadata": {},
   "outputs": [
    {
     "name": "stdout",
     "output_type": "stream",
     "text": [
      "[0 1 2 3 4 5 6 7 8]\n",
      "array for 3x3 matrix with values ranging from 0 to 8 :\n",
      " [[0 1 2]\n",
      " [3 4 5]\n",
      " [6 7 8]]\n"
     ]
    }
   ],
   "source": [
    "arr=np.arange(0,9)\n",
    "print(arr)\n",
    "arr_2d=arr.reshape(3,3)\n",
    "print('array for 3x3 matrix with values ranging from 0 to 8 :\\n',arr_2d)"
   ]
  },
  {
   "cell_type": "markdown",
   "id": "932cabbb",
   "metadata": {},
   "source": [
    "###### 63. How to reverse the columns of a 2D array?\n",
    "    ([[2, 1, 0],\n",
    "    [5, 4, 3],\n",
    "    [8, 7, 6]])\n"
   ]
  },
  {
   "cell_type": "code",
   "execution_count": 32,
   "id": "782dbd74",
   "metadata": {},
   "outputs": [
    {
     "name": "stdout",
     "output_type": "stream",
     "text": [
      "[[0 1 2]\n",
      " [3 4 5]\n",
      " [6 7 8]]\n",
      "****************************************************************************************************\n",
      "Printing reverse the columns of 2D array:\n"
     ]
    },
    {
     "data": {
      "text/plain": [
       "array([[2, 1, 0],\n",
       "       [5, 4, 3],\n",
       "       [8, 7, 6]])"
      ]
     },
     "execution_count": 32,
     "metadata": {},
     "output_type": "execute_result"
    }
   ],
   "source": [
    "arr=np.arange(0,9)\n",
    "arr_2d=arr.reshape(3,3)\n",
    "print(arr_2d)\n",
    "print('*'*100)\n",
    "print('Printing reverse the columns of 2D array:')\n",
    "arr_2d[:,::-1]"
   ]
  },
  {
   "cell_type": "markdown",
   "id": "054225ca",
   "metadata": {},
   "source": [
    "###### 64. How to reverse the rows of a 2D array?\n",
    "    [[6, 7, 8],\n",
    "    [3, 4, 5],\n",
    "    [0, 1, 2]]\n"
   ]
  },
  {
   "cell_type": "code",
   "execution_count": 37,
   "id": "fb1a8256",
   "metadata": {},
   "outputs": [
    {
     "name": "stdout",
     "output_type": "stream",
     "text": [
      "original array : [0 1 2 3 4 5 6 7 8]\n",
      "reversed  array : [8 7 6 5 4 3 2 1 0]\n",
      "Converted array : [[8 7 6]\n",
      " [5 4 3]\n",
      " [2 1 0]]\n",
      "****************************************************************************************************\n",
      "Printing reverse the columns of 2D array:\n",
      " [[6 7 8]\n",
      " [3 4 5]\n",
      " [0 1 2]]\n"
     ]
    }
   ],
   "source": [
    "arr=np.arange(0,9)\n",
    "print('original array :',arr)\n",
    "\n",
    "# making the array reverse \n",
    "arr2 = arr[::-1]\n",
    "print('reversed  array :',arr2)\n",
    "\n",
    "# converting array into 2d\n",
    "arr_2d=arr2.reshape(3,3)\n",
    "print(\"Converted array :\",arr_2d)\n",
    "\n",
    "print('*'*100)\n",
    "\n",
    "arr2=arr_2d[:,::-1]\n",
    "print('Printing reverse the columns of 2D array:\\n',arr2)"
   ]
  },
  {
   "cell_type": "markdown",
   "id": "8d47aa6e",
   "metadata": {},
   "source": [
    "###### 65.  Find indices of non-zero elements from [1,2,0,0,4,0]"
   ]
  },
  {
   "cell_type": "code",
   "execution_count": 39,
   "id": "7eaedb66",
   "metadata": {},
   "outputs": [
    {
     "name": "stdout",
     "output_type": "stream",
     "text": [
      "Original Array : [1 2 0 0 4 0]\n",
      "non-zero elements in array :\n",
      " (array([0, 1, 4], dtype=int64),)\n"
     ]
    }
   ],
   "source": [
    "arr=np.array([1,2,0,0,4,0])\n",
    "print('Original Array :',arr)\n",
    "\n",
    "non_zero_array=arr.nonzero()\n",
    "print('non-zero elements in array :\\n',non_zero_array)"
   ]
  },
  {
   "cell_type": "markdown",
   "id": "2e71d8fc",
   "metadata": {},
   "source": [
    "                                                                                                         Date: 29-April-2023"
   ]
  },
  {
   "cell_type": "markdown",
   "id": "4cdfca38",
   "metadata": {},
   "source": [
    "###### 66. Write a NumPy program to compute the determinant of an array."
   ]
  },
  {
   "cell_type": "raw",
   "id": "89395c8d",
   "metadata": {},
   "source": [
    "| a  b |\n",
    "| c  d |\n",
    "\n",
    "the determinant is defined as det(A) = ad - bc\n",
    "\n",
    "**Note that the det() function can only be used to compute the determinant of a square matrix**\n",
    "\n",
    "| 1  2 |\n",
    "| 3  4 |\n",
    "\n",
    "the determinant is defined as det(A) = 1*4 - 2*3 = 4 - 6 = -2"
   ]
  },
  {
   "cell_type": "code",
   "execution_count": 40,
   "id": "35bb810c",
   "metadata": {},
   "outputs": [
    {
     "name": "stdout",
     "output_type": "stream",
     "text": [
      "[[1 2]\n",
      " [3 4]]\n",
      "Determinant of array : -2.0000000000000004\n"
     ]
    }
   ],
   "source": [
    "arr=np.array([[1,2],[3,4]])\n",
    "print(arr)\n",
    "\n",
    "determinant=np.linalg.det(arr)\n",
    "print('Determinant of array :',determinant)"
   ]
  },
  {
   "cell_type": "markdown",
   "id": "01e6b7f7",
   "metadata": {},
   "source": [
    "###### 67. Write a NumPy program to compute the inverse of a given matrix"
   ]
  },
  {
   "cell_type": "code",
   "execution_count": 43,
   "id": "86007c05",
   "metadata": {},
   "outputs": [
    {
     "name": "stdout",
     "output_type": "stream",
     "text": [
      "[[1 2]\n",
      " [3 4]]\n",
      "Inverse of matrix:\n",
      " [[-2.   1. ]\n",
      " [ 1.5 -0.5]]\n"
     ]
    }
   ],
   "source": [
    "arr=np.array([[1,2],[3,4]])\n",
    "print(arr)\n",
    "\n",
    "determinant=np.linalg.inv(arr)\n",
    "print('Inverse of matrix:\\n',determinant)"
   ]
  },
  {
   "cell_type": "markdown",
   "id": "18d16c1f",
   "metadata": {},
   "source": [
    "###### 68. Create a random vector of size 30 and find the mean value"
   ]
  },
  {
   "cell_type": "code",
   "execution_count": 49,
   "id": "54523580",
   "metadata": {},
   "outputs": [
    {
     "name": "stdout",
     "output_type": "stream",
     "text": [
      "Random vector :\n",
      " [ 3 28  1  8 24 15 19  4 17 11 20  8 26 13  8  5  3 28 20 13  3 23 13 26\n",
      " 26 29 11  1 27  6]\n",
      "Size of random vector: 30\n",
      "MEAN : 2.5\n"
     ]
    }
   ],
   "source": [
    "random_vector=np.random.randint(1,31,30)\n",
    "print('Random vector :\\n',random_vector)\n",
    "print('Size of random vector:',random_vector.size)\n",
    "print('MEAN :',arr.mean())"
   ]
  },
  {
   "cell_type": "markdown",
   "id": "f017ccc4",
   "metadata": {},
   "source": [
    "###### 69. How to extract all numbers between a given range from a NumPy array?"
   ]
  },
  {
   "cell_type": "code",
   "execution_count": 50,
   "id": "87a4dc11",
   "metadata": {},
   "outputs": [
    {
     "name": "stdout",
     "output_type": "stream",
     "text": [
      "[3 4 5 6 7 8]\n"
     ]
    }
   ],
   "source": [
    "import numpy as np\n",
    "\n",
    "# Define an array\n",
    "arr = np.array([1, 2, 3, 4, 5, 6, 7, 8, 9, 10])\n",
    "\n",
    "# Define the range of values to extract\n",
    "start = 3\n",
    "end = 8\n",
    "\n",
    "# Use boolean indexing to extract the values in the range\n",
    "result = arr[(arr >= start) & (arr <= end)]\n",
    "\n",
    "print(result)\n"
   ]
  },
  {
   "cell_type": "markdown",
   "id": "9e97296c",
   "metadata": {},
   "source": [
    "###### 70.  Create a 3x3x3 array with random values"
   ]
  },
  {
   "cell_type": "code",
   "execution_count": 59,
   "id": "48c9a521",
   "metadata": {},
   "outputs": [
    {
     "name": "stdout",
     "output_type": "stream",
     "text": [
      "arr_3x3x3 array : [[[97 89 88]\n",
      "  [66 76 43]\n",
      "  [78 68 66]]\n",
      "\n",
      " [[17 40 70]\n",
      "  [16 71 94]\n",
      "  [92 28 73]]\n",
      "\n",
      " [[93 36 21]\n",
      "  [89 88 69]\n",
      "  [42 49 85]]]\n",
      "\n",
      "shape of array : (3, 3, 3)\n"
     ]
    }
   ],
   "source": [
    "arr=np.random.randint(1,100,27)\n",
    "arr_3x3x3=arr.reshape(3,3,3)\n",
    "\n",
    "print('arr_3x3x3 array :',arr_3x3x3)\n",
    "\n",
    "print('\\nshape of array :',arr_3x3x3.shape)"
   ]
  },
  {
   "cell_type": "markdown",
   "id": "660e99f1",
   "metadata": {},
   "source": [
    "                                                                                                         Date: 30-April-2023"
   ]
  },
  {
   "cell_type": "markdown",
   "id": "784650b0",
   "metadata": {},
   "source": [
    "###### 71. Create a 10x10 array with random values and find the minimum and maximum values"
   ]
  },
  {
   "cell_type": "code",
   "execution_count": 6,
   "id": "de1ffc7a",
   "metadata": {},
   "outputs": [
    {
     "name": "stdout",
     "output_type": "stream",
     "text": [
      "10 X 10 Array :\n",
      " [[553 762 970 818 242 328 994 331 298 785]\n",
      " [791 469  67 722  85 951 397 533 127 978]\n",
      " [ 10  72 149 753 294 367 814 432 655 960]\n",
      " [869 465 346  35 284 631 880 229 988 641]\n",
      " [660 512 555 161 471 990 740 700 609 340]\n",
      " [960 583 276 376 755  87 389 633 478 698]\n",
      " [994 507 678 703 330 764 952 143 640 686]\n",
      " [ 75 840 796 570 557 333 847 278 289 813]\n",
      " [854 592 978 330 978 133 308 799 242 226]\n",
      " [344 420 368  68 361 359 203 494 301 979]]\n",
      "Minimum Value : 10\n",
      "Maximum Value : 994\n"
     ]
    }
   ],
   "source": [
    "import numpy as np\n",
    "arr=np.random.randint(1,1000,100)\n",
    "arr=arr.reshape(10,10)\n",
    "print('10 X 10 Array :\\n',arr)\n",
    "print('Minimum Value :',arr.min())\n",
    "print('Maximum Value :',arr.max())"
   ]
  },
  {
   "cell_type": "markdown",
   "id": "26a12384",
   "metadata": {},
   "source": [
    "###### 72. Create a 2d array with 1 on the border and 0 inside\n",
    " \n",
    "     [[1. 1. 1. 1. 1. 1. 1. 1. 1. 1.]\n",
    "      [1. 0. 0. 0. 0. 0. 0. 0. 0. 1.]\n",
    "      [1. 0. 0. 0. 0. 0. 0. 0. 0. 1.]\n",
    "      [1. 0. 0. 0. 0. 0. 0. 0. 0. 1.]\n",
    "      [1. 0. 0. 0. 0. 0. 0. 0. 0. 1.]\n",
    "      [1. 0. 0. 0. 0. 0. 0. 0. 0. 1.]\n",
    "      [1. 0. 0. 0. 0. 0. 0. 0. 0. 1.]\n",
    "      [1. 0. 0. 0. 0. 0. 0. 0. 0. 1.]\n",
    "      [1. 0. 0. 0. 0. 0. 0. 0. 0. 1.]\n",
    "      [1. 1. 1. 1. 1. 1. 1. 1. 1. 1.]]"
   ]
  },
  {
   "cell_type": "code",
   "execution_count": 15,
   "id": "45b12675",
   "metadata": {},
   "outputs": [
    {
     "name": "stdout",
     "output_type": "stream",
     "text": [
      "[[0, 0, 0, 0, 0, 0, 0, 0, 0, 0], [0, 0, 0, 0, 0, 0, 0, 0, 0, 0], [0, 0, 0, 0, 0, 0, 0, 0, 0, 0], [0, 0, 0, 0, 0, 0, 0, 0, 0, 0], [0, 0, 0, 0, 0, 0, 0, 0, 0, 0], [0, 0, 0, 0, 0, 0, 0, 0, 0, 0], [0, 0, 0, 0, 0, 0, 0, 0, 0, 0], [0, 0, 0, 0, 0, 0, 0, 0, 0, 0], [0, 0, 0, 0, 0, 0, 0, 0, 0, 0], [0, 0, 0, 0, 0, 0, 0, 0, 0, 0]]\n",
      "****************************************************************************************************\n",
      "[1, 1, 1, 1, 1, 1, 1, 1, 1, 1]\n",
      "[1, 0, 0, 0, 0, 0, 0, 0, 0, 1]\n",
      "[1, 0, 0, 0, 0, 0, 0, 0, 0, 1]\n",
      "[1, 0, 0, 0, 0, 0, 0, 0, 0, 1]\n",
      "[1, 0, 0, 0, 0, 0, 0, 0, 0, 1]\n",
      "[1, 0, 0, 0, 0, 0, 0, 0, 0, 1]\n",
      "[1, 0, 0, 0, 0, 0, 0, 0, 0, 1]\n",
      "[1, 0, 0, 0, 0, 0, 0, 0, 0, 1]\n",
      "[1, 0, 0, 0, 0, 0, 0, 0, 0, 1]\n",
      "[1, 1, 1, 1, 1, 1, 1, 1, 1, 1]\n"
     ]
    }
   ],
   "source": [
    "# size of array\n",
    "row=10\n",
    "col=10\n",
    "\n",
    "# creating empty 2D array with zeros\n",
    "arr=[[0 for i in range(col)] for j in range(row)]\n",
    "\n",
    "print(arr)\n",
    "\n",
    "# creating border with 1's \n",
    "\n",
    "for i in range(row):\n",
    "    for j in range(col):\n",
    "        if i==0 or j==0 or i==row-1 or j==col-1:\n",
    "            arr[i][j]=1\n",
    "            \n",
    "print(\"*\"*100)\n",
    "\n",
    "for row in arr:\n",
    "    print(row)"
   ]
  },
  {
   "cell_type": "markdown",
   "id": "c718301a",
   "metadata": {},
   "source": [
    "###### 73. Create a 5x5 matrix with values 1,2,3,4 just below the diagonal"
   ]
  },
  {
   "cell_type": "code",
   "execution_count": 38,
   "id": "736c501c",
   "metadata": {},
   "outputs": [
    {
     "name": "stdout",
     "output_type": "stream",
     "text": [
      "Raw array:\n",
      " [[0 0 0 0 0]\n",
      " [0 0 0 0 0]\n",
      " [0 0 0 0 0]\n",
      " [0 0 0 0 0]\n",
      " [0 0 0 0 0]]\n",
      "****************************************************************************************************\n",
      "[[0 0 0 0 0]\n",
      " [1 0 0 0 0]\n",
      " [0 2 0 0 0]\n",
      " [0 0 3 0 0]\n",
      " [0 0 0 4 0]]\n"
     ]
    }
   ],
   "source": [
    "arr=np.zeros((5,5),dtype=int)\n",
    "print('Raw array:\\n',arr)\n",
    "print('*'*100)\n",
    "np.fill_diagonal(arr[1:],[1,2,3,4,5])\n",
    "print(arr)"
   ]
  },
  {
   "cell_type": "markdown",
   "id": "79dcbdcd",
   "metadata": {},
   "source": [
    "###### 74. Create a 3x3 identity matrix"
   ]
  },
  {
   "cell_type": "code",
   "execution_count": 39,
   "id": "f98e68a8",
   "metadata": {},
   "outputs": [
    {
     "name": "stdout",
     "output_type": "stream",
     "text": [
      "[[1. 0. 0.]\n",
      " [0. 1. 0.]\n",
      " [0. 0. 1.]]\n"
     ]
    }
   ],
   "source": [
    "arr=np.identity(3)\n",
    "print(arr)\n",
    "        "
   ]
  },
  {
   "cell_type": "markdown",
   "id": "90d008c0",
   "metadata": {},
   "source": [
    "###### 75. Create a 8x8 matrix and fill it with a checkerboard pattern\n",
    "    [[0 1 0 1 0 1 0 1]\n",
    "    [1 0 1 0 1 0 1 0]\n",
    "    [0 1 0 1 0 1 0 1]\n",
    "    [1 0 1 0 1 0 1 0]\n",
    "    [0 1 0 1 0 1 0 1]\n",
    "    [1 0 1 0 1 0 1 0]\n",
    "    [0 1 0 1 0 1 0 1]\n",
    "    [1 0 1 0 1 0 1 0]]\n"
   ]
  },
  {
   "cell_type": "code",
   "execution_count": 46,
   "id": "ca7f9438",
   "metadata": {},
   "outputs": [
    {
     "name": "stdout",
     "output_type": "stream",
     "text": [
      "[[0 0 0 0 0 0 0 0]\n",
      " [0 0 0 0 0 0 0 0]\n",
      " [0 0 0 0 0 0 0 0]\n",
      " [0 0 0 0 0 0 0 0]\n",
      " [0 0 0 0 0 0 0 0]\n",
      " [0 0 0 0 0 0 0 0]\n",
      " [0 0 0 0 0 0 0 0]\n",
      " [0 0 0 0 0 0 0 0]]\n",
      "****************************************************************************************************\n",
      "[[0 1 0 1 0 1 0 1]\n",
      " [1 0 1 0 1 0 1 0]\n",
      " [0 1 0 1 0 1 0 1]\n",
      " [1 0 1 0 1 0 1 0]\n",
      " [0 1 0 1 0 1 0 1]\n",
      " [1 0 1 0 1 0 1 0]\n",
      " [0 1 0 1 0 1 0 1]\n",
      " [1 0 1 0 1 0 1 0]]\n"
     ]
    }
   ],
   "source": [
    "# create a 8x8 matrix of zeros\n",
    "arr = np.zeros((8, 8), dtype=int)\n",
    "print(arr)\n",
    "print('*'*100)\n",
    "\n",
    "# fill in the checkerboard pattern\n",
    "arr[1::2, ::2] = 1\n",
    "arr[::2, 1::2] = 1\n",
    "\n",
    "# print the matrix\n",
    "print(arr)\n"
   ]
  },
  {
   "cell_type": "markdown",
   "id": "fd19cbb0",
   "metadata": {},
   "source": [
    "                                                                                                         Date: 01-May-2023"
   ]
  },
  {
   "cell_type": "markdown",
   "id": "eb36b32f",
   "metadata": {},
   "source": [
    "###### 76.Multiply a 5x3 matrix by a 3x2 matrix (real matrix product) "
   ]
  },
  {
   "cell_type": "code",
   "execution_count": 6,
   "id": "fb882a33",
   "metadata": {},
   "outputs": [
    {
     "name": "stdout",
     "output_type": "stream",
     "text": [
      "5x3 matrix array:\n",
      " [[98 56  5]\n",
      " [42 15 40]\n",
      " [18 27 36]\n",
      " [76 56 23]\n",
      " [76 57 44]]\n",
      "3x2 matrix array:\n",
      " [[49 93]\n",
      " [97 19]\n",
      " [34  9]]\n",
      "[[10404 10223]\n",
      " [ 4873  4551]\n",
      " [ 4725  2511]\n",
      " [ 9938  8339]\n",
      " [10749  8547]]\n"
     ]
    }
   ],
   "source": [
    "import numpy as np\n",
    "arr1=np.random.randint(1,100,15)\n",
    "arr1=arr1.reshape(5,3)\n",
    "print('5x3 matrix array:\\n',arr1)\n",
    "arr2=np.random.randint(1,100,6)\n",
    "arr2=arr2.reshape(3,2)\n",
    "print('3x2 matrix array:\\n',arr2)\n",
    "mul=np.dot(arr1,arr2)\n",
    "print(mul)"
   ]
  },
  {
   "cell_type": "markdown",
   "id": "6c26327e",
   "metadata": {},
   "source": [
    "###### 77. Given a 1D array, negate all elements which are between 3 and 8, in place"
   ]
  },
  {
   "cell_type": "code",
   "execution_count": 7,
   "id": "b90fc591",
   "metadata": {},
   "outputs": [
    {
     "name": "stdout",
     "output_type": "stream",
     "text": [
      "[ 1  2 -3 -4 -5 -6 -7 -8  9 10 11 12 13 14 15 16 17 18 19]\n"
     ]
    }
   ],
   "source": [
    "def negate_3_to_8(arr):\n",
    "    for i in range(len(arr)):\n",
    "        if 3 <= arr[i] <=8:\n",
    "            arr[i]=-arr[i]\n",
    "            \n",
    "arr=np.arange(1,20)            \n",
    "negate_3_to_8(arr)\n",
    "print(arr)"
   ]
  },
  {
   "cell_type": "markdown",
   "id": "6a64cdc4",
   "metadata": {},
   "source": [
    "###### 78. How to round away from zero a float array?"
   ]
  },
  {
   "cell_type": "code",
   "execution_count": 9,
   "id": "82fb974d",
   "metadata": {},
   "outputs": [
    {
     "data": {
      "text/plain": [
       "array([-2.,  3., -4.,  2.])"
      ]
     },
     "execution_count": 9,
     "metadata": {},
     "output_type": "execute_result"
    }
   ],
   "source": [
    "def round_away_from_zero(arr):\n",
    "    return np.where(arr>=0, np.ceil(arr),np.floor(arr))\n",
    "\n",
    "arr=np.array([-1.5, 2.7, -3.2, 1.9])\n",
    "round_away_from_zero(arr)"
   ]
  },
  {
   "cell_type": "markdown",
   "id": "1f9235b3",
   "metadata": {},
   "source": [
    "###### 79. How to find common values between the two arrays?"
   ]
  },
  {
   "cell_type": "code",
   "execution_count": 13,
   "id": "86609372",
   "metadata": {},
   "outputs": [
    {
     "name": "stdout",
     "output_type": "stream",
     "text": [
      "Array1 : [23 34 49 43 46 20  9  8 38  3]\n",
      "Array2 : [20  5 13 47 36 30 25 43 18 38]\n"
     ]
    },
    {
     "data": {
      "text/plain": [
       "[43, 20, 38]"
      ]
     },
     "execution_count": 13,
     "metadata": {},
     "output_type": "execute_result"
    }
   ],
   "source": [
    "def common_element(arr1,arr2):\n",
    "    set1=set(arr1)\n",
    "    set2=set(arr2)\n",
    "    return list(set1.intersection(set2))\n",
    "\n",
    "arr1=np.random.randint(1,50,10)\n",
    "print('Array1 :',arr1)\n",
    "arr2=np.random.randint(1,50,10)\n",
    "print('Array2 :',arr2)\n",
    "\n",
    "common_element(arr1,arr2)"
   ]
  },
  {
   "cell_type": "markdown",
   "id": "ca719667",
   "metadata": {},
   "source": [
    "###### 80. Create a vector of size 10 with values ranging from 0 to 1, both excluded"
   ]
  },
  {
   "cell_type": "code",
   "execution_count": 18,
   "id": "2612b90d",
   "metadata": {},
   "outputs": [
    {
     "name": "stdout",
     "output_type": "stream",
     "text": [
      "[0.11111111 0.22222222 0.33333333 0.44444444 0.55555556 0.66666667\n",
      " 0.77777778 0.88888889]\n"
     ]
    }
   ],
   "source": [
    "vector = np.linspace(0, 1, 10)[1:-1]\n",
    "print(vector)"
   ]
  },
  {
   "cell_type": "markdown",
   "id": "b8e1fd99",
   "metadata": {},
   "source": [
    "                                                                                                         Date: 02-May-2023"
   ]
  },
  {
   "cell_type": "markdown",
   "id": "11b8d8f5",
   "metadata": {},
   "source": [
    "###### 81. Create a random vector of size 10 and sort it"
   ]
  },
  {
   "cell_type": "code",
   "execution_count": 2,
   "id": "e2e5dc3c",
   "metadata": {},
   "outputs": [
    {
     "name": "stdout",
     "output_type": "stream",
     "text": [
      "Original Array: [50 39 11 23 35 23 86 59 76 71]\n",
      "Sorted Array: [11 23 23 35 39 50 59 71 76 86]\n"
     ]
    }
   ],
   "source": [
    "import numpy as np\n",
    "arr=np.random.randint(1,100,10)\n",
    "print('Original Array:',arr)\n",
    "arr=np.sort(arr)\n",
    "print('Sorted Array:',arr)"
   ]
  },
  {
   "cell_type": "markdown",
   "id": "1aa27f74",
   "metadata": {},
   "source": [
    "###### 82. Create a 5x5 matrix with row values ranging from 0 to 4\n",
    "    [[0. 1. 2. 3. 4.]\n",
    "    [0. 1. 2. 3. 4.]\n",
    "    [0. 1. 2. 3. 4.]\n",
    "    [0. 1. 2. 3. 4.]\n",
    "    [0. 1. 2. 3. 4.]]"
   ]
  },
  {
   "cell_type": "code",
   "execution_count": 22,
   "id": "76911364",
   "metadata": {},
   "outputs": [
    {
     "name": "stdout",
     "output_type": "stream",
     "text": [
      "[[0 1 2 3 4]\n",
      " [0 1 2 3 4]\n",
      " [0 1 2 3 4]\n",
      " [0 1 2 3 4]\n",
      " [0 1 2 3 4]]\n"
     ]
    }
   ],
   "source": [
    "matrix=[]\n",
    "\n",
    "for i in range(5):\n",
    "    row=[]\n",
    "    for j in range(5):\n",
    "        row.append(j)\n",
    "    matrix.append(row)\n",
    "    \n",
    "arr=np.array(matrix)\n",
    "arr=arr.reshape(5,5)\n",
    "print(arr)"
   ]
  },
  {
   "cell_type": "markdown",
   "id": "ba82a763",
   "metadata": {},
   "source": [
    "###### 83. Consider two random arrays A and B, check if they are equal"
   ]
  },
  {
   "cell_type": "code",
   "execution_count": 24,
   "id": "506faa0e",
   "metadata": {},
   "outputs": [
    {
     "name": "stdout",
     "output_type": "stream",
     "text": [
      "Arrays A and B are not equal\n"
     ]
    }
   ],
   "source": [
    "A = np.random.rand(5)  \n",
    "B = np.random.rand(5) \n",
    "\n",
    "if np.array_equal(A, B):\n",
    "    print(\"Arrays A and B are equal\")\n",
    "else:\n",
    "    print(\"Arrays A and B are not equal\")"
   ]
  },
  {
   "cell_type": "markdown",
   "id": "d0ee28e7",
   "metadata": {},
   "source": [
    "###### 84. Create a random vector of size 10 and replace the maximum value by 0"
   ]
  },
  {
   "cell_type": "code",
   "execution_count": 29,
   "id": "f2df204d",
   "metadata": {},
   "outputs": [
    {
     "name": "stdout",
     "output_type": "stream",
     "text": [
      "Original vector:\n",
      "[0.65242294 0.98797657 0.81097497 0.50620886 0.90823575 0.76765222\n",
      " 0.06886571 0.6640214  0.65886518 0.81975595]\n",
      "Modified vector:\n",
      "[0.65242294 0.         0.81097497 0.50620886 0.90823575 0.76765222\n",
      " 0.06886571 0.6640214  0.65886518 0.81975595]\n"
     ]
    }
   ],
   "source": [
    "arr = np.random.rand(10)\n",
    "\n",
    "print(\"Original vector:\")\n",
    "print(arr)\n",
    "\n",
    "# Find the maximum value in the vector\n",
    "max_val = np.max(arr)\n",
    "\n",
    "# Replace the maximum value with 0\n",
    "arr[arr == max_val] = 0\n",
    "\n",
    "print(\"Modified vector:\")\n",
    "print(arr)"
   ]
  },
  {
   "cell_type": "markdown",
   "id": "380a3c3d",
   "metadata": {},
   "source": [
    "###### 85. How to find out multiple indices of an item?"
   ]
  },
  {
   "cell_type": "code",
   "execution_count": 30,
   "id": "a1d6f9a0",
   "metadata": {},
   "outputs": [
    {
     "name": "stdout",
     "output_type": "stream",
     "text": [
      "[2 4 6]\n"
     ]
    }
   ],
   "source": [
    "# Create a random array with some duplicate/multiple values\n",
    "arr = np.array([0, 1, 2, 3, 2, 4, 2, 5])\n",
    "\n",
    "# Find all indices of the value 2\n",
    "indices = np.where(arr == 2)[0]\n",
    "\n",
    "# Print the indices\n",
    "print(indices)\n"
   ]
  },
  {
   "cell_type": "markdown",
   "id": "8629241c",
   "metadata": {},
   "source": [
    "                                                                                                         Date: 03-May-2023"
   ]
  },
  {
   "cell_type": "markdown",
   "id": "be38688b",
   "metadata": {},
   "source": [
    "###### 86. What is the equivalent of enumerate for NumPy arrays?"
   ]
  },
  {
   "cell_type": "markdown",
   "id": "de641d5b",
   "metadata": {},
   "source": [
    "Using a for loop to iterate over a list only gives us access to every list element in each run, one after the other. If one also wants to access the index information, so where the list element we are iterating over is located, we can use enumerate()."
   ]
  },
  {
   "cell_type": "code",
   "execution_count": 1,
   "id": "e1e1f1b8",
   "metadata": {},
   "outputs": [
    {
     "name": "stdout",
     "output_type": "stream",
     "text": [
      "(0, 0) 1\n",
      "(0, 1) 2\n",
      "(0, 2) 3\n",
      "(1, 0) 4\n",
      "(1, 1) 5\n",
      "(1, 2) 6\n",
      "(2, 0) 7\n",
      "(2, 1) 8\n",
      "(2, 2) 9\n"
     ]
    }
   ],
   "source": [
    "import numpy as np\n",
    "\n",
    "A = np.array([[1,2,3],[4,5,6],[7,8,9]])\n",
    "for index, values in np.ndenumerate(A):\n",
    "    print(index, values) "
   ]
  },
  {
   "cell_type": "markdown",
   "id": "f858a136",
   "metadata": {},
   "source": [
    "###### 87. How to sort an array by the nth column?"
   ]
  },
  {
   "cell_type": "code",
   "execution_count": 8,
   "id": "827d6981",
   "metadata": {
    "scrolled": true
   },
   "outputs": [
    {
     "name": "stdout",
     "output_type": "stream",
     "text": [
      "Input array is :\n",
      " [[33 39 38 64]\n",
      " [ 4 71  3 66]\n",
      " [22 79 51 78]\n",
      " [43 62 52 42]]\n",
      "****************************************************************************************************\n",
      "[[ 4 71  3 66]\n",
      " [33 39 38 64]\n",
      " [22 79 51 78]\n",
      " [43 62 52 42]]\n"
     ]
    }
   ],
   "source": [
    "inputarr=np.random.randint(1,100,(4,4))\n",
    "print('Input array is :\\n',inputarr)\n",
    "\n",
    "# n=input(int('Enter nth column location:'))\n",
    "n=2\n",
    "print('*'*100)\n",
    "print(inputarr[inputarr[:,n].argsort()])"
   ]
  },
  {
   "cell_type": "markdown",
   "id": "84fd9ab8",
   "metadata": {},
   "source": [
    "###### 88. How to swap two rows of an array?"
   ]
  },
  {
   "cell_type": "code",
   "execution_count": 16,
   "id": "02d1bae6",
   "metadata": {},
   "outputs": [
    {
     "name": "stdout",
     "output_type": "stream",
     "text": [
      "Original Array:\n",
      " [[81 10 37 14]\n",
      " [57 69 15 30]\n",
      " [40 41 92 31]\n",
      " [12 76 39 80]]\n",
      "****************************************************************************************************\n",
      "Rows swapcase:\n",
      " [[12 76 39 80]\n",
      " [57 69 15 30]\n",
      " [40 41 92 31]\n",
      " [81 10 37 14]]\n"
     ]
    }
   ],
   "source": [
    "inputarr=np.random.randint(1,100,(4,4))\n",
    "print('Original Array:\\n',inputarr)\n",
    "\n",
    "print(\"*\"*100)\n",
    "\n",
    "inputarr[[0,3]]=inputarr[[3,0]]\n",
    "print('Rows swapcase:\\n',inputarr)"
   ]
  },
  {
   "cell_type": "code",
   "execution_count": 17,
   "id": "3f7fe071",
   "metadata": {},
   "outputs": [
    {
     "name": "stdout",
     "output_type": "stream",
     "text": [
      "Original Array:\n",
      " [[38 25 36 79]\n",
      " [53 85 25 80]\n",
      " [38 66 88 63]\n",
      " [87 26 14  2]]\n",
      "****************************************************************************************************\n",
      "Columns swapcase:\n",
      " [[79 25 36 38]\n",
      " [80 85 25 53]\n",
      " [63 66 88 38]\n",
      " [ 2 26 14 87]]\n"
     ]
    }
   ],
   "source": [
    "inputarr=np.random.randint(1,100,(4,4))\n",
    "print('Original Array:\\n',inputarr)\n",
    "\n",
    "print(\"*\"*100)\n",
    "\n",
    "inputarr[:,[0,3]]=inputarr[:,[3,0]]\n",
    "print('Columns swapcase:\\n',inputarr)"
   ]
  },
  {
   "cell_type": "markdown",
   "id": "6be9e907",
   "metadata": {},
   "source": [
    "###### 89. How to compute the mean of a NumPy array?"
   ]
  },
  {
   "cell_type": "code",
   "execution_count": 20,
   "id": "7ee06970",
   "metadata": {},
   "outputs": [
    {
     "name": "stdout",
     "output_type": "stream",
     "text": [
      "Original Array:\n",
      " [40 55 17 30 25 26 59 32 77 69]\n",
      "****************************************************************************************************\n",
      "Mean of array: 43.0\n"
     ]
    }
   ],
   "source": [
    "inputarr=np.random.randint(1,100,(10))\n",
    "print('Original Array:\\n',inputarr)\n",
    "\n",
    "print(\"*\"*100)\n",
    "\n",
    "mean1=np.mean(inputarr)\n",
    "print('Mean of array:',mean1)"
   ]
  },
  {
   "cell_type": "markdown",
   "id": "c9eac300",
   "metadata": {},
   "source": [
    "###### 90.  How to compute the median of a NumPy array?"
   ]
  },
  {
   "cell_type": "code",
   "execution_count": 21,
   "id": "ca7ee309",
   "metadata": {},
   "outputs": [
    {
     "name": "stdout",
     "output_type": "stream",
     "text": [
      "Original Array:\n",
      " [15 22 22 10  9 62 20 96 42 64]\n",
      "****************************************************************************************************\n",
      "Median of array: 22.0\n"
     ]
    }
   ],
   "source": [
    "inputarr=np.random.randint(1,100,(10))\n",
    "print('Original Array:\\n',inputarr)\n",
    "\n",
    "print(\"*\"*100)\n",
    "\n",
    "median1=np.median(inputarr)\n",
    "print('Median of array:',median1)"
   ]
  },
  {
   "cell_type": "markdown",
   "id": "d3d55004",
   "metadata": {},
   "source": [
    "                                                                                                         Date: 04-May-2023"
   ]
  },
  {
   "cell_type": "markdown",
   "id": "5369c980",
   "metadata": {},
   "source": [
    "###### 91. How to compute the standard deviation of a NumPy array?"
   ]
  },
  {
   "cell_type": "code",
   "execution_count": 1,
   "id": "72dfc8dd",
   "metadata": {},
   "outputs": [
    {
     "name": "stdout",
     "output_type": "stream",
     "text": [
      "Original Array:\n",
      " [ 1.          2.55555556  4.11111111  5.66666667  7.22222222  8.77777778\n",
      " 10.33333333 11.88888889 13.44444444 15.        ]\n",
      "Standard Deviation: 4.467993169529578\n"
     ]
    }
   ],
   "source": [
    "import numpy as np\n",
    "arr=np.linspace(1,15,10)\n",
    "print('Original Array:\\n',arr)\n",
    "std_deviation=np.std(arr)\n",
    "print('Standard Deviation:',std_deviation)"
   ]
  },
  {
   "cell_type": "markdown",
   "id": "a3fd00fd",
   "metadata": {},
   "source": [
    "###### 92. How to compute the mode of a NumPy array?"
   ]
  },
  {
   "cell_type": "code",
   "execution_count": 18,
   "id": "60e5560b",
   "metadata": {},
   "outputs": [
    {
     "name": "stdout",
     "output_type": "stream",
     "text": [
      "Original Array:\n",
      " [1 2 3 4 4 5 5 5 5 6 6 5 4 3 3 3 4 5 5 6 7 6]\n",
      "Standard Deviation: ModeResult(mode=array([5]), count=array([7]))\n"
     ]
    },
    {
     "name": "stderr",
     "output_type": "stream",
     "text": [
      "C:\\Users\\Digvijay Mohite\\AppData\\Local\\Temp\\ipykernel_19132\\2175079313.py:5: FutureWarning: Unlike other reduction functions (e.g. `skew`, `kurtosis`), the default behavior of `mode` typically preserves the axis it acts along. In SciPy 1.11.0, this behavior will change: the default value of `keepdims` will become False, the `axis` over which the statistic is taken will be eliminated, and the value None will no longer be accepted. Set `keepdims` to True or False to avoid this warning.\n",
      "  mode1=stats.mode(arr)\n"
     ]
    }
   ],
   "source": [
    "arr=np.array([1,2,3,4,4,5,5,5,5,6,6,5,4,3,3,3,4,5,5,6,7,6])\n",
    "print('Original Array:\\n',arr)\n",
    "\n",
    "from scipy import stats\n",
    "mode1=stats.mode(arr)\n",
    "print('Standard Deviation:',mode1)"
   ]
  },
  {
   "cell_type": "code",
   "execution_count": 22,
   "id": "227f7ab5",
   "metadata": {},
   "outputs": [
    {
     "name": "stdout",
     "output_type": "stream",
     "text": [
      "Original Array:\n",
      " [1 2 3 4 4 5 5 5 5 6 6 5 4 3 3 3 4 5 5 6 7 6]\n",
      "Mode: 5\n"
     ]
    }
   ],
   "source": [
    "arr=np.array([1,2,3,4,4,5,5,5,5,6,6,5,4,3,3,3,4,5,5,6,7,6])\n",
    "print('Original Array:\\n',arr)\n",
    "\n",
    "unique_values, value_counts=np.unique(arr,return_counts=True)\n",
    "\n",
    "mode_index=np.argmax(value_counts)\n",
    "\n",
    "mode=unique_values[mode_index]\n",
    "\n",
    "print('Mode:',mode)"
   ]
  },
  {
   "cell_type": "markdown",
   "id": "f712c047",
   "metadata": {},
   "source": [
    "###### 93. How to print only 3 decimal places in a python NumPy array? "
   ]
  },
  {
   "cell_type": "code",
   "execution_count": 24,
   "id": "6b70b604",
   "metadata": {},
   "outputs": [
    {
     "name": "stdout",
     "output_type": "stream",
     "text": [
      "Original Array: [0.13650707 0.72955264 0.45468345 0.78307398 0.46520315 0.17237104\n",
      " 0.79844846 0.15790582 0.57589918 0.94450979]\n",
      "Modofied Array: [0.137 0.73  0.455 0.783 0.465 0.172 0.798 0.158 0.576 0.945]\n"
     ]
    }
   ],
   "source": [
    "arr=np.random.rand(10)\n",
    "print('Original Array:',arr)\n",
    "\n",
    "np.set_printoptions(precision=3)\n",
    "print('Modified Array:',arr)"
   ]
  },
  {
   "cell_type": "markdown",
   "id": "2d87eae2",
   "metadata": {},
   "source": [
    "###### 94. Write a NumPy program to compute the inverse of a given matrix "
   ]
  },
  {
   "cell_type": "code",
   "execution_count": 29,
   "id": "5c29a594",
   "metadata": {},
   "outputs": [
    {
     "name": "stdout",
     "output_type": "stream",
     "text": [
      "Original Array: [1 2 3 4 5 6 7 8 9]\n",
      "Reverse matrix Array: [9 8 7 6 5 4 3 2 1]\n"
     ]
    }
   ],
   "source": [
    "arr=np.array([1,2,3,4,5,6,7,8,9])\n",
    "print('Original Array:',arr)\n",
    "\n",
    "print('Reverse matrix Array:',arr[::-1])"
   ]
  },
  {
   "cell_type": "markdown",
   "id": "9bcaa533",
   "metadata": {},
   "source": [
    "###### 95. Write a NumPy program to compute the covariance matrix of two given arrays"
   ]
  },
  {
   "cell_type": "code",
   "execution_count": 30,
   "id": "4bb28580",
   "metadata": {},
   "outputs": [
    {
     "name": "stdout",
     "output_type": "stream",
     "text": [
      "a: [1 2 3 4 5 6 7 8 9]\n",
      "b: [9 8 7 6 5 4 3 2 1]\n",
      "Covariance matrix:\n",
      " [[ 7.5 -7.5]\n",
      " [-7.5  7.5]]\n"
     ]
    }
   ],
   "source": [
    "a=np.array([1,2,3,4,5,6,7,8,9])\n",
    "b=np.array([9,8,7,6,5,4,3,2,1])\n",
    "print('a:',a)\n",
    "print('b:',b)\n",
    "cov_matrix=np.cov(a,b)\n",
    "print('Covariance matrix:\\n',cov_matrix)"
   ]
  },
  {
   "cell_type": "markdown",
   "id": "d9b73142",
   "metadata": {},
   "source": [
    "                                                                                                         Date: 05-May-2023"
   ]
  },
  {
   "cell_type": "markdown",
   "id": "b0d6e79b",
   "metadata": {},
   "source": [
    "###### 96. How to find the most frequent value in a NumPy array?"
   ]
  },
  {
   "cell_type": "code",
   "execution_count": 10,
   "id": "b67def6c",
   "metadata": {},
   "outputs": [
    {
     "name": "stdout",
     "output_type": "stream",
     "text": [
      "Array :\n",
      " [1 1 2 2 3 3 3 3 3 4 4 4 4 5 5 6 6 7 7 8 8 8 8 9 7 6 5 4 3 3 3 2 3 4 4 5 6]\n",
      "Most Frequent Value : 3\n",
      "****************************************************************************************************\n",
      "1 : 2\n",
      "2 : 3\n",
      "3 : 9\n",
      "4 : 7\n",
      "5 : 4\n",
      "6 : 4\n",
      "7 : 3\n",
      "8 : 4\n",
      "9 : 1\n"
     ]
    }
   ],
   "source": [
    "import numpy as np\n",
    "\n",
    "arr=np.array([1,1,2,2,3,3,3,3,3,4,4,4,4,5,5,6,6,7,7,8,8,8,8,9,7,6,5,4,3,3,3,2,3,4,4,5,6])\n",
    "print('Array :\\n',arr)\n",
    "\n",
    "unique_values, value_counts=np.unique(arr,return_counts=True)\n",
    "\n",
    "mode_index=np.argmax(value_counts)\n",
    "\n",
    "mode=unique_values[mode_index]\n",
    "\n",
    "print('Most Frequent Value :',mode)\n",
    "\n",
    "print(\"*\"*100)\n",
    "for value, count in zip(unique_values, value_counts):\n",
    "    print(f'{value} : {count}')"
   ]
  },
  {
   "cell_type": "markdown",
   "id": "9a45b288",
   "metadata": {},
   "source": [
    "###### 97. How to convert 1D array to 3D array?"
   ]
  },
  {
   "cell_type": "code",
   "execution_count": 19,
   "id": "9ef8bb6e",
   "metadata": {},
   "outputs": [
    {
     "name": "stdout",
     "output_type": "stream",
     "text": [
      "1D Array : [  1.  12.  23.  34.  45.  56.  67.  78.  89. 100.]\n",
      "No. of Dimentions: 1\n",
      "2D Array : [[  1.  12.  23.  34.  45.  56.  67.  78.  89. 100.]]\n",
      "No. of Dimentions: 2\n",
      "2D Array :\n",
      " [[  1.  12.]\n",
      " [ 23.  34.]\n",
      " [ 45.  56.]\n",
      " [ 67.  78.]\n",
      " [ 89. 100.]]\n",
      "No. of Dimentions: 2\n"
     ]
    }
   ],
   "source": [
    "arr_1d=np.linspace(1,100,10)\n",
    "print('1D Array :',arr_1d)\n",
    "print('No. of Dimentions:',arr_1d.ndim)\n",
    "\n",
    "arr_2d=np.array(arr_1d,ndmin=2)\n",
    "print('2D Array :',arr_2d)\n",
    "print('No. of Dimentions:',arr_2d.ndim)\n",
    "\n",
    "arr_2d=np.reshape(arr_1d,(5,2))\n",
    "print('2D Array :\\n',arr_2d)\n",
    "print('No. of Dimentions:',arr_2d.ndim)"
   ]
  },
  {
   "cell_type": "markdown",
   "id": "8820683a",
   "metadata": {},
   "source": [
    "###### 98. How to convert 4D array to 2D array?"
   ]
  },
  {
   "cell_type": "code",
   "execution_count": 46,
   "id": "d16140fc",
   "metadata": {},
   "outputs": [
    {
     "name": "stdout",
     "output_type": "stream",
     "text": [
      "4D Array :\n",
      " [[[[1 1 2 2 3 3 3 3 3 4 4 4 4 5 5 6 6 7 7 8 8 8 8 9 7 6 5 4 3 3 3 2 3 4\n",
      "    4 5 6]]]]\n",
      "No. of Dimentions: 4\n",
      "Items of array: 37\n",
      "2D Array :\n",
      " [[1 1 2 2 3 3 3 3 3 4 4 4 4 5 5 6 6 7 7 8 8 8 8 9 7 6 5 4 3 3 3 2 3 4 4 5\n",
      "  6]]\n",
      "No. of Dimentions: 2\n",
      "Items of array: 37\n"
     ]
    }
   ],
   "source": [
    "arr_4d=np.array(arr,ndmin=4)\n",
    "print('4D Array :\\n',arr_4d)\n",
    "print('No. of Dimentions:',arr_4d.ndim)\n",
    "print('Items of array:',arr_4d.size)\n",
    "\n",
    "# arr_2d=np.reshape(arr_4d,(1,1,))\n",
    "arr_2d = arr_4d.reshape(-1,arr_4d.shape[-1])\n",
    "print('2D Array :\\n',arr_2d)\n",
    "print('No. of Dimentions:',arr_2d.ndim)\n",
    "print('Items of array:',arr_2d.size)"
   ]
  },
  {
   "cell_type": "markdown",
   "id": "1b8a7985",
   "metadata": {},
   "source": [
    "###### 99. Create a Numpy array filled with all zeros"
   ]
  },
  {
   "cell_type": "code",
   "execution_count": 47,
   "id": "66e5b96d",
   "metadata": {},
   "outputs": [
    {
     "name": "stdout",
     "output_type": "stream",
     "text": [
      "[0. 0. 0. 0. 0. 0. 0. 0. 0. 0.]\n"
     ]
    }
   ],
   "source": [
    "arr=np.zeros(10)\n",
    "print(arr)"
   ]
  },
  {
   "cell_type": "markdown",
   "id": "db4a456c",
   "metadata": {},
   "source": [
    "###### 100. Find the number of rows and columns of a given matrix using NumPy"
   ]
  },
  {
   "cell_type": "code",
   "execution_count": 54,
   "id": "4cf7dd75",
   "metadata": {},
   "outputs": [
    {
     "name": "stdout",
     "output_type": "stream",
     "text": [
      "1D Array : [[  1 100]]\n",
      "No. of Dimentions: (1, 2)\n"
     ]
    }
   ],
   "source": [
    "arr_1d=np.array([[1,100]])\n",
    "print('1D Array :',arr_1d)\n",
    "print('No. of Dimentions:',arr_1d.shape)"
   ]
  },
  {
   "cell_type": "markdown",
   "id": "bbbbd8e2",
   "metadata": {},
   "source": [
    "                                                                                                         Date: 06-May-2023"
   ]
  },
  {
   "cell_type": "markdown",
   "id": "82e69835",
   "metadata": {},
   "source": [
    "### Pandas Programming"
   ]
  },
  {
   "cell_type": "markdown",
   "id": "150c0c9e",
   "metadata": {},
   "source": [
    "###### 101. How Can You Create An Empty DataFrame and series in Pandas?"
   ]
  },
  {
   "cell_type": "code",
   "execution_count": 55,
   "id": "6d76a307",
   "metadata": {},
   "outputs": [
    {
     "name": "stdout",
     "output_type": "stream",
     "text": [
      "Empty DataFrame\n",
      "Columns: []\n",
      "Index: []\n",
      "Series([], dtype: object)\n"
     ]
    }
   ],
   "source": [
    "import pandas as pd\n",
    "df=pd.DataFrame()\n",
    "print(df)\n",
    "sr=pd.Series()\n",
    "print(sr)"
   ]
  },
  {
   "cell_type": "markdown",
   "id": "11990c62",
   "metadata": {},
   "source": [
    "###### 102. How to check an empty DataFrame?"
   ]
  },
  {
   "cell_type": "code",
   "execution_count": 56,
   "id": "4a8cd72c",
   "metadata": {},
   "outputs": [
    {
     "name": "stdout",
     "output_type": "stream",
     "text": [
      "Dataframe is empty\n",
      "DataFrame is empty\n"
     ]
    }
   ],
   "source": [
    "df=pd.DataFrame()\n",
    "\n",
    "# one way\n",
    "if df.empty:\n",
    "    print('Dataframe is empty')\n",
    "\n",
    "# another way\n",
    "if len(df)==0:\n",
    "    print('DataFrame is empty')"
   ]
  },
  {
   "cell_type": "markdown",
   "id": "83033246",
   "metadata": {},
   "source": [
    "###### 103. How Will You Explain Reindexing In Pandas?"
   ]
  },
  {
   "cell_type": "code",
   "execution_count": 61,
   "id": "a1bba4b2",
   "metadata": {},
   "outputs": [
    {
     "name": "stdout",
     "output_type": "stream",
     "text": [
      "Original Dataframe :\n",
      "    A  B  C\n",
      "0  0  2  4\n",
      "1  1  3  5\n",
      "2  2  4  6\n",
      "****************************************************************************************************\n",
      "Rows reindexed :\n",
      "    A  B  C\n",
      "2  2  4  6\n",
      "1  1  3  5\n",
      "0  0  2  4\n",
      "****************************************************************************************************\n",
      "Columns reindexed :\n",
      "    C  B  A\n",
      "0  4  2  0\n",
      "1  5  3  1\n",
      "2  6  4  2\n"
     ]
    }
   ],
   "source": [
    "df=pd.DataFrame({'A':[0,1,2],\n",
    "                'B':[2,3,4],\n",
    "                'C':[4,5,6]})\n",
    "print('Original Dataframe :\\n',df)\n",
    "\n",
    "print('*'*100)\n",
    "\n",
    "newdf=df.reindex([2,1,0])\n",
    "print('Rows reindexed :\\n',newdf)\n",
    "\n",
    "print('*'*100)\n",
    "\n",
    "newdf2=df.reindex(columns=['C','B','A'],fill_value=0)\n",
    "print('Columns reindexed :\\n',newdf2)"
   ]
  },
  {
   "cell_type": "markdown",
   "id": "20db4033",
   "metadata": {},
   "source": [
    "###### 104. What are the different ways of creating DataFrame in pandas? Explain with examples"
   ]
  },
  {
   "cell_type": "code",
   "execution_count": 65,
   "id": "669a8a1e",
   "metadata": {},
   "outputs": [
    {
     "name": "stdout",
     "output_type": "stream",
     "text": [
      "  Name  Age\n",
      "0    A   10\n",
      "1    B   11\n",
      "2    C   12\n"
     ]
    }
   ],
   "source": [
    "# 1. Creating dataframe from list of lists or arrays\n",
    "data=[['A',10],['B',11],['C',12]]\n",
    "df=pd.DataFrame(data,columns=['Name','Age'])\n",
    "print(df)"
   ]
  },
  {
   "cell_type": "code",
   "execution_count": 67,
   "id": "e9e4428d",
   "metadata": {},
   "outputs": [
    {
     "name": "stdout",
     "output_type": "stream",
     "text": [
      "    A   B   C\n",
      "0  10  11  12\n"
     ]
    }
   ],
   "source": [
    "# 2. Creating dataframe from dictionary\n",
    "data={'A':[10],'B':[11],'C':[12]}\n",
    "df=pd.DataFrame(data)\n",
    "print(df)"
   ]
  },
  {
   "cell_type": "code",
   "execution_count": 68,
   "id": "0de4601a",
   "metadata": {},
   "outputs": [
    {
     "name": "stdout",
     "output_type": "stream",
     "text": [
      "  Name  Age\n",
      "0    A   10\n",
      "1    B   11\n",
      "2    C   12\n"
     ]
    }
   ],
   "source": [
    "# 3. Creating dataframe from list of tuple\n",
    "data=[('A',10),('B',11),('C',12)]\n",
    "df=pd.DataFrame(data,columns=['Name','Age'])\n",
    "print(df)"
   ]
  },
  {
   "cell_type": "code",
   "execution_count": 69,
   "id": "1b789799",
   "metadata": {},
   "outputs": [
    {
     "name": "stdout",
     "output_type": "stream",
     "text": [
      "Empty DataFrame\n",
      "Columns: []\n",
      "Index: []\n"
     ]
    }
   ],
   "source": [
    "# 4. Creating empty dataframe\n",
    "\n",
    "df=pd.DataFrame()\n",
    "print(df)"
   ]
  },
  {
   "cell_type": "code",
   "execution_count": 70,
   "id": "39c81d64",
   "metadata": {},
   "outputs": [],
   "source": [
    "# 5. Creating dataframe from .csv file or .xlsx file\n",
    "# df=pd.read_csv('data.csv')\n",
    "# print(df)\n",
    "\n",
    "# df=pd.read_excel('data.xlsx')\n",
    "# print(df)"
   ]
  },
  {
   "cell_type": "markdown",
   "id": "deb5fa0d",
   "metadata": {},
   "source": [
    "###### 105. Create a DataFrame using Numpy Functions."
   ]
  },
  {
   "cell_type": "code",
   "execution_count": 73,
   "id": "e1bb4cea",
   "metadata": {},
   "outputs": [
    {
     "name": "stdout",
     "output_type": "stream",
     "text": [
      "['A' 'B' 'C']\n",
      "  Name\n",
      "0    A\n",
      "1    B\n",
      "2    C\n"
     ]
    }
   ],
   "source": [
    "a=np.array(['A','B','C'])\n",
    "\n",
    "print(a)\n",
    "\n",
    "df=pd.DataFrame(a,columns=['Name'])\n",
    "print(df)"
   ]
  },
  {
   "cell_type": "code",
   "execution_count": 74,
   "id": "bfef5647",
   "metadata": {},
   "outputs": [
    {
     "name": "stdout",
     "output_type": "stream",
     "text": [
      "[[1 2 3]\n",
      " [2 3 4]\n",
      " [3 4 5]]\n",
      "   A  B  C\n",
      "0  1  2  3\n",
      "1  2  3  4\n",
      "2  3  4  5\n"
     ]
    }
   ],
   "source": [
    "data=np.array([[1,2,3],[2,3,4],[3,4,5]])\n",
    "print(data)\n",
    "df=pd.DataFrame(data, columns=['A','B','C'])\n",
    "print(df)"
   ]
  },
  {
   "cell_type": "markdown",
   "id": "1264db94",
   "metadata": {},
   "source": [
    "                                                                                                         Date: 07-May-2023"
   ]
  },
  {
   "cell_type": "markdown",
   "id": "cc7d1b5f",
   "metadata": {},
   "source": [
    "###### 106. How to convert a NumPy array to a DataFrame of a given shape?"
   ]
  },
  {
   "cell_type": "code",
   "execution_count": 2,
   "id": "fbf31e2b",
   "metadata": {},
   "outputs": [
    {
     "name": "stdout",
     "output_type": "stream",
     "text": [
      "[[ 1  2  3]\n",
      " [ 4  5  6]\n",
      " [ 7  8  9]\n",
      " [10 11 12]] 2\n",
      "****************************************************************************************************\n",
      "    0   1\n",
      "0   1   2\n",
      "1   3   4\n",
      "2   5   6\n",
      "3   7   8\n",
      "4   9  10\n",
      "5  11  12\n"
     ]
    }
   ],
   "source": [
    "import numpy as np\n",
    "import pandas as pd\n",
    "\n",
    "arr=np.array([[1,2,3],[4,5,6],[7,8,9],[10,11,12]])\n",
    "print(arr,arr.ndim)\n",
    "\n",
    "print('*'*100)\n",
    "\n",
    "col =2\n",
    "row =6\n",
    "\n",
    "df=pd.DataFrame(arr.reshape(row,col))\n",
    "print(df)"
   ]
  },
  {
   "cell_type": "markdown",
   "id": "72716a82",
   "metadata": {},
   "source": [
    "###### 107. Create a DataFrame using Dictionary with a list and arrays"
   ]
  },
  {
   "cell_type": "code",
   "execution_count": 4,
   "id": "2b5cd3af",
   "metadata": {},
   "outputs": [
    {
     "name": "stdout",
     "output_type": "stream",
     "text": [
      "        Name  Age  Scores\n",
      "0  Abhimanyu    6      85\n",
      "1    Shourya    7      92\n",
      "2     Sachin   31      70\n",
      "3   Digvijay   34      65\n"
     ]
    }
   ],
   "source": [
    "data={\n",
    "    'Name': ['Abhimanyu','Shourya','Sachin','Digvijay'],\n",
    "    'Age': [6, 7, 31, 34],\n",
    "    'Scores': np.array([85, 92, 70, 65])\n",
    "}\n",
    "\n",
    "df=pd.DataFrame(data)\n",
    "print(df)"
   ]
  },
  {
   "cell_type": "markdown",
   "id": "a4d68b79",
   "metadata": {},
   "source": [
    "###### 108. How To Create A Copy Of The Series and DataFrame in Pandas?"
   ]
  },
  {
   "cell_type": "code",
   "execution_count": 12,
   "id": "1dbda8a0",
   "metadata": {},
   "outputs": [
    {
     "name": "stdout",
     "output_type": "stream",
     "text": [
      "Series:\n",
      " 0    10\n",
      "1    20\n",
      "2    30\n",
      "3    40\n",
      "dtype: int64\n",
      "New_Series :\n",
      " 0    10\n",
      "1    20\n",
      "2    30\n",
      "3    40\n",
      "dtype: int64\n",
      "****************************************************************************************************\n",
      "DataFrame:\n",
      "     0   1   2   3\n",
      "0  10  20  30  40\n",
      "1  50  60  70  80\n",
      "New_DataFrame :\n",
      "     0   1   2   3\n",
      "0  10  20  30  40\n",
      "1  50  60  70  80\n"
     ]
    }
   ],
   "source": [
    "s=pd.Series([10,20,30,40])\n",
    "print('Series:\\n',s)\n",
    "new_s=s.copy()\n",
    "print(\"New_Series :\\n\",new_s)\n",
    "\n",
    "print('*'*100)\n",
    "\n",
    "df=pd.DataFrame([[10,20,30,40],[50,60,70,80]])\n",
    "print('DataFrame:\\n',df)\n",
    "new_df=df.copy()\n",
    "print(\"New_DataFrame :\\n\",new_df)"
   ]
  },
  {
   "cell_type": "markdown",
   "id": "e03d6ca8",
   "metadata": {},
   "source": [
    "###### 109. How Will You Add An Index, Row, Or Column To A DataFrame In Pandas?"
   ]
  },
  {
   "cell_type": "markdown",
   "id": "5148d726",
   "metadata": {},
   "source": [
    "###### a. Adding index"
   ]
  },
  {
   "cell_type": "code",
   "execution_count": 64,
   "id": "29a1e04d",
   "metadata": {},
   "outputs": [
    {
     "name": "stdout",
     "output_type": "stream",
     "text": [
      "  Name Age\n",
      "0    A   B\n",
      "1    C   D\n",
      "2   10  20\n",
      "3   30  40\n",
      "****************************************************************************************************\n",
      "     Age\n",
      "Name    \n",
      "A      B\n",
      "C      D\n",
      "10    20\n",
      "30    40\n"
     ]
    }
   ],
   "source": [
    "# 1. Set index by using existing column\n",
    "\n",
    "data=[['A','B'],['C','D'],[10,20],[30,40]]\n",
    "df=pd.DataFrame(data,columns=['Name','Age'])\n",
    "print(df)\n",
    "\n",
    "print('*'*100)\n",
    "\n",
    "newdf=df.set_index('Name')\n",
    "print(newdf)"
   ]
  },
  {
   "cell_type": "code",
   "execution_count": 66,
   "id": "dcb3bbe6",
   "metadata": {},
   "outputs": [
    {
     "name": "stdout",
     "output_type": "stream",
     "text": [
      "    Name Age\n",
      "100    A   B\n",
      "200    C   D\n",
      "300   10  20\n",
      "400   30  40\n",
      "****************************************************************************************************\n",
      "     Name Age\n",
      "10.1    A   B\n",
      "20.2    C   D\n",
      "30.3   10  20\n",
      "40.4   30  40\n"
     ]
    }
   ],
   "source": [
    "# 2.Assign new index\n",
    "print(df)\n",
    "print('*'*100)\n",
    "df.index=[10.10,20.20,30.30,40.40]\n",
    "print(df)"
   ]
  },
  {
   "cell_type": "markdown",
   "id": "e41f2c71",
   "metadata": {},
   "source": [
    "###### b. Adding a row"
   ]
  },
  {
   "cell_type": "code",
   "execution_count": 70,
   "id": "e10333a6",
   "metadata": {},
   "outputs": [
    {
     "name": "stdout",
     "output_type": "stream",
     "text": [
      "      Name  Age\n",
      "0     John   25\n",
      "1     Emma   30\n",
      "2  Michael   28\n",
      "****************************************************************************************************\n",
      "       Name  Age\n",
      "0      John   25\n",
      "1      Emma   30\n",
      "2   Michael   28\n",
      "3  Digvijay   34\n"
     ]
    }
   ],
   "source": [
    "df = pd.DataFrame({'Name': ['John', 'Emma', 'Michael'],\n",
    "                   'Age': [25, 30, 28]})\n",
    "\n",
    "print(df)\n",
    "print('*'*100)\n",
    "\n",
    "# Adding new row\n",
    "new_row = pd.DataFrame({'Name':'Digvijay','Age':34},index=[3])\n",
    "df2=pd.concat([df,new_row])\n",
    "print(df2)\n"
   ]
  },
  {
   "cell_type": "markdown",
   "id": "c4d72599",
   "metadata": {},
   "source": [
    "###### c. Adding a column"
   ]
  },
  {
   "cell_type": "code",
   "execution_count": 71,
   "id": "3f27cc3e",
   "metadata": {},
   "outputs": [
    {
     "name": "stdout",
     "output_type": "stream",
     "text": [
      "       Name  Age\n",
      "0      John   25\n",
      "1      Emma   30\n",
      "2   Michael   28\n",
      "3  Digvijay   34\n",
      "****************************************************************************************************\n",
      "       Name  Age  Score\n",
      "0      John   25     91\n",
      "1      Emma   30     92\n",
      "2   Michael   28     93\n",
      "3  Digvijay   34     94\n"
     ]
    }
   ],
   "source": [
    "print(df2)\n",
    "\n",
    "print('*'*100)\n",
    "\n",
    "df2['Score']=[91,92,93,94]\n",
    "\n",
    "print(df2)"
   ]
  },
  {
   "cell_type": "markdown",
   "id": "48dbc5b0",
   "metadata": {},
   "source": [
    "###### 110. What Method Will You Use To Rename The Index Or Columns Of Pandas DataFrame?"
   ]
  },
  {
   "cell_type": "code",
   "execution_count": 78,
   "id": "1ea899a9",
   "metadata": {
    "scrolled": true
   },
   "outputs": [
    {
     "name": "stdout",
     "output_type": "stream",
     "text": [
      "     Name  Age\n",
      "0   Rohit   35\n",
      "1   Virat   34\n",
      "2  Hardik   33\n",
      "****************************************************************************************************\n",
      "Renaming Index:\n",
      "        Name  Age\n",
      "1.1   Rohit   35\n",
      "2.2   Virat   34\n",
      "3.3  Hardik   33\n",
      "Renaming Column:\n",
      "     Full Name  Age of Candidate\n",
      "1.1     Rohit                35\n",
      "2.2     Virat                34\n",
      "3.3    Hardik                33\n"
     ]
    }
   ],
   "source": [
    "df = pd.DataFrame({'Name': ['Rohit', 'Virat', 'Hardik'],\n",
    "                   'Age': [35, 34, 33]})\n",
    "print(df)\n",
    "\n",
    "print('*'*100)\n",
    "\n",
    "df.rename(index={0:1.1, 1:2.2, 2:3.3, 3:4.4},inplace=True)\n",
    "print(\"Renaming Index:\\n\",df)\n",
    "\n",
    "\n",
    "df.rename(columns={'Name':'Full Name','Age':'Age of Candidate'},inplace=True)\n",
    "print(\"Renaming Column:\\n\",df)\n"
   ]
  },
  {
   "cell_type": "markdown",
   "id": "67c19e54",
   "metadata": {},
   "source": [
    "                                                                                                         Date: 08-May-2023"
   ]
  },
  {
   "cell_type": "markdown",
   "id": "f9ed35c3",
   "metadata": {},
   "source": [
    "###### 111. How Can You Iterate Over DataFrame In Pandas?"
   ]
  },
  {
   "cell_type": "code",
   "execution_count": 12,
   "id": "0ceda8d9",
   "metadata": {},
   "outputs": [
    {
     "name": "stdout",
     "output_type": "stream",
     "text": [
      "  Name  Jercy      City  Package (Lkh/Annum)\n",
      "0    A     10      Pune                 12.1\n",
      "1    B     20    Mumbai                 11.3\n",
      "2    C     30     Delhi                 12.5\n",
      "3    D     40  Banglore                 15.2\n",
      "****************************************************************************************************\n",
      "0 Name                      A\n",
      "Jercy                    10\n",
      "City                   Pune\n",
      "Package (Lkh/Annum)    12.1\n",
      "Name: 0, dtype: object\n",
      "....................................................................................................\n",
      "1 Name                        B\n",
      "Jercy                      20\n",
      "City                   Mumbai\n",
      "Package (Lkh/Annum)      11.3\n",
      "Name: 1, dtype: object\n",
      "....................................................................................................\n",
      "2 Name                       C\n",
      "Jercy                     30\n",
      "City                   Delhi\n",
      "Package (Lkh/Annum)     12.5\n",
      "Name: 2, dtype: object\n",
      "....................................................................................................\n",
      "3 Name                          D\n",
      "Jercy                        40\n",
      "City                   Banglore\n",
      "Package (Lkh/Annum)        15.2\n",
      "Name: 3, dtype: object\n",
      "....................................................................................................\n"
     ]
    }
   ],
   "source": [
    "import pandas as pd\n",
    "import numpy as np\n",
    "\n",
    "data=[['A',10,'Pune',12.1],['B',20,'Mumbai',11.3],['C',30,'Delhi',12.5],['D',40,'Banglore',15.2]]\n",
    "df=pd.DataFrame(data,columns=['Name','Jercy','City','Package (Lkh/Annum)'])\n",
    "print(df)\n",
    "\n",
    "print('*'*100)\n",
    "\n",
    "for index, row in df.iterrows():\n",
    "    print(index,row)\n",
    "    print('.'*100)"
   ]
  },
  {
   "cell_type": "markdown",
   "id": "fb2eb720",
   "metadata": {},
   "source": [
    "###### 112. How to create an array from DataFrame"
   ]
  },
  {
   "cell_type": "code",
   "execution_count": 15,
   "id": "4e22d5d2",
   "metadata": {},
   "outputs": [
    {
     "name": "stdout",
     "output_type": "stream",
     "text": [
      "  Name  Jercy      City  Package (Lkh/Annum)\n",
      "0    A     10      Pune                 12.1\n",
      "1    B     20    Mumbai                 11.3\n",
      "2    C     30     Delhi                 12.5\n",
      "3    D     40  Banglore                 15.2\n",
      "****************************************************************************************************\n"
     ]
    },
    {
     "data": {
      "text/plain": [
       "array([['A', 10, 'Pune', 12.1],\n",
       "       ['B', 20, 'Mumbai', 11.3],\n",
       "       ['C', 30, 'Delhi', 12.5],\n",
       "       ['D', 40, 'Banglore', 15.2]], dtype=object)"
      ]
     },
     "execution_count": 15,
     "metadata": {},
     "output_type": "execute_result"
    }
   ],
   "source": [
    "data=[['A',10,'Pune',12.1],['B',20,'Mumbai',11.3],['C',30,'Delhi',12.5],['D',40,'Banglore',15.2]]\n",
    "df=pd.DataFrame(data,columns=['Name','Jercy','City','Package (Lkh/Annum)'])\n",
    "print(df)\n",
    "\n",
    "print('*'*100)\n",
    "\n",
    "arr=np.array(df)\n",
    "arr"
   ]
  },
  {
   "cell_type": "markdown",
   "id": "fab2ba83",
   "metadata": {},
   "source": [
    "###### 113. How to create a list from DataFrame"
   ]
  },
  {
   "cell_type": "code",
   "execution_count": 21,
   "id": "9dac3ab4",
   "metadata": {},
   "outputs": [
    {
     "name": "stdout",
     "output_type": "stream",
     "text": [
      "  Name  Jercy      City  Package (Lkh/Annum)\n",
      "0    A     10      Pune                 12.1\n",
      "1    B     20    Mumbai                 11.3\n",
      "2    C     30     Delhi                 12.5\n",
      "3    D     40  Banglore                 15.2\n",
      "****************************************************************************************************\n"
     ]
    },
    {
     "data": {
      "text/plain": [
       "([['A', 10, 'Pune', 12.1],\n",
       "  ['B', 20, 'Mumbai', 11.3],\n",
       "  ['C', 30, 'Delhi', 12.5],\n",
       "  ['D', 40, 'Banglore', 15.2]],\n",
       " list)"
      ]
     },
     "execution_count": 21,
     "metadata": {},
     "output_type": "execute_result"
    }
   ],
   "source": [
    "data=[['A',10,'Pune',12.1],['B',20,'Mumbai',11.3],['C',30,'Delhi',12.5],['D',40,'Banglore',15.2]]\n",
    "df=pd.DataFrame(data,columns=['Name','Jercy','City','Package (Lkh/Annum)'])\n",
    "print(df)\n",
    "\n",
    "print('*'*100)\n",
    "\n",
    "lst=df.values.tolist()\n",
    "lst,type(lst)"
   ]
  },
  {
   "cell_type": "markdown",
   "id": "3aa89192",
   "metadata": {},
   "source": [
    "###### 114. How to Reset the dataframes index?"
   ]
  },
  {
   "cell_type": "code",
   "execution_count": 26,
   "id": "fbdfcab9",
   "metadata": {},
   "outputs": [
    {
     "name": "stdout",
     "output_type": "stream",
     "text": [
      "  Name  Jercy      City  Package (Lkh/Annum)\n",
      "0    A     10      Pune                 12.1\n",
      "1    B     20    Mumbai                 11.3\n",
      "2    C     30     Delhi                 12.5\n",
      "3    D     40  Banglore                 15.2\n",
      "****************************************************************************************************\n",
      "      Name  Jercy      City  Package (Lkh/Annum)\n",
      "one      A     10      Pune                 12.1\n",
      "two      B     20    Mumbai                 11.3\n",
      "three    C     30     Delhi                 12.5\n",
      "four     D     40  Banglore                 15.2\n"
     ]
    }
   ],
   "source": [
    "data=[['A',10,'Pune',12.1],['B',20,'Mumbai',11.3],['C',30,'Delhi',12.5],['D',40,'Banglore',15.2]]\n",
    "df=pd.DataFrame(data,columns=['Name','Jercy','City','Package (Lkh/Annum)'])\n",
    "print(df)\n",
    "\n",
    "print('*'*100)\n",
    "\n",
    "df.rename(index={0:'one',1:'two',2:'three',3:'four'},inplace=True)\n",
    "print(df)"
   ]
  },
  {
   "cell_type": "markdown",
   "id": "4893b769",
   "metadata": {},
   "source": [
    "###### 115. Write a Pandas program to count the number of rows and columns of a DataFrame"
   ]
  },
  {
   "cell_type": "code",
   "execution_count": 27,
   "id": "0e74ecc0",
   "metadata": {},
   "outputs": [
    {
     "name": "stdout",
     "output_type": "stream",
     "text": [
      "  Name  Jercy      City  Package (Lkh/Annum)\n",
      "0    A     10      Pune                 12.1\n",
      "1    B     20    Mumbai                 11.3\n",
      "2    C     30     Delhi                 12.5\n",
      "3    D     40  Banglore                 15.2\n",
      "****************************************************************************************************\n",
      "(4, 4)\n"
     ]
    }
   ],
   "source": [
    "data=[['A',10,'Pune',12.1],['B',20,'Mumbai',11.3],['C',30,'Delhi',12.5],['D',40,'Banglore',15.2]]\n",
    "df=pd.DataFrame(data,columns=['Name','Jercy','City','Package (Lkh/Annum)'])\n",
    "print(df)\n",
    "\n",
    "print('*'*100)\n",
    "\n",
    "print(df.shape)"
   ]
  },
  {
   "cell_type": "markdown",
   "id": "efb2fec8",
   "metadata": {},
   "source": [
    "                                                                                                         Date: 09-May-2023"
   ]
  },
  {
   "cell_type": "markdown",
   "id": "47f20e84",
   "metadata": {},
   "source": [
    "###### 116. Write a Pandas program to add, subtract, multiple, and divide two Pandas Series"
   ]
  },
  {
   "cell_type": "code",
   "execution_count": 1,
   "id": "4544d155",
   "metadata": {},
   "outputs": [
    {
     "name": "stdout",
     "output_type": "stream",
     "text": [
      "Series 1: 0     1\n",
      "1     2\n",
      "2     3\n",
      "3     4\n",
      "4     5\n",
      "5     6\n",
      "6     7\n",
      "7     8\n",
      "8     9\n",
      "9    10\n",
      "dtype: int64\n",
      "Series 2: 0      11\n",
      "1      22\n",
      "2      33\n",
      "3      44\n",
      "4      55\n",
      "5      66\n",
      "6      77\n",
      "7      88\n",
      "8      99\n",
      "9    1010\n",
      "dtype: int64\n",
      "Addition : 0      12\n",
      "1      24\n",
      "2      36\n",
      "3      48\n",
      "4      60\n",
      "5      72\n",
      "6      84\n",
      "7      96\n",
      "8     108\n",
      "9    1020\n",
      "dtype: int64\n",
      "Subtraction : 0      10\n",
      "1      20\n",
      "2      30\n",
      "3      40\n",
      "4      50\n",
      "5      60\n",
      "6      70\n",
      "7      80\n",
      "8      90\n",
      "9    1000\n",
      "dtype: int64\n",
      "Multiplication : 0       11\n",
      "1       44\n",
      "2       99\n",
      "3      176\n",
      "4      275\n",
      "5      396\n",
      "6      539\n",
      "7      704\n",
      "8      891\n",
      "9    10100\n",
      "dtype: int64\n",
      "Division : 0    0.090909\n",
      "1    0.090909\n",
      "2    0.090909\n",
      "3    0.090909\n",
      "4    0.090909\n",
      "5    0.090909\n",
      "6    0.090909\n",
      "7    0.090909\n",
      "8    0.090909\n",
      "9    0.009901\n",
      "dtype: float64\n"
     ]
    }
   ],
   "source": [
    "import pandas as pd\n",
    "import numpy as np\n",
    "\n",
    "s1=pd.Series([1,2,3,4,5,6,7,8,9,10])\n",
    "s2=pd.Series([11,22,33,44,55,66,77,88,99,1010])\n",
    "print('Series 1:',s1)\n",
    "print('Series 2:',s2)\n",
    "\n",
    "print('Addition :',s1+s2)\n",
    "print('Subtraction :',s2-s1)\n",
    "print('Multiplication :',s1*s2)\n",
    "print('Division :',s1/s2)"
   ]
  },
  {
   "cell_type": "markdown",
   "id": "3e603491",
   "metadata": {},
   "source": [
    "###### 117. Write a Pandas program to import excel data into a Pandas dataframe"
   ]
  },
  {
   "cell_type": "code",
   "execution_count": 2,
   "id": "c2de9b92",
   "metadata": {},
   "outputs": [
    {
     "data": {
      "text/html": [
       "<div>\n",
       "<style scoped>\n",
       "    .dataframe tbody tr th:only-of-type {\n",
       "        vertical-align: middle;\n",
       "    }\n",
       "\n",
       "    .dataframe tbody tr th {\n",
       "        vertical-align: top;\n",
       "    }\n",
       "\n",
       "    .dataframe thead th {\n",
       "        text-align: right;\n",
       "    }\n",
       "</style>\n",
       "<table border=\"1\" class=\"dataframe\">\n",
       "  <thead>\n",
       "    <tr style=\"text-align: right;\">\n",
       "      <th></th>\n",
       "      <th>Date</th>\n",
       "      <th>Time</th>\n",
       "      <th>Vrms ph-ph AB Avg</th>\n",
       "      <th>Vrms ph-ph BC Avg</th>\n",
       "      <th>Vrms ph-ph CA Avg</th>\n",
       "      <th>Current A Avg</th>\n",
       "      <th>Current B Avg</th>\n",
       "      <th>Current C Avg</th>\n",
       "      <th>Active Power AN Avg</th>\n",
       "      <th>Active Power BN Avg</th>\n",
       "      <th>...</th>\n",
       "      <th>DPF CN Avg</th>\n",
       "      <th>DPF Total Avg</th>\n",
       "      <th>THD V AN Avg</th>\n",
       "      <th>THD V BN Avg</th>\n",
       "      <th>THD V CN Avg</th>\n",
       "      <th>THD V NG Avg</th>\n",
       "      <th>THD A A Avg</th>\n",
       "      <th>THD A B Avg</th>\n",
       "      <th>THD A C Avg</th>\n",
       "      <th>THD A N Avg</th>\n",
       "    </tr>\n",
       "  </thead>\n",
       "  <tbody>\n",
       "    <tr>\n",
       "      <th>0</th>\n",
       "      <td>2021-07-01</td>\n",
       "      <td>12:00:00 AM.415</td>\n",
       "      <td>34485.0</td>\n",
       "      <td>34455.0</td>\n",
       "      <td>34356.0</td>\n",
       "      <td>17.7</td>\n",
       "      <td>16.8</td>\n",
       "      <td>15.3</td>\n",
       "      <td>350000.0</td>\n",
       "      <td>330000.0</td>\n",
       "      <td>...</td>\n",
       "      <td>1.0</td>\n",
       "      <td>1.0</td>\n",
       "      <td>0.61</td>\n",
       "      <td>0.62</td>\n",
       "      <td>0.46</td>\n",
       "      <td>9.51</td>\n",
       "      <td>10.58</td>\n",
       "      <td>13.11</td>\n",
       "      <td>11.14</td>\n",
       "      <td>75.99</td>\n",
       "    </tr>\n",
       "    <tr>\n",
       "      <th>1</th>\n",
       "      <td>2021-07-01</td>\n",
       "      <td>12:00:01 AM.415</td>\n",
       "      <td>34476.0</td>\n",
       "      <td>34449.0</td>\n",
       "      <td>34350.0</td>\n",
       "      <td>17.4</td>\n",
       "      <td>16.8</td>\n",
       "      <td>15.3</td>\n",
       "      <td>350000.0</td>\n",
       "      <td>330000.0</td>\n",
       "      <td>...</td>\n",
       "      <td>1.0</td>\n",
       "      <td>1.0</td>\n",
       "      <td>0.62</td>\n",
       "      <td>0.63</td>\n",
       "      <td>0.46</td>\n",
       "      <td>9.25</td>\n",
       "      <td>10.61</td>\n",
       "      <td>13.19</td>\n",
       "      <td>11.21</td>\n",
       "      <td>72.74</td>\n",
       "    </tr>\n",
       "    <tr>\n",
       "      <th>2</th>\n",
       "      <td>2021-07-01</td>\n",
       "      <td>12:00:02 AM.415</td>\n",
       "      <td>34452.0</td>\n",
       "      <td>34422.0</td>\n",
       "      <td>34323.0</td>\n",
       "      <td>17.7</td>\n",
       "      <td>16.8</td>\n",
       "      <td>15.3</td>\n",
       "      <td>350000.0</td>\n",
       "      <td>330000.0</td>\n",
       "      <td>...</td>\n",
       "      <td>1.0</td>\n",
       "      <td>1.0</td>\n",
       "      <td>0.62</td>\n",
       "      <td>0.63</td>\n",
       "      <td>0.47</td>\n",
       "      <td>9.37</td>\n",
       "      <td>10.52</td>\n",
       "      <td>13.08</td>\n",
       "      <td>11.12</td>\n",
       "      <td>63.60</td>\n",
       "    </tr>\n",
       "    <tr>\n",
       "      <th>3</th>\n",
       "      <td>2021-07-01</td>\n",
       "      <td>12:00:03 AM.415</td>\n",
       "      <td>34476.0</td>\n",
       "      <td>34449.0</td>\n",
       "      <td>34344.0</td>\n",
       "      <td>17.4</td>\n",
       "      <td>16.8</td>\n",
       "      <td>15.3</td>\n",
       "      <td>350000.0</td>\n",
       "      <td>330000.0</td>\n",
       "      <td>...</td>\n",
       "      <td>1.0</td>\n",
       "      <td>1.0</td>\n",
       "      <td>0.62</td>\n",
       "      <td>0.63</td>\n",
       "      <td>0.46</td>\n",
       "      <td>9.19</td>\n",
       "      <td>10.65</td>\n",
       "      <td>13.21</td>\n",
       "      <td>11.22</td>\n",
       "      <td>84.59</td>\n",
       "    </tr>\n",
       "    <tr>\n",
       "      <th>4</th>\n",
       "      <td>2021-07-01</td>\n",
       "      <td>12:00:04 AM.415</td>\n",
       "      <td>34488.0</td>\n",
       "      <td>34458.0</td>\n",
       "      <td>34359.0</td>\n",
       "      <td>17.4</td>\n",
       "      <td>16.8</td>\n",
       "      <td>15.0</td>\n",
       "      <td>340000.0</td>\n",
       "      <td>330000.0</td>\n",
       "      <td>...</td>\n",
       "      <td>1.0</td>\n",
       "      <td>1.0</td>\n",
       "      <td>0.63</td>\n",
       "      <td>0.63</td>\n",
       "      <td>0.47</td>\n",
       "      <td>8.78</td>\n",
       "      <td>10.69</td>\n",
       "      <td>13.22</td>\n",
       "      <td>11.27</td>\n",
       "      <td>76.81</td>\n",
       "    </tr>\n",
       "  </tbody>\n",
       "</table>\n",
       "<p>5 rows × 40 columns</p>\n",
       "</div>"
      ],
      "text/plain": [
       "        Date             Time  Vrms ph-ph AB Avg  Vrms ph-ph BC Avg   \n",
       "0 2021-07-01  12:00:00 AM.415            34485.0            34455.0  \\\n",
       "1 2021-07-01  12:00:01 AM.415            34476.0            34449.0   \n",
       "2 2021-07-01  12:00:02 AM.415            34452.0            34422.0   \n",
       "3 2021-07-01  12:00:03 AM.415            34476.0            34449.0   \n",
       "4 2021-07-01  12:00:04 AM.415            34488.0            34458.0   \n",
       "\n",
       "   Vrms ph-ph CA Avg  Current A Avg  Current B Avg  Current C Avg   \n",
       "0            34356.0           17.7           16.8           15.3  \\\n",
       "1            34350.0           17.4           16.8           15.3   \n",
       "2            34323.0           17.7           16.8           15.3   \n",
       "3            34344.0           17.4           16.8           15.3   \n",
       "4            34359.0           17.4           16.8           15.0   \n",
       "\n",
       "   Active Power AN Avg  Active Power BN Avg  ...  DPF CN Avg  DPF Total Avg   \n",
       "0             350000.0             330000.0  ...         1.0            1.0  \\\n",
       "1             350000.0             330000.0  ...         1.0            1.0   \n",
       "2             350000.0             330000.0  ...         1.0            1.0   \n",
       "3             350000.0             330000.0  ...         1.0            1.0   \n",
       "4             340000.0             330000.0  ...         1.0            1.0   \n",
       "\n",
       "   THD V AN Avg  THD V BN Avg  THD V CN Avg  THD V NG Avg  THD A A Avg   \n",
       "0          0.61          0.62          0.46          9.51        10.58  \\\n",
       "1          0.62          0.63          0.46          9.25        10.61   \n",
       "2          0.62          0.63          0.47          9.37        10.52   \n",
       "3          0.62          0.63          0.46          9.19        10.65   \n",
       "4          0.63          0.63          0.47          8.78        10.69   \n",
       "\n",
       "   THD A B Avg  THD A C Avg  THD A N Avg  \n",
       "0        13.11        11.14        75.99  \n",
       "1        13.19        11.21        72.74  \n",
       "2        13.08        11.12        63.60  \n",
       "3        13.21        11.22        84.59  \n",
       "4        13.22        11.27        76.81  \n",
       "\n",
       "[5 rows x 40 columns]"
      ]
     },
     "execution_count": 2,
     "metadata": {},
     "output_type": "execute_result"
    }
   ],
   "source": [
    "df=pd.read_excel(r\"C:\\Users\\Digvijay Mohite\\PYTHON & DATA SCIENCE\\Past\\Machin Learning\\Project\\01.07.2021.xlsx\")\n",
    "df.head()"
   ]
  },
  {
   "cell_type": "markdown",
   "id": "0f800d23",
   "metadata": {},
   "source": [
    "###### 118. Write a Pandas program to read specific columns from a given excel file"
   ]
  },
  {
   "cell_type": "code",
   "execution_count": 4,
   "id": "cab923c6",
   "metadata": {},
   "outputs": [
    {
     "data": {
      "text/plain": [
       "Index(['Date', 'Time', 'Vrms ph-ph AB Avg', 'Vrms ph-ph BC Avg',\n",
       "       'Vrms ph-ph CA Avg', 'Current A Avg', 'Current B Avg', 'Current C Avg',\n",
       "       'Active Power AN Avg', 'Active Power BN Avg', 'Active Power CN Avg',\n",
       "       'Active Power Total Avg', 'Apparent Power AN Avg',\n",
       "       'Apparent Power BN Avg', 'Apparent Power CN Avg',\n",
       "       'Apparent Power Total Avg', 'Reactive Power AN Avg',\n",
       "       'Reactive Power BN Avg', 'Reactive Power CN Avg',\n",
       "       'Reactive Power Total Avg', 'Power Factor AN Avg',\n",
       "       'Power Factor BN Avg', 'Power Factor CN Avg', 'Power Factor Total Avg',\n",
       "       'Cos Phi AN Avg', 'Cos Phi BN Avg', 'Cos Phi CN Avg',\n",
       "       'Cos Phi Total Avg', 'DPF AN Avg', 'DPF BN Avg', 'DPF CN Avg',\n",
       "       'DPF Total Avg', 'THD V AN Avg', 'THD V BN Avg', 'THD V CN Avg',\n",
       "       'THD V NG Avg', 'THD A A Avg', 'THD A B Avg', 'THD A C Avg',\n",
       "       'THD A N Avg'],\n",
       "      dtype='object')"
      ]
     },
     "execution_count": 4,
     "metadata": {},
     "output_type": "execute_result"
    }
   ],
   "source": [
    "df.columns"
   ]
  },
  {
   "cell_type": "code",
   "execution_count": 5,
   "id": "1d12eb4d",
   "metadata": {},
   "outputs": [
    {
     "data": {
      "text/plain": [
       "0        9.900000e+05\n",
       "1        9.600000e+05\n",
       "2        9.900000e+05\n",
       "3        9.600000e+05\n",
       "4        9.600000e+05\n",
       "             ...     \n",
       "86414             NaN\n",
       "86415             NaN\n",
       "86416    8.400000e+05\n",
       "86417    1.464817e+06\n",
       "86418    6.150000e+06\n",
       "Name: Active Power Total Avg, Length: 86419, dtype: float64"
      ]
     },
     "execution_count": 5,
     "metadata": {},
     "output_type": "execute_result"
    }
   ],
   "source": [
    "df['Active Power Total Avg']"
   ]
  },
  {
   "cell_type": "markdown",
   "id": "7c58e91e",
   "metadata": {},
   "source": [
    "###### 119. Write a Pandas program to find the sum, mean, max, min value of dataframe"
   ]
  },
  {
   "cell_type": "code",
   "execution_count": 13,
   "id": "df3c5546",
   "metadata": {},
   "outputs": [
    {
     "name": "stdout",
     "output_type": "stream",
     "text": [
      "   A   B   C\n",
      "0  1   6  11\n",
      "1  2   7  12\n",
      "2  3   8  13\n",
      "3  4   9  14\n",
      "4  5  10  15\n",
      "Sum:\n",
      " A    15\n",
      "B    40\n",
      "C    65\n",
      "dtype: int64\n",
      "\n",
      "Mean:\n",
      " A     3.0\n",
      "B     8.0\n",
      "C    13.0\n",
      "dtype: float64\n",
      "\n",
      "Maximum:\n",
      " A     5\n",
      "B    10\n",
      "C    15\n",
      "dtype: int64\n",
      "\n",
      "Minimum:\n",
      " A     1\n",
      "B     6\n",
      "C    11\n",
      "dtype: int64\n"
     ]
    }
   ],
   "source": [
    "data = {'A': [1, 2, 3, 4, 5],\n",
    "        'B': [6, 7, 8, 9, 10],\n",
    "        'C': [11, 12, 13, 14, 15]}\n",
    "\n",
    "df = pd.DataFrame(data)\n",
    "print(df)\n",
    "\n",
    "sum_values = df.sum()\n",
    "mean_values = df.mean()\n",
    "max_values = df.max()\n",
    "min_values = df.min()\n",
    "\n",
    "\n",
    "print(\"Sum:\\n\", sum_values)\n",
    "print(\"\\nMean:\\n\", mean_values)\n",
    "print(\"\\nMaximum:\\n\", max_values)\n",
    "print(\"\\nMinimum:\\n\", min_values)\n"
   ]
  },
  {
   "cell_type": "markdown",
   "id": "f6282339",
   "metadata": {},
   "source": [
    "###### 120. How Can A DataFrame Be Converted To An Excel File and CSV file?"
   ]
  },
  {
   "cell_type": "code",
   "execution_count": 19,
   "id": "6eefae1e",
   "metadata": {},
   "outputs": [
    {
     "name": "stdout",
     "output_type": "stream",
     "text": [
      "   A   B   C\n",
      "0  1   6  11\n",
      "1  2   7  12\n",
      "2  3   8  13\n",
      "3  4   9  14\n",
      "4  5  10  15\n",
      "   Unnamed: 0  A   B   C\n",
      "0           0  1   6  11\n",
      "1           1  2   7  12\n",
      "2           2  3   8  13\n",
      "3           3  4   9  14\n",
      "4           4  5  10  15\n",
      "   Unnamed: 0  A   B   C\n",
      "0           0  1   6  11\n",
      "1           1  2   7  12\n",
      "2           2  3   8  13\n",
      "3           3  4   9  14\n",
      "4           4  5  10  15\n"
     ]
    }
   ],
   "source": [
    "data = {'A': [1, 2, 3, 4, 5],\n",
    "        'B': [6, 7, 8, 9, 10],\n",
    "        'C': [11, 12, 13, 14, 15]}\n",
    "\n",
    "df = pd.DataFrame(data)\n",
    "print(df)\n",
    "\n",
    "excel=df.to_excel('df.xlsx')\n",
    "csv=df.to_csv('df.csv')\n",
    "\n",
    "df_csv=pd.read_csv('df.csv')\n",
    "df_excel=pd.read_excel('df.xlsx')\n",
    "\n",
    "print(df_csv)\n",
    "print(df_excel)"
   ]
  },
  {
   "cell_type": "markdown",
   "id": "35da86c7",
   "metadata": {},
   "source": [
    "                                                                                                         Date: 10-May-2023"
   ]
  },
  {
   "cell_type": "markdown",
   "id": "760be609",
   "metadata": {},
   "source": [
    "###### 121. What is Groupby Function In Pandas? Explain with example\n"
   ]
  },
  {
   "cell_type": "code",
   "execution_count": 3,
   "id": "2ea22c55",
   "metadata": {},
   "outputs": [
    {
     "name": "stdout",
     "output_type": "stream",
     "text": [
      "  Name  Age    City\n",
      "0    A  111    PUNE\n",
      "1    B  222  MUMBAI\n",
      "2    C  333   DELHI\n"
     ]
    },
    {
     "data": {
      "text/plain": [
       "Name  Age\n",
       "A     111    1\n",
       "B     222    1\n",
       "C     333    1\n",
       "Name: count, dtype: int64"
      ]
     },
     "execution_count": 3,
     "metadata": {},
     "output_type": "execute_result"
    }
   ],
   "source": [
    "# groupby function is used for Aggregating statistics grouped by category\n",
    "import numpy as np\n",
    "import pandas as pd\n",
    "data=[('A',111,'PUNE'),('B',222,'MUMBAI'),('C',333,'DELHI')]\n",
    "\n",
    "df=pd.DataFrame(data,columns=['Name','Age','City'])\n",
    "print(df)\n",
    "\n",
    "df.groupby('Name')[['Age']].value_counts()"
   ]
  },
  {
   "cell_type": "markdown",
   "id": "2e747b47",
   "metadata": {},
   "source": [
    "###### 122. What is the use of apply function in pandas?\n"
   ]
  },
  {
   "cell_type": "markdown",
   "id": "9752e473",
   "metadata": {},
   "source": [
    "The apply() function is a powerful method that allows you to apply a function along an axis of a DataFrame or Series\n",
    "\n",
    "syntax :\n",
    "        DataFrame.apply(func, axis=0, args=(), **kwargs)\n",
    "        \n",
    "        func > python, numpy, lambda\n"
   ]
  },
  {
   "cell_type": "markdown",
   "id": "a5086f45",
   "metadata": {},
   "source": [
    "###### 123. How to use apply() with lambda function?\n"
   ]
  },
  {
   "cell_type": "code",
   "execution_count": 4,
   "id": "61487fa7",
   "metadata": {},
   "outputs": [
    {
     "name": "stdout",
     "output_type": "stream",
     "text": [
      "   A   B  A_squared\n",
      "0  1  10          1\n",
      "1  2  20          4\n",
      "2  3  30          9\n",
      "3  4  40         16\n",
      "4  5  50         25\n"
     ]
    }
   ],
   "source": [
    "data = {'A': [1, 2, 3, 4, 5],\n",
    "        'B': [10, 20, 30, 40, 50]}\n",
    "df = pd.DataFrame(data)\n",
    "\n",
    "# Use apply() with a lambda function to square each element in column 'A'\n",
    "df['A_squared'] = df['A'].apply(lambda x: x ** 2)\n",
    "\n",
    "print(df)\n"
   ]
  },
  {
   "cell_type": "markdown",
   "id": "96d47b1b",
   "metadata": {},
   "source": [
    "###### 124. Write a Pandas program to check whether only a title case is present in a given column of a DataFrame.\n"
   ]
  },
  {
   "cell_type": "code",
   "execution_count": 6,
   "id": "a5d0ad18",
   "metadata": {},
   "outputs": [
    {
     "name": "stdout",
     "output_type": "stream",
     "text": [
      "False\n"
     ]
    }
   ],
   "source": [
    "data = {'Name': ['Rohit Shrama', 'stive Smith', 'Samson', 'Hardik']}\n",
    "df = pd.DataFrame(data)\n",
    "\n",
    "# Check if values in 'Name' column are in title case\n",
    "is_title_case = df['Name'].apply(lambda x: x.istitle())\n",
    "\n",
    "# Check if all values are in title case\n",
    "all_title_case = is_title_case.all()\n",
    "\n",
    "print(all_title_case)\n"
   ]
  },
  {
   "cell_type": "markdown",
   "id": "959bfc05",
   "metadata": {},
   "source": [
    "###### 125. What is the map Function In Pandas?\n"
   ]
  },
  {
   "cell_type": "markdown",
   "id": "ca0952dc",
   "metadata": {},
   "source": [
    " It is used to perform mapping or substitution operations on the elements of a Series based on a provided mapping or function."
   ]
  },
  {
   "cell_type": "code",
   "execution_count": 7,
   "id": "467197f9",
   "metadata": {},
   "outputs": [
    {
     "name": "stdout",
     "output_type": "stream",
     "text": [
      "0    Excellent\n",
      "1         Good\n",
      "2      Average\n",
      "3         Good\n",
      "4    Excellent\n",
      "dtype: object\n"
     ]
    }
   ],
   "source": [
    "import pandas as pd\n",
    "\n",
    "# Create a sample Series\n",
    "grades = pd.Series(['A', 'B', 'C', 'B', 'A'])\n",
    "\n",
    "# Define a mapping dictionary\n",
    "grade_mapping = {'A': 'Excellent', 'B': 'Good', 'C': 'Average'}\n",
    "\n",
    "# Map the grades using the dictionary\n",
    "mapped_grades = grades.map(grade_mapping)\n",
    "\n",
    "print(mapped_grades)\n"
   ]
  },
  {
   "cell_type": "markdown",
   "id": "c7925cf7",
   "metadata": {},
   "source": [
    "                                                                                                         Date: 11-May-2023"
   ]
  },
  {
   "cell_type": "markdown",
   "id": "9641f51b",
   "metadata": {},
   "source": [
    "###### 126. How will you add a column to a pandas DataFrame?"
   ]
  },
  {
   "cell_type": "code",
   "execution_count": 22,
   "id": "d2e3a89a",
   "metadata": {},
   "outputs": [
    {
     "name": "stdout",
     "output_type": "stream",
     "text": [
      "Original Dataframe:\n",
      "         Name  Age      City\n",
      "0   Digvijay   34      Pune\n",
      "1     Pravin   33      Pune\n",
      "2  Abhimanyu    6    Sangli\n",
      "3    Shourya    7    Satara\n",
      "4     Atharv    6  Kolhapur\n",
      "5       Amey    2   Belgaum\n",
      "6     Samrat    3   Chennai\n"
     ]
    }
   ],
   "source": [
    "import numpy as np\n",
    "import pandas as pd\n",
    "\n",
    "data={'Name':['Digvijay','Pravin','Abhimanyu','Shourya','Atharv','Amey','Samrat'],\n",
    "     'Age' :[34, 33, 6, 7, 6, 2, 3],\n",
    "     'City':['Pune','Pune','Sangli','Satara','Kolhapur','Belgaum','Chennai']}\n",
    "\n",
    "df = pd.DataFrame(data)\n",
    "print('Original Dataframe:\\n',df)"
   ]
  },
  {
   "cell_type": "code",
   "execution_count": 23,
   "id": "c4f81f8d",
   "metadata": {},
   "outputs": [
    {
     "data": {
      "text/html": [
       "<div>\n",
       "<style scoped>\n",
       "    .dataframe tbody tr th:only-of-type {\n",
       "        vertical-align: middle;\n",
       "    }\n",
       "\n",
       "    .dataframe tbody tr th {\n",
       "        vertical-align: top;\n",
       "    }\n",
       "\n",
       "    .dataframe thead th {\n",
       "        text-align: right;\n",
       "    }\n",
       "</style>\n",
       "<table border=\"1\" class=\"dataframe\">\n",
       "  <thead>\n",
       "    <tr style=\"text-align: right;\">\n",
       "      <th></th>\n",
       "      <th>Name</th>\n",
       "      <th>Age</th>\n",
       "      <th>City</th>\n",
       "      <th>Jercy</th>\n",
       "    </tr>\n",
       "  </thead>\n",
       "  <tbody>\n",
       "    <tr>\n",
       "      <th>0</th>\n",
       "      <td>Digvijay</td>\n",
       "      <td>34</td>\n",
       "      <td>Pune</td>\n",
       "      <td>9</td>\n",
       "    </tr>\n",
       "    <tr>\n",
       "      <th>1</th>\n",
       "      <td>Pravin</td>\n",
       "      <td>33</td>\n",
       "      <td>Pune</td>\n",
       "      <td>10</td>\n",
       "    </tr>\n",
       "    <tr>\n",
       "      <th>2</th>\n",
       "      <td>Abhimanyu</td>\n",
       "      <td>6</td>\n",
       "      <td>Sangli</td>\n",
       "      <td>3</td>\n",
       "    </tr>\n",
       "    <tr>\n",
       "      <th>3</th>\n",
       "      <td>Shourya</td>\n",
       "      <td>7</td>\n",
       "      <td>Satara</td>\n",
       "      <td>14</td>\n",
       "    </tr>\n",
       "    <tr>\n",
       "      <th>4</th>\n",
       "      <td>Atharv</td>\n",
       "      <td>6</td>\n",
       "      <td>Kolhapur</td>\n",
       "      <td>20</td>\n",
       "    </tr>\n",
       "    <tr>\n",
       "      <th>5</th>\n",
       "      <td>Amey</td>\n",
       "      <td>2</td>\n",
       "      <td>Belgaum</td>\n",
       "      <td>33</td>\n",
       "    </tr>\n",
       "    <tr>\n",
       "      <th>6</th>\n",
       "      <td>Samrat</td>\n",
       "      <td>3</td>\n",
       "      <td>Chennai</td>\n",
       "      <td>2</td>\n",
       "    </tr>\n",
       "  </tbody>\n",
       "</table>\n",
       "</div>"
      ],
      "text/plain": [
       "        Name  Age      City  Jercy\n",
       "0   Digvijay   34      Pune      9\n",
       "1     Pravin   33      Pune     10\n",
       "2  Abhimanyu    6    Sangli      3\n",
       "3    Shourya    7    Satara     14\n",
       "4     Atharv    6  Kolhapur     20\n",
       "5       Amey    2   Belgaum     33\n",
       "6     Samrat    3   Chennai      2"
      ]
     },
     "execution_count": 23,
     "metadata": {},
     "output_type": "execute_result"
    }
   ],
   "source": [
    "df['Jercy'] = [9,10,3,14,20,33,2] # adding columns to dataframe\n",
    "df"
   ]
  },
  {
   "cell_type": "markdown",
   "id": "875b90f5",
   "metadata": {},
   "source": [
    "###### 127. How will you add a column at a specific index to a pandas DataFrame?"
   ]
  },
  {
   "cell_type": "code",
   "execution_count": 24,
   "id": "f3187585",
   "metadata": {},
   "outputs": [
    {
     "data": {
      "text/html": [
       "<div>\n",
       "<style scoped>\n",
       "    .dataframe tbody tr th:only-of-type {\n",
       "        vertical-align: middle;\n",
       "    }\n",
       "\n",
       "    .dataframe tbody tr th {\n",
       "        vertical-align: top;\n",
       "    }\n",
       "\n",
       "    .dataframe thead th {\n",
       "        text-align: right;\n",
       "    }\n",
       "</style>\n",
       "<table border=\"1\" class=\"dataframe\">\n",
       "  <thead>\n",
       "    <tr style=\"text-align: right;\">\n",
       "      <th></th>\n",
       "      <th>Name</th>\n",
       "      <th>Age</th>\n",
       "      <th>City</th>\n",
       "      <th>Jercy</th>\n",
       "    </tr>\n",
       "  </thead>\n",
       "  <tbody>\n",
       "    <tr>\n",
       "      <th>0</th>\n",
       "      <td>Digvijay</td>\n",
       "      <td>34</td>\n",
       "      <td>Pune</td>\n",
       "      <td>9</td>\n",
       "    </tr>\n",
       "    <tr>\n",
       "      <th>1</th>\n",
       "      <td>Pravin</td>\n",
       "      <td>33</td>\n",
       "      <td>Pune</td>\n",
       "      <td>10</td>\n",
       "    </tr>\n",
       "    <tr>\n",
       "      <th>2</th>\n",
       "      <td>Abhimanyu</td>\n",
       "      <td>6</td>\n",
       "      <td>Sangli</td>\n",
       "      <td>3</td>\n",
       "    </tr>\n",
       "    <tr>\n",
       "      <th>3</th>\n",
       "      <td>Shourya</td>\n",
       "      <td>7</td>\n",
       "      <td>Satara</td>\n",
       "      <td>14</td>\n",
       "    </tr>\n",
       "    <tr>\n",
       "      <th>4</th>\n",
       "      <td>Atharv</td>\n",
       "      <td>6</td>\n",
       "      <td>Kolhapur</td>\n",
       "      <td>20</td>\n",
       "    </tr>\n",
       "    <tr>\n",
       "      <th>5</th>\n",
       "      <td>Amey</td>\n",
       "      <td>2</td>\n",
       "      <td>Belgaum</td>\n",
       "      <td>33</td>\n",
       "    </tr>\n",
       "    <tr>\n",
       "      <th>6</th>\n",
       "      <td>Samrat</td>\n",
       "      <td>3</td>\n",
       "      <td>Chennai</td>\n",
       "      <td>2</td>\n",
       "    </tr>\n",
       "  </tbody>\n",
       "</table>\n",
       "</div>"
      ],
      "text/plain": [
       "        Name  Age      City  Jercy\n",
       "0   Digvijay   34      Pune      9\n",
       "1     Pravin   33      Pune     10\n",
       "2  Abhimanyu    6    Sangli      3\n",
       "3    Shourya    7    Satara     14\n",
       "4     Atharv    6  Kolhapur     20\n",
       "5       Amey    2   Belgaum     33\n",
       "6     Samrat    3   Chennai      2"
      ]
     },
     "execution_count": 24,
     "metadata": {},
     "output_type": "execute_result"
    }
   ],
   "source": [
    "df"
   ]
  },
  {
   "cell_type": "code",
   "execution_count": 25,
   "id": "2e596d7b",
   "metadata": {},
   "outputs": [
    {
     "data": {
      "text/html": [
       "<div>\n",
       "<style scoped>\n",
       "    .dataframe tbody tr th:only-of-type {\n",
       "        vertical-align: middle;\n",
       "    }\n",
       "\n",
       "    .dataframe tbody tr th {\n",
       "        vertical-align: top;\n",
       "    }\n",
       "\n",
       "    .dataframe thead th {\n",
       "        text-align: right;\n",
       "    }\n",
       "</style>\n",
       "<table border=\"1\" class=\"dataframe\">\n",
       "  <thead>\n",
       "    <tr style=\"text-align: right;\">\n",
       "      <th></th>\n",
       "      <th>Name</th>\n",
       "      <th>Fev food</th>\n",
       "      <th>Age</th>\n",
       "      <th>City</th>\n",
       "      <th>Jercy</th>\n",
       "    </tr>\n",
       "  </thead>\n",
       "  <tbody>\n",
       "    <tr>\n",
       "      <th>0</th>\n",
       "      <td>Digvijay</td>\n",
       "      <td>Paneer</td>\n",
       "      <td>34</td>\n",
       "      <td>Pune</td>\n",
       "      <td>9</td>\n",
       "    </tr>\n",
       "    <tr>\n",
       "      <th>1</th>\n",
       "      <td>Pravin</td>\n",
       "      <td>Tari</td>\n",
       "      <td>33</td>\n",
       "      <td>Pune</td>\n",
       "      <td>10</td>\n",
       "    </tr>\n",
       "    <tr>\n",
       "      <th>2</th>\n",
       "      <td>Abhimanyu</td>\n",
       "      <td>Mango</td>\n",
       "      <td>6</td>\n",
       "      <td>Sangli</td>\n",
       "      <td>3</td>\n",
       "    </tr>\n",
       "    <tr>\n",
       "      <th>3</th>\n",
       "      <td>Shourya</td>\n",
       "      <td>Fish</td>\n",
       "      <td>7</td>\n",
       "      <td>Satara</td>\n",
       "      <td>14</td>\n",
       "    </tr>\n",
       "    <tr>\n",
       "      <th>4</th>\n",
       "      <td>Atharv</td>\n",
       "      <td>Vadapaav</td>\n",
       "      <td>6</td>\n",
       "      <td>Kolhapur</td>\n",
       "      <td>20</td>\n",
       "    </tr>\n",
       "    <tr>\n",
       "      <th>5</th>\n",
       "      <td>Amey</td>\n",
       "      <td>Cake</td>\n",
       "      <td>2</td>\n",
       "      <td>Belgaum</td>\n",
       "      <td>33</td>\n",
       "    </tr>\n",
       "    <tr>\n",
       "      <th>6</th>\n",
       "      <td>Samrat</td>\n",
       "      <td>Icecreme</td>\n",
       "      <td>3</td>\n",
       "      <td>Chennai</td>\n",
       "      <td>2</td>\n",
       "    </tr>\n",
       "  </tbody>\n",
       "</table>\n",
       "</div>"
      ],
      "text/plain": [
       "        Name  Fev food  Age      City  Jercy\n",
       "0   Digvijay    Paneer   34      Pune      9\n",
       "1     Pravin      Tari   33      Pune     10\n",
       "2  Abhimanyu     Mango    6    Sangli      3\n",
       "3    Shourya      Fish    7    Satara     14\n",
       "4     Atharv  Vadapaav    6  Kolhapur     20\n",
       "5       Amey      Cake    2   Belgaum     33\n",
       "6     Samrat  Icecreme    3   Chennai      2"
      ]
     },
     "execution_count": 25,
     "metadata": {},
     "output_type": "execute_result"
    }
   ],
   "source": [
    "new_col=['Paneer','Tari','Mango','Fish', 'Vadapaav','Cake','Icecreme']\n",
    "index=1\n",
    "df.insert(loc=index, column='Fev food', value=new_col)\n",
    "df"
   ]
  },
  {
   "cell_type": "markdown",
   "id": "171561e4",
   "metadata": {},
   "source": [
    "###### 128. How to Delete Indices, Rows, or Columns From a Pandas DataFrame?"
   ]
  },
  {
   "cell_type": "code",
   "execution_count": 27,
   "id": "fb00af80",
   "metadata": {},
   "outputs": [
    {
     "data": {
      "text/html": [
       "<div>\n",
       "<style scoped>\n",
       "    .dataframe tbody tr th:only-of-type {\n",
       "        vertical-align: middle;\n",
       "    }\n",
       "\n",
       "    .dataframe tbody tr th {\n",
       "        vertical-align: top;\n",
       "    }\n",
       "\n",
       "    .dataframe thead th {\n",
       "        text-align: right;\n",
       "    }\n",
       "</style>\n",
       "<table border=\"1\" class=\"dataframe\">\n",
       "  <thead>\n",
       "    <tr style=\"text-align: right;\">\n",
       "      <th></th>\n",
       "      <th>Name</th>\n",
       "      <th>Fev food</th>\n",
       "      <th>Age</th>\n",
       "      <th>City</th>\n",
       "      <th>Jercy</th>\n",
       "    </tr>\n",
       "  </thead>\n",
       "  <tbody>\n",
       "    <tr>\n",
       "      <th>0</th>\n",
       "      <td>Digvijay</td>\n",
       "      <td>Paneer</td>\n",
       "      <td>34</td>\n",
       "      <td>Pune</td>\n",
       "      <td>9</td>\n",
       "    </tr>\n",
       "    <tr>\n",
       "      <th>1</th>\n",
       "      <td>Pravin</td>\n",
       "      <td>Tari</td>\n",
       "      <td>33</td>\n",
       "      <td>Pune</td>\n",
       "      <td>10</td>\n",
       "    </tr>\n",
       "    <tr>\n",
       "      <th>2</th>\n",
       "      <td>Abhimanyu</td>\n",
       "      <td>Mango</td>\n",
       "      <td>6</td>\n",
       "      <td>Sangli</td>\n",
       "      <td>3</td>\n",
       "    </tr>\n",
       "    <tr>\n",
       "      <th>3</th>\n",
       "      <td>Shourya</td>\n",
       "      <td>Fish</td>\n",
       "      <td>7</td>\n",
       "      <td>Satara</td>\n",
       "      <td>14</td>\n",
       "    </tr>\n",
       "    <tr>\n",
       "      <th>4</th>\n",
       "      <td>Atharv</td>\n",
       "      <td>Vadapaav</td>\n",
       "      <td>6</td>\n",
       "      <td>Kolhapur</td>\n",
       "      <td>20</td>\n",
       "    </tr>\n",
       "    <tr>\n",
       "      <th>5</th>\n",
       "      <td>Amey</td>\n",
       "      <td>Cake</td>\n",
       "      <td>2</td>\n",
       "      <td>Belgaum</td>\n",
       "      <td>33</td>\n",
       "    </tr>\n",
       "  </tbody>\n",
       "</table>\n",
       "</div>"
      ],
      "text/plain": [
       "        Name  Fev food  Age      City  Jercy\n",
       "0   Digvijay    Paneer   34      Pune      9\n",
       "1     Pravin      Tari   33      Pune     10\n",
       "2  Abhimanyu     Mango    6    Sangli      3\n",
       "3    Shourya      Fish    7    Satara     14\n",
       "4     Atharv  Vadapaav    6  Kolhapur     20\n",
       "5       Amey      Cake    2   Belgaum     33"
      ]
     },
     "execution_count": 27,
     "metadata": {},
     "output_type": "execute_result"
    }
   ],
   "source": [
    "# delete single indices\n",
    "df=df.drop(6)\n",
    "df"
   ]
  },
  {
   "cell_type": "code",
   "execution_count": 28,
   "id": "9d38f96e",
   "metadata": {},
   "outputs": [
    {
     "data": {
      "text/html": [
       "<div>\n",
       "<style scoped>\n",
       "    .dataframe tbody tr th:only-of-type {\n",
       "        vertical-align: middle;\n",
       "    }\n",
       "\n",
       "    .dataframe tbody tr th {\n",
       "        vertical-align: top;\n",
       "    }\n",
       "\n",
       "    .dataframe thead th {\n",
       "        text-align: right;\n",
       "    }\n",
       "</style>\n",
       "<table border=\"1\" class=\"dataframe\">\n",
       "  <thead>\n",
       "    <tr style=\"text-align: right;\">\n",
       "      <th></th>\n",
       "      <th>Name</th>\n",
       "      <th>Fev food</th>\n",
       "      <th>Age</th>\n",
       "      <th>City</th>\n",
       "      <th>Jercy</th>\n",
       "    </tr>\n",
       "  </thead>\n",
       "  <tbody>\n",
       "    <tr>\n",
       "      <th>0</th>\n",
       "      <td>Digvijay</td>\n",
       "      <td>Paneer</td>\n",
       "      <td>34</td>\n",
       "      <td>Pune</td>\n",
       "      <td>9</td>\n",
       "    </tr>\n",
       "    <tr>\n",
       "      <th>1</th>\n",
       "      <td>Pravin</td>\n",
       "      <td>Tari</td>\n",
       "      <td>33</td>\n",
       "      <td>Pune</td>\n",
       "      <td>10</td>\n",
       "    </tr>\n",
       "    <tr>\n",
       "      <th>2</th>\n",
       "      <td>Abhimanyu</td>\n",
       "      <td>Mango</td>\n",
       "      <td>6</td>\n",
       "      <td>Sangli</td>\n",
       "      <td>3</td>\n",
       "    </tr>\n",
       "    <tr>\n",
       "      <th>3</th>\n",
       "      <td>Shourya</td>\n",
       "      <td>Fish</td>\n",
       "      <td>7</td>\n",
       "      <td>Satara</td>\n",
       "      <td>14</td>\n",
       "    </tr>\n",
       "  </tbody>\n",
       "</table>\n",
       "</div>"
      ],
      "text/plain": [
       "        Name Fev food  Age    City  Jercy\n",
       "0   Digvijay   Paneer   34    Pune      9\n",
       "1     Pravin     Tari   33    Pune     10\n",
       "2  Abhimanyu    Mango    6  Sangli      3\n",
       "3    Shourya     Fish    7  Satara     14"
      ]
     },
     "execution_count": 28,
     "metadata": {},
     "output_type": "execute_result"
    }
   ],
   "source": [
    "# delete multiple indices\n",
    "df=df.drop([4,5])\n",
    "df"
   ]
  },
  {
   "cell_type": "code",
   "execution_count": 29,
   "id": "36c6f6d7",
   "metadata": {},
   "outputs": [
    {
     "data": {
      "text/html": [
       "<div>\n",
       "<style scoped>\n",
       "    .dataframe tbody tr th:only-of-type {\n",
       "        vertical-align: middle;\n",
       "    }\n",
       "\n",
       "    .dataframe tbody tr th {\n",
       "        vertical-align: top;\n",
       "    }\n",
       "\n",
       "    .dataframe thead th {\n",
       "        text-align: right;\n",
       "    }\n",
       "</style>\n",
       "<table border=\"1\" class=\"dataframe\">\n",
       "  <thead>\n",
       "    <tr style=\"text-align: right;\">\n",
       "      <th></th>\n",
       "      <th>Name</th>\n",
       "      <th>Age</th>\n",
       "      <th>City</th>\n",
       "      <th>Jercy</th>\n",
       "    </tr>\n",
       "  </thead>\n",
       "  <tbody>\n",
       "    <tr>\n",
       "      <th>0</th>\n",
       "      <td>Digvijay</td>\n",
       "      <td>34</td>\n",
       "      <td>Pune</td>\n",
       "      <td>9</td>\n",
       "    </tr>\n",
       "    <tr>\n",
       "      <th>1</th>\n",
       "      <td>Pravin</td>\n",
       "      <td>33</td>\n",
       "      <td>Pune</td>\n",
       "      <td>10</td>\n",
       "    </tr>\n",
       "    <tr>\n",
       "      <th>2</th>\n",
       "      <td>Abhimanyu</td>\n",
       "      <td>6</td>\n",
       "      <td>Sangli</td>\n",
       "      <td>3</td>\n",
       "    </tr>\n",
       "    <tr>\n",
       "      <th>3</th>\n",
       "      <td>Shourya</td>\n",
       "      <td>7</td>\n",
       "      <td>Satara</td>\n",
       "      <td>14</td>\n",
       "    </tr>\n",
       "  </tbody>\n",
       "</table>\n",
       "</div>"
      ],
      "text/plain": [
       "        Name  Age    City  Jercy\n",
       "0   Digvijay   34    Pune      9\n",
       "1     Pravin   33    Pune     10\n",
       "2  Abhimanyu    6  Sangli      3\n",
       "3    Shourya    7  Satara     14"
      ]
     },
     "execution_count": 29,
     "metadata": {},
     "output_type": "execute_result"
    }
   ],
   "source": [
    "# delete single column\n",
    "df=df.drop('Fev food',axis=1)\n",
    "df"
   ]
  },
  {
   "cell_type": "code",
   "execution_count": 30,
   "id": "01971207",
   "metadata": {},
   "outputs": [
    {
     "data": {
      "text/html": [
       "<div>\n",
       "<style scoped>\n",
       "    .dataframe tbody tr th:only-of-type {\n",
       "        vertical-align: middle;\n",
       "    }\n",
       "\n",
       "    .dataframe tbody tr th {\n",
       "        vertical-align: top;\n",
       "    }\n",
       "\n",
       "    .dataframe thead th {\n",
       "        text-align: right;\n",
       "    }\n",
       "</style>\n",
       "<table border=\"1\" class=\"dataframe\">\n",
       "  <thead>\n",
       "    <tr style=\"text-align: right;\">\n",
       "      <th></th>\n",
       "      <th>Name</th>\n",
       "      <th>Age</th>\n",
       "    </tr>\n",
       "  </thead>\n",
       "  <tbody>\n",
       "    <tr>\n",
       "      <th>0</th>\n",
       "      <td>Digvijay</td>\n",
       "      <td>34</td>\n",
       "    </tr>\n",
       "    <tr>\n",
       "      <th>1</th>\n",
       "      <td>Pravin</td>\n",
       "      <td>33</td>\n",
       "    </tr>\n",
       "    <tr>\n",
       "      <th>2</th>\n",
       "      <td>Abhimanyu</td>\n",
       "      <td>6</td>\n",
       "    </tr>\n",
       "    <tr>\n",
       "      <th>3</th>\n",
       "      <td>Shourya</td>\n",
       "      <td>7</td>\n",
       "    </tr>\n",
       "  </tbody>\n",
       "</table>\n",
       "</div>"
      ],
      "text/plain": [
       "        Name  Age\n",
       "0   Digvijay   34\n",
       "1     Pravin   33\n",
       "2  Abhimanyu    6\n",
       "3    Shourya    7"
      ]
     },
     "execution_count": 30,
     "metadata": {},
     "output_type": "execute_result"
    }
   ],
   "source": [
    "# delete multiple columns\n",
    "df=df.drop(['City','Jercy'],axis=1)\n",
    "df"
   ]
  },
  {
   "cell_type": "markdown",
   "id": "29a2293b",
   "metadata": {},
   "source": [
    "###### 129. How to get the items which are not common to both series A and series B?"
   ]
  },
  {
   "cell_type": "code",
   "execution_count": 52,
   "id": "34efc451",
   "metadata": {},
   "outputs": [
    {
     "name": "stdout",
     "output_type": "stream",
     "text": [
      "3    4\n",
      "4    5\n",
      "dtype: int64\n"
     ]
    }
   ],
   "source": [
    "s1=pd.Series([1,2,3,4,5])\n",
    "s2=pd.Series([4,5,6,7,8])\n",
    "\n",
    "union = pd.Series(np.union1d(s1,s2))\n",
    "intersect=pd.Series(np.intersect1d(s1,s2))\n",
    "\n",
    "common=union[union.isin(intersect)]\n",
    "print(common)"
   ]
  },
  {
   "cell_type": "code",
   "execution_count": 53,
   "id": "a7c12a4c",
   "metadata": {},
   "outputs": [
    {
     "name": "stdout",
     "output_type": "stream",
     "text": [
      "0    1\n",
      "1    2\n",
      "2    3\n",
      "5    6\n",
      "6    7\n",
      "7    8\n",
      "dtype: int64\n"
     ]
    }
   ],
   "source": [
    "s1=pd.Series([1,2,3,4,5])\n",
    "s2=pd.Series([4,5,6,7,8])\n",
    "\n",
    "union = pd.Series(np.union1d(s1,s2))\n",
    "intersect=pd.Series(np.intersect1d(s1,s2))\n",
    "\n",
    "notcommon=union[~union.isin(intersect)]\n",
    "print(notcommon)"
   ]
  },
  {
   "cell_type": "markdown",
   "id": "083656e9",
   "metadata": {},
   "source": [
    "###### 130. How to get the minimum, 25th percentile, median, 75th, and max of a numeric series?\n"
   ]
  },
  {
   "cell_type": "code",
   "execution_count": 54,
   "id": "d5c22223",
   "metadata": {},
   "outputs": [
    {
     "data": {
      "text/plain": [
       "count    5.000000\n",
       "mean     3.000000\n",
       "std      1.581139\n",
       "min      1.000000\n",
       "25%      2.000000\n",
       "50%      3.000000\n",
       "75%      4.000000\n",
       "max      5.000000\n",
       "dtype: float64"
      ]
     },
     "execution_count": 54,
     "metadata": {},
     "output_type": "execute_result"
    }
   ],
   "source": [
    "s1=pd.Series([1,2,3,4,5])\n",
    "s1.describe()"
   ]
  },
  {
   "cell_type": "code",
   "execution_count": 56,
   "id": "27ccaed2",
   "metadata": {},
   "outputs": [
    {
     "data": {
      "text/plain": [
       "1"
      ]
     },
     "execution_count": 56,
     "metadata": {},
     "output_type": "execute_result"
    }
   ],
   "source": [
    "s1.min()"
   ]
  },
  {
   "cell_type": "code",
   "execution_count": 70,
   "id": "3b086d18",
   "metadata": {},
   "outputs": [
    {
     "data": {
      "text/plain": [
       "2.0"
      ]
     },
     "execution_count": 70,
     "metadata": {},
     "output_type": "execute_result"
    }
   ],
   "source": [
    "s1.quantile(0.25)"
   ]
  },
  {
   "cell_type": "code",
   "execution_count": 59,
   "id": "ada3c738",
   "metadata": {},
   "outputs": [
    {
     "data": {
      "text/plain": [
       "3.0"
      ]
     },
     "execution_count": 59,
     "metadata": {},
     "output_type": "execute_result"
    }
   ],
   "source": [
    "s1.median()"
   ]
  },
  {
   "cell_type": "code",
   "execution_count": 71,
   "id": "59e5c628",
   "metadata": {},
   "outputs": [
    {
     "data": {
      "text/plain": [
       "4.0"
      ]
     },
     "execution_count": 71,
     "metadata": {},
     "output_type": "execute_result"
    }
   ],
   "source": [
    "s1.quantile(0.75)"
   ]
  },
  {
   "cell_type": "code",
   "execution_count": 57,
   "id": "0bae8696",
   "metadata": {},
   "outputs": [
    {
     "data": {
      "text/plain": [
       "5"
      ]
     },
     "execution_count": 57,
     "metadata": {},
     "output_type": "execute_result"
    }
   ],
   "source": [
    "s1.max()"
   ]
  },
  {
   "cell_type": "code",
   "execution_count": 58,
   "id": "7fed40ed",
   "metadata": {},
   "outputs": [
    {
     "data": {
      "text/plain": [
       "3.0"
      ]
     },
     "execution_count": 58,
     "metadata": {},
     "output_type": "execute_result"
    }
   ],
   "source": [
    "s1.mean()"
   ]
  },
  {
   "cell_type": "code",
   "execution_count": 60,
   "id": "37a5337b",
   "metadata": {},
   "outputs": [
    {
     "data": {
      "text/plain": [
       "1"
      ]
     },
     "execution_count": 60,
     "metadata": {},
     "output_type": "execute_result"
    }
   ],
   "source": [
    "s1.mode()[0]"
   ]
  },
  {
   "cell_type": "markdown",
   "id": "88f573ff",
   "metadata": {},
   "source": [
    "                                                                                                         Date: 12-May-2023"
   ]
  },
  {
   "cell_type": "markdown",
   "id": "2883e20f",
   "metadata": {},
   "source": [
    "###### 131. How can we sort the DataFrame?"
   ]
  },
  {
   "cell_type": "code",
   "execution_count": 1,
   "id": "c8567d50",
   "metadata": {},
   "outputs": [
    {
     "name": "stdout",
     "output_type": "stream",
     "text": [
      "Original Dataframe:\n",
      "         Name  Age      City\n",
      "0   Digvijay   34      Pune\n",
      "1     Pravin   33      Pune\n",
      "2  Abhimanyu    6    Sangli\n",
      "3    Shourya    7    Satara\n",
      "4     Atharv    6  Kolhapur\n",
      "5       Amey    2   Belgaum\n",
      "6     Samrat    3   Chennai\n"
     ]
    }
   ],
   "source": [
    "import pandas as pd\n",
    "import numpy as np\n",
    "\n",
    "data={'Name':['Digvijay','Pravin','Abhimanyu','Shourya','Atharv','Amey','Samrat'],\n",
    "     'Age' :[34, 33, 6, 7, 6, 2, 3],\n",
    "     'City':['Pune','Pune','Sangli','Satara','Kolhapur','Belgaum','Chennai']}\n",
    "\n",
    "df = pd.DataFrame(data)\n",
    "print('Original Dataframe:\\n',df)"
   ]
  },
  {
   "cell_type": "code",
   "execution_count": 2,
   "id": "b3f604fb",
   "metadata": {},
   "outputs": [
    {
     "data": {
      "text/html": [
       "<div>\n",
       "<style scoped>\n",
       "    .dataframe tbody tr th:only-of-type {\n",
       "        vertical-align: middle;\n",
       "    }\n",
       "\n",
       "    .dataframe tbody tr th {\n",
       "        vertical-align: top;\n",
       "    }\n",
       "\n",
       "    .dataframe thead th {\n",
       "        text-align: right;\n",
       "    }\n",
       "</style>\n",
       "<table border=\"1\" class=\"dataframe\">\n",
       "  <thead>\n",
       "    <tr style=\"text-align: right;\">\n",
       "      <th></th>\n",
       "      <th>Name</th>\n",
       "      <th>Age</th>\n",
       "      <th>City</th>\n",
       "    </tr>\n",
       "  </thead>\n",
       "  <tbody>\n",
       "    <tr>\n",
       "      <th>5</th>\n",
       "      <td>Amey</td>\n",
       "      <td>2</td>\n",
       "      <td>Belgaum</td>\n",
       "    </tr>\n",
       "    <tr>\n",
       "      <th>6</th>\n",
       "      <td>Samrat</td>\n",
       "      <td>3</td>\n",
       "      <td>Chennai</td>\n",
       "    </tr>\n",
       "    <tr>\n",
       "      <th>2</th>\n",
       "      <td>Abhimanyu</td>\n",
       "      <td>6</td>\n",
       "      <td>Sangli</td>\n",
       "    </tr>\n",
       "    <tr>\n",
       "      <th>4</th>\n",
       "      <td>Atharv</td>\n",
       "      <td>6</td>\n",
       "      <td>Kolhapur</td>\n",
       "    </tr>\n",
       "    <tr>\n",
       "      <th>3</th>\n",
       "      <td>Shourya</td>\n",
       "      <td>7</td>\n",
       "      <td>Satara</td>\n",
       "    </tr>\n",
       "    <tr>\n",
       "      <th>1</th>\n",
       "      <td>Pravin</td>\n",
       "      <td>33</td>\n",
       "      <td>Pune</td>\n",
       "    </tr>\n",
       "    <tr>\n",
       "      <th>0</th>\n",
       "      <td>Digvijay</td>\n",
       "      <td>34</td>\n",
       "      <td>Pune</td>\n",
       "    </tr>\n",
       "  </tbody>\n",
       "</table>\n",
       "</div>"
      ],
      "text/plain": [
       "        Name  Age      City\n",
       "5       Amey    2   Belgaum\n",
       "6     Samrat    3   Chennai\n",
       "2  Abhimanyu    6    Sangli\n",
       "4     Atharv    6  Kolhapur\n",
       "3    Shourya    7    Satara\n",
       "1     Pravin   33      Pune\n",
       "0   Digvijay   34      Pune"
      ]
     },
     "execution_count": 2,
     "metadata": {},
     "output_type": "execute_result"
    }
   ],
   "source": [
    "sort_df=df.sort_values('Age')\n",
    "sort_df"
   ]
  },
  {
   "cell_type": "code",
   "execution_count": 3,
   "id": "e264d232",
   "metadata": {},
   "outputs": [
    {
     "data": {
      "text/html": [
       "<div>\n",
       "<style scoped>\n",
       "    .dataframe tbody tr th:only-of-type {\n",
       "        vertical-align: middle;\n",
       "    }\n",
       "\n",
       "    .dataframe tbody tr th {\n",
       "        vertical-align: top;\n",
       "    }\n",
       "\n",
       "    .dataframe thead th {\n",
       "        text-align: right;\n",
       "    }\n",
       "</style>\n",
       "<table border=\"1\" class=\"dataframe\">\n",
       "  <thead>\n",
       "    <tr style=\"text-align: right;\">\n",
       "      <th></th>\n",
       "      <th>Name</th>\n",
       "      <th>Age</th>\n",
       "      <th>City</th>\n",
       "    </tr>\n",
       "  </thead>\n",
       "  <tbody>\n",
       "    <tr>\n",
       "      <th>5</th>\n",
       "      <td>Amey</td>\n",
       "      <td>2</td>\n",
       "      <td>Belgaum</td>\n",
       "    </tr>\n",
       "    <tr>\n",
       "      <th>6</th>\n",
       "      <td>Samrat</td>\n",
       "      <td>3</td>\n",
       "      <td>Chennai</td>\n",
       "    </tr>\n",
       "    <tr>\n",
       "      <th>4</th>\n",
       "      <td>Atharv</td>\n",
       "      <td>6</td>\n",
       "      <td>Kolhapur</td>\n",
       "    </tr>\n",
       "    <tr>\n",
       "      <th>1</th>\n",
       "      <td>Pravin</td>\n",
       "      <td>33</td>\n",
       "      <td>Pune</td>\n",
       "    </tr>\n",
       "    <tr>\n",
       "      <th>0</th>\n",
       "      <td>Digvijay</td>\n",
       "      <td>34</td>\n",
       "      <td>Pune</td>\n",
       "    </tr>\n",
       "    <tr>\n",
       "      <th>2</th>\n",
       "      <td>Abhimanyu</td>\n",
       "      <td>6</td>\n",
       "      <td>Sangli</td>\n",
       "    </tr>\n",
       "    <tr>\n",
       "      <th>3</th>\n",
       "      <td>Shourya</td>\n",
       "      <td>7</td>\n",
       "      <td>Satara</td>\n",
       "    </tr>\n",
       "  </tbody>\n",
       "</table>\n",
       "</div>"
      ],
      "text/plain": [
       "        Name  Age      City\n",
       "5       Amey    2   Belgaum\n",
       "6     Samrat    3   Chennai\n",
       "4     Atharv    6  Kolhapur\n",
       "1     Pravin   33      Pune\n",
       "0   Digvijay   34      Pune\n",
       "2  Abhimanyu    6    Sangli\n",
       "3    Shourya    7    Satara"
      ]
     },
     "execution_count": 3,
     "metadata": {},
     "output_type": "execute_result"
    }
   ],
   "source": [
    "df = df.sort_values(['City', 'Age'])\n",
    "df"
   ]
  },
  {
   "cell_type": "markdown",
   "id": "15777adb",
   "metadata": {},
   "source": [
    "###### 132. How to drop duplicate rows from DataFrame?"
   ]
  },
  {
   "cell_type": "code",
   "execution_count": 8,
   "id": "1c4035dd",
   "metadata": {},
   "outputs": [
    {
     "name": "stdout",
     "output_type": "stream",
     "text": [
      "Original Dataframe:\n",
      "         Name  Age      City\n",
      "0   Digvijay   34      Pune\n",
      "1     Pravin   33      Pune\n",
      "2  Abhimanyu    6    Sangli\n",
      "3    Shourya    7    Satara\n",
      "4     Atharv    6  Kolhapur\n",
      "5       Amey    2   Belgaum\n",
      "6     Samrat    3   Chennai\n",
      "7       Amey    2   Belgaum\n"
     ]
    }
   ],
   "source": [
    "data={'Name':['Digvijay','Pravin','Abhimanyu','Shourya','Atharv','Amey','Samrat','Amey'],\n",
    "     'Age' :[34, 33, 6, 7, 6, 2, 3, 2],\n",
    "     'City':['Pune','Pune','Sangli','Satara','Kolhapur','Belgaum','Chennai','Belgaum']}\n",
    "\n",
    "df = pd.DataFrame(data)\n",
    "print('Original Dataframe:\\n',df)\n"
   ]
  },
  {
   "cell_type": "code",
   "execution_count": 9,
   "id": "d4b012f3",
   "metadata": {},
   "outputs": [
    {
     "data": {
      "text/html": [
       "<div>\n",
       "<style scoped>\n",
       "    .dataframe tbody tr th:only-of-type {\n",
       "        vertical-align: middle;\n",
       "    }\n",
       "\n",
       "    .dataframe tbody tr th {\n",
       "        vertical-align: top;\n",
       "    }\n",
       "\n",
       "    .dataframe thead th {\n",
       "        text-align: right;\n",
       "    }\n",
       "</style>\n",
       "<table border=\"1\" class=\"dataframe\">\n",
       "  <thead>\n",
       "    <tr style=\"text-align: right;\">\n",
       "      <th></th>\n",
       "      <th>Name</th>\n",
       "      <th>Age</th>\n",
       "      <th>City</th>\n",
       "    </tr>\n",
       "  </thead>\n",
       "  <tbody>\n",
       "    <tr>\n",
       "      <th>0</th>\n",
       "      <td>Digvijay</td>\n",
       "      <td>34</td>\n",
       "      <td>Pune</td>\n",
       "    </tr>\n",
       "    <tr>\n",
       "      <th>1</th>\n",
       "      <td>Pravin</td>\n",
       "      <td>33</td>\n",
       "      <td>Pune</td>\n",
       "    </tr>\n",
       "    <tr>\n",
       "      <th>2</th>\n",
       "      <td>Abhimanyu</td>\n",
       "      <td>6</td>\n",
       "      <td>Sangli</td>\n",
       "    </tr>\n",
       "    <tr>\n",
       "      <th>3</th>\n",
       "      <td>Shourya</td>\n",
       "      <td>7</td>\n",
       "      <td>Satara</td>\n",
       "    </tr>\n",
       "    <tr>\n",
       "      <th>4</th>\n",
       "      <td>Atharv</td>\n",
       "      <td>6</td>\n",
       "      <td>Kolhapur</td>\n",
       "    </tr>\n",
       "    <tr>\n",
       "      <th>5</th>\n",
       "      <td>Amey</td>\n",
       "      <td>2</td>\n",
       "      <td>Belgaum</td>\n",
       "    </tr>\n",
       "    <tr>\n",
       "      <th>6</th>\n",
       "      <td>Samrat</td>\n",
       "      <td>3</td>\n",
       "      <td>Chennai</td>\n",
       "    </tr>\n",
       "  </tbody>\n",
       "</table>\n",
       "</div>"
      ],
      "text/plain": [
       "        Name  Age      City\n",
       "0   Digvijay   34      Pune\n",
       "1     Pravin   33      Pune\n",
       "2  Abhimanyu    6    Sangli\n",
       "3    Shourya    7    Satara\n",
       "4     Atharv    6  Kolhapur\n",
       "5       Amey    2   Belgaum\n",
       "6     Samrat    3   Chennai"
      ]
     },
     "execution_count": 9,
     "metadata": {},
     "output_type": "execute_result"
    }
   ],
   "source": [
    "duplicate_rows=df.drop_duplicates()\n",
    "duplicate_rows"
   ]
  },
  {
   "cell_type": "markdown",
   "id": "38fdd2b8",
   "metadata": {},
   "source": [
    "###### 133.How to drop duplicate columns from DataFrame?\n"
   ]
  },
  {
   "cell_type": "code",
   "execution_count": 10,
   "id": "d14db3f6",
   "metadata": {},
   "outputs": [
    {
     "name": "stdout",
     "output_type": "stream",
     "text": [
      "      Name Age      City\n",
      "0     Abhi  25      Pune\n",
      "1  Shourya  30      Pune\n",
      "2     Amey  35  Kolhapur\n"
     ]
    }
   ],
   "source": [
    "data = {'Name': ['Abhi', 'Shourya', 'Amey'],\n",
    "        'Age': [25, 30, 35],\n",
    "        'City': ['Pune', 'Pune', 'Kolhapur'],\n",
    "        'Age': [25, 30, 35]}\n",
    "df = pd.DataFrame(data)\n",
    "\n",
    "# Drop duplicate columns (with transposing dataframe by using T)\n",
    "deduplicated_df = df.T.drop_duplicates().T\n",
    "\n",
    "# Display the deduplicated DataFrame\n",
    "print(deduplicated_df)\n"
   ]
  },
  {
   "cell_type": "markdown",
   "id": "235fce0d",
   "metadata": {},
   "source": [
    "###### 134. Write a Pandas program to split a string of a column of a given DataFrame into multiple columns(Split Name and Surname)"
   ]
  },
  {
   "cell_type": "code",
   "execution_count": 11,
   "id": "fe1af79e",
   "metadata": {},
   "outputs": [
    {
     "name": "stdout",
     "output_type": "stream",
     "text": [
      "         Full Name First Name Last Name\n",
      "0  Digvijay Mohite   Digvijay    Mohite\n",
      "1    Pravin Gosavi     Pravin    Gosavi\n",
      "2    Hardik Pandya     Hardik    Pandya\n"
     ]
    }
   ],
   "source": [
    "data = {'Full Name': ['Digvijay Mohite', 'Pravin Gosavi', 'Hardik Pandya']}\n",
    "df = pd.DataFrame(data)\n",
    "\n",
    "# Split the 'Full Name' column into 'First Name' and 'Last Name'\n",
    "df[['First Name', 'Last Name']] = df['Full Name'].str.split(' ', expand=True)\n",
    "\n",
    "# Display the modified DataFrame\n",
    "print(df)\n"
   ]
  },
  {
   "cell_type": "markdown",
   "id": "7cf3b897",
   "metadata": {},
   "source": [
    "###### 135. Python program to sort Python Dictionaries by Keys"
   ]
  },
  {
   "cell_type": "code",
   "execution_count": 12,
   "id": "79fe0b36",
   "metadata": {},
   "outputs": [
    {
     "name": "stdout",
     "output_type": "stream",
     "text": [
      "a : 1\n",
      "b : 2\n",
      "c : 3\n"
     ]
    }
   ],
   "source": [
    "my_dict = {'c': 3, 'a': 1, 'b': 2}\n",
    "\n",
    "# Sort the dictionary by keys\n",
    "sorted_dict = dict(sorted(my_dict.items()))\n",
    "\n",
    "# Display the sorted dictionary\n",
    "for key, value in sorted_dict.items():\n",
    "    print(key, ':', value)\n"
   ]
  },
  {
   "cell_type": "markdown",
   "id": "ca240e3a",
   "metadata": {},
   "source": [
    "                                                                                                         Date: 13-May-2023"
   ]
  },
  {
   "cell_type": "markdown",
   "id": "e053e397",
   "metadata": {},
   "source": [
    "###### 136. Python program to sort Python Dictionaries by Values"
   ]
  },
  {
   "cell_type": "code",
   "execution_count": 3,
   "id": "a88a49e2",
   "metadata": {},
   "outputs": [
    {
     "name": "stdout",
     "output_type": "stream",
     "text": [
      "{'cherry': 1, 'apple': 2, 'date': 3, 'banana': 4}\n"
     ]
    }
   ],
   "source": [
    "my_dict = {'apple': 2, 'banana': 4, 'cherry': 1, 'date': 3}\n",
    "\n",
    "sorted_dict = dict(sorted(my_dict.items(), key=lambda x:x[1]))\n",
    "\n",
    "print(sorted_dict)"
   ]
  },
  {
   "cell_type": "markdown",
   "id": "2173b8be",
   "metadata": {},
   "source": [
    "###### 137. Python program to find the sum of all items in a dictionary"
   ]
  },
  {
   "cell_type": "code",
   "execution_count": 11,
   "id": "0eda2952",
   "metadata": {},
   "outputs": [
    {
     "name": "stdout",
     "output_type": "stream",
     "text": [
      "10\n"
     ]
    }
   ],
   "source": [
    "my_dict = {'apple': 2, 'banana': 4, 'cherry': 1, 'date': 3}\n",
    "\n",
    "sum_of_items=sum(my_dict.values())\n",
    "\n",
    "print(sum_of_items)"
   ]
  },
  {
   "cell_type": "code",
   "execution_count": 13,
   "id": "aa94418b",
   "metadata": {},
   "outputs": [
    {
     "name": "stdout",
     "output_type": "stream",
     "text": [
      "10\n"
     ]
    }
   ],
   "source": [
    "sum_of_values1=0\n",
    "\n",
    "for values in my_dict.values():\n",
    "    sum_of_values1 += values\n",
    "    \n",
    "print(sum_of_values1)"
   ]
  },
  {
   "cell_type": "markdown",
   "id": "64f0acc1",
   "metadata": {},
   "source": [
    "###### 138. Python program to remove a key from a dictionary"
   ]
  },
  {
   "cell_type": "code",
   "execution_count": 14,
   "id": "93749d4f",
   "metadata": {},
   "outputs": [
    {
     "name": "stdout",
     "output_type": "stream",
     "text": [
      "{'banana': 4, 'cherry': 1, 'date': 3}\n"
     ]
    }
   ],
   "source": [
    "my_dict = {'apple': 2, 'banana': 4, 'cherry': 1, 'date': 3}\n",
    "\n",
    "del my_dict['apple']\n",
    "\n",
    "print(my_dict)"
   ]
  },
  {
   "cell_type": "code",
   "execution_count": 15,
   "id": "19bee6e4",
   "metadata": {},
   "outputs": [
    {
     "name": "stdout",
     "output_type": "stream",
     "text": [
      "{'banana': 4, 'date': 3}\n"
     ]
    }
   ],
   "source": [
    "my_dict.pop('cherry')\n",
    "print(my_dict)"
   ]
  },
  {
   "cell_type": "markdown",
   "id": "f4d2e9e6",
   "metadata": {},
   "source": [
    "###### 139. Python program to merge two Dictionaries"
   ]
  },
  {
   "cell_type": "code",
   "execution_count": 17,
   "id": "5f469a4a",
   "metadata": {},
   "outputs": [
    {
     "name": "stdout",
     "output_type": "stream",
     "text": [
      "{'apple': 2, 'banana': 4, 'cherry': 1, 'date': 3, 'mango': 2, 'chiku': 4, 'coconut': 1, 'graps': 3}\n"
     ]
    }
   ],
   "source": [
    "dict1 = {'apple': 2, 'banana': 4, 'cherry': 1, 'date': 3}\n",
    "dict2 = {'mango': 2, 'chiku': 4, 'coconut': 1, 'graps': 3}\n",
    "\n",
    "merged_dict=dict1.copy()\n",
    "merged_dict.update(dict2)\n",
    "\n",
    "print(merged_dict)\n"
   ]
  },
  {
   "cell_type": "code",
   "execution_count": 18,
   "id": "b4cd2de3",
   "metadata": {},
   "outputs": [
    {
     "name": "stdout",
     "output_type": "stream",
     "text": [
      "{'apple': 2, 'banana': 4, 'cherry': 1, 'date': 3, 'mango': 2, 'chiku': 4, 'coconut': 1, 'graps': 3}\n"
     ]
    }
   ],
   "source": [
    "dict_merged={**dict1, **dict2}\n",
    "print(dict_merged)"
   ]
  },
  {
   "cell_type": "markdown",
   "id": "08e304a8",
   "metadata": {},
   "source": [
    "###### 140. Program to create grade calculator in Python"
   ]
  },
  {
   "cell_type": "code",
   "execution_count": 21,
   "id": "56000576",
   "metadata": {},
   "outputs": [
    {
     "name": "stdout",
     "output_type": "stream",
     "text": [
      "Enter the score :34.99\n",
      "Fail\n"
     ]
    }
   ],
   "source": [
    "def grade_calculator(score):\n",
    "    if score>= 90:\n",
    "        return 'A'\n",
    "    elif score>=80:\n",
    "        return 'B'\n",
    "    elif score>=70:\n",
    "        return 'C'\n",
    "    elif score>=60:\n",
    "        return 'D'\n",
    "    elif score>=50:\n",
    "        return 'E'\n",
    "    elif score>=35:\n",
    "        return 'Pass'\n",
    "    else:\n",
    "        return 'Fail'\n",
    "    \n",
    "score=float(input('Enter the score :'))\n",
    "\n",
    "print(grade_calculator(score))"
   ]
  },
  {
   "cell_type": "markdown",
   "id": "2d3b5fa9",
   "metadata": {},
   "source": [
    "                                                                                                         Date: 14-May-2023"
   ]
  },
  {
   "cell_type": "markdown",
   "id": "bcb2bc97",
   "metadata": {},
   "source": [
    "###### 141. Print anagrams together in Python using List and Dictionary"
   ]
  },
  {
   "cell_type": "code",
   "execution_count": 4,
   "id": "6203f7a4",
   "metadata": {},
   "outputs": [],
   "source": [
    "import numpy as np \n",
    "import pandas as pd\n",
    "\n",
    "def print_anagrams_together(words):\n",
    "    \n",
    "    anagram_groups={}\n",
    "    \n",
    "    for word in words:\n",
    "        \n",
    "        sorted_word = ''.join(sorted(word)) # sort letters to create key in dictionary\n",
    "        \n",
    "        if sorted_word in anagram_groups:\n",
    "            anagram_groups[sorted_word].append(word)\n",
    "            \n",
    "        else:\n",
    "            anagram_groups[sorted_word]=[word]\n",
    "            \n",
    "    for group in anagram_groups.values():\n",
    "        print(group)"
   ]
  },
  {
   "cell_type": "code",
   "execution_count": 5,
   "id": "cb7fe83f",
   "metadata": {},
   "outputs": [
    {
     "name": "stdout",
     "output_type": "stream",
     "text": [
      "['listen', 'silent']\n",
      "['debit card', 'bad credit']\n",
      "['schoolmaster']\n",
      "['classroom']\n",
      "['rescue', 'secure']\n",
      "['care', 'race']\n",
      "['heart']\n"
     ]
    }
   ],
   "source": [
    "word_list=['listen','silent','debit card', 'bad credit', 'schoolmaster', 'classroom', 'rescue', 'secure', 'care', 'race', 'heart']\n",
    "print_anagrams_together(word_list)"
   ]
  },
  {
   "cell_type": "markdown",
   "id": "e9fbe239",
   "metadata": {},
   "source": [
    "###### 142. Check if binary representations of two numbers are an anagram"
   ]
  },
  {
   "cell_type": "code",
   "execution_count": 11,
   "id": "c9969f3f",
   "metadata": {},
   "outputs": [
    {
     "data": {
      "text/plain": [
       "False"
      ]
     },
     "execution_count": 11,
     "metadata": {},
     "output_type": "execute_result"
    }
   ],
   "source": [
    "def check_binary_anagrams(num1, num2):\n",
    "    binary1 = bin(num1)[2:]\n",
    "    binary2 = bin(num2)[2:]\n",
    "    \n",
    "    return sorted(binary1) == sorted(binary2)\n",
    "\n",
    "num1= 10 # 1010\n",
    "num2=5  # 101\n",
    "# required anagram is > 1010 > 0011\n",
    "check_binary_anagrams(num1,num2)"
   ]
  },
  {
   "cell_type": "markdown",
   "id": "306bfc98",
   "metadata": {},
   "source": [
    "###### 143. Python Counter to find the size of the largest subset of anagram words"
   ]
  },
  {
   "cell_type": "code",
   "execution_count": 12,
   "id": "484069fe",
   "metadata": {},
   "outputs": [
    {
     "data": {
      "text/plain": [
       "11"
      ]
     },
     "execution_count": 12,
     "metadata": {},
     "output_type": "execute_result"
    }
   ],
   "source": [
    "from collections import Counter\n",
    "\n",
    "def largest_angram_subset(words):\n",
    "    sorted_words = [\"\".join(sorted(words)) for word in words]\n",
    "    word_counter = Counter(words)\n",
    "    \n",
    "    max_count = max(word_counter.values())\n",
    "    \n",
    "    return sum(count for count in word_counter.values() if count==max_count)\n",
    "\n",
    "word_list=['listen','silent','debit card', 'bad credit', 'schoolmaster', 'classroom', 'rescue', 'secure', 'care', 'race', 'heart']\n",
    "largest_angram_subset(word_list)"
   ]
  },
  {
   "cell_type": "markdown",
   "id": "9dd5d87b",
   "metadata": {},
   "source": [
    "###### 144. Python Dictionary to find mirror characters in a string"
   ]
  },
  {
   "cell_type": "code",
   "execution_count": 30,
   "id": "5288f68f",
   "metadata": {},
   "outputs": [
    {
     "data": {
      "text/plain": [
       "['d', 'b']"
      ]
     },
     "execution_count": 30,
     "metadata": {},
     "output_type": "execute_result"
    }
   ],
   "source": [
    "def find_mirror_characters(string):\n",
    "    mirror_dict = {'b':'d',\n",
    "                   'd':'b',\n",
    "                   'p':'q',\n",
    "                   'q':'p'}\n",
    "    \n",
    "    mirror_chars =[] \n",
    "    \n",
    "    for char in string:\n",
    "        if char in mirror_dict:\n",
    "            mirror_chars.append(mirror_dict[char])  \n",
    "            \n",
    "    return mirror_chars\n",
    "                                \n",
    "input_string= \"beds\"\n",
    "find_mirror_characters(input_string)"
   ]
  },
  {
   "cell_type": "markdown",
   "id": "1bd43f70",
   "metadata": {},
   "source": [
    "###### 145. Counting the frequencies in a list using a dictionary in Python"
   ]
  },
  {
   "cell_type": "code",
   "execution_count": 32,
   "id": "48ebeada",
   "metadata": {},
   "outputs": [
    {
     "data": {
      "text/plain": [
       "{1: 3, 2: 5, 3: 4, 4: 7, 5: 3, 6: 2, 7: 2}"
      ]
     },
     "execution_count": 32,
     "metadata": {},
     "output_type": "execute_result"
    }
   ],
   "source": [
    "def count_frequencies(lst):\n",
    "    freq_dict={}\n",
    "    \n",
    "    for element in lst:\n",
    "        if element in freq_dict:\n",
    "            freq_dict[element]+=1\n",
    "        else:\n",
    "            freq_dict[element]=1\n",
    "            \n",
    "    return freq_dict\n",
    "\n",
    "lst = [1,2,2,3,3,4,4,5,4,1,1,2,3,4,4,5,6,7,7,4,3,2,2,4,5,6]\n",
    "count_frequencies(lst)"
   ]
  },
  {
   "cell_type": "markdown",
   "id": "06b64eb5",
   "metadata": {},
   "source": [
    "                                                                                                         Date: 15-May-2023"
   ]
  },
  {
   "cell_type": "markdown",
   "id": "a88366de",
   "metadata": {},
   "source": [
    "###### 146.  Python program to convert a list of Tuples into Dictionary"
   ]
  },
  {
   "cell_type": "code",
   "execution_count": 34,
   "id": "e3045fd3",
   "metadata": {},
   "outputs": [
    {
     "name": "stdout",
     "output_type": "stream",
     "text": [
      "List of Tuples :\n",
      " [('A', 10), ('B', 20)]\n",
      "List of Tuples converted in dictionary :\n",
      " {'A': 10, 'B': 20}\n"
     ]
    }
   ],
   "source": [
    "lst_tup=[('A',10),('B',20)]\n",
    "dict1=dict(lst_tup)\n",
    "print('List of Tuples :\\n',lst_tup)\n",
    "print('List of Tuples converted in dictionary :\\n',dict1)"
   ]
  },
  {
   "cell_type": "code",
   "execution_count": 44,
   "id": "ce224b25",
   "metadata": {},
   "outputs": [
    {
     "data": {
      "text/plain": [
       "{'A': 10, 'B': 20}"
      ]
     },
     "execution_count": 44,
     "metadata": {},
     "output_type": "execute_result"
    }
   ],
   "source": [
    "def convert_in_dict(lst):\n",
    "    dictionary ={key: value for key, value in lst}\n",
    "    return dictionary\n",
    "\n",
    "lst_tup=[('A',10),('B',20)]\n",
    "convert_in_dict(lst_tup)"
   ]
  },
  {
   "cell_type": "code",
   "execution_count": 45,
   "id": "358f0f0c",
   "metadata": {},
   "outputs": [
    {
     "data": {
      "text/plain": [
       "{'A': 10, 'B': 20}"
      ]
     },
     "execution_count": 45,
     "metadata": {},
     "output_type": "execute_result"
    }
   ],
   "source": [
    "def convert_in_dict(lst):\n",
    "    dictionary =dict(lst)\n",
    "    return dictionary\n",
    "\n",
    "lst_tup=[('A',10),('B',20)]\n",
    "convert_in_dict(lst_tup)"
   ]
  },
  {
   "cell_type": "markdown",
   "id": "559647a1",
   "metadata": {},
   "source": [
    "###### 147. Write a Python program to sort a list of dictionaries using Lambda"
   ]
  },
  {
   "cell_type": "code",
   "execution_count": 61,
   "id": "a6d464ee",
   "metadata": {},
   "outputs": [
    {
     "data": {
      "text/plain": [
       "[{'name': 'abhi', 'age': 6},\n",
       " {'name': 'shourya', 'age': 8},\n",
       " {'name': 'yesh', 'age': 12}]"
      ]
     },
     "execution_count": 61,
     "metadata": {},
     "output_type": "execute_result"
    }
   ],
   "source": [
    "def sort_list_of_dict(lst,key):\n",
    "    sorted_lst = sorted(lst, key=lambda x:x[key])\n",
    "    return sorted_lst\n",
    "\n",
    "lst=[{'name':'yesh','age':12},\n",
    "    {'name':'shourya','age':8},\n",
    "    {'name':'abhi', 'age':6}    \n",
    "]\n",
    "\n",
    "sort_list_of_dict(lst,'age')"
   ]
  },
  {
   "cell_type": "markdown",
   "id": "f8365ee4",
   "metadata": {},
   "source": [
    "###### 148. Create a list of tuples from the given list having a number and its cube in each tuple"
   ]
  },
  {
   "cell_type": "code",
   "execution_count": 50,
   "id": "6771167b",
   "metadata": {},
   "outputs": [
    {
     "data": {
      "text/plain": [
       "[(1, 1),\n",
       " (2, 8),\n",
       " (3, 27),\n",
       " (4, 64),\n",
       " (5, 125),\n",
       " (6, 216),\n",
       " (7, 343),\n",
       " (8, 512),\n",
       " (9, 729),\n",
       " (10, 1000)]"
      ]
     },
     "execution_count": 50,
     "metadata": {},
     "output_type": "execute_result"
    }
   ],
   "source": [
    "def list_of_tup(lst):\n",
    "    tuple_list = [(num, num**3) for num in lst]\n",
    "    return tuple_list  \n",
    "    \n",
    "lst=[1,2,3,4,5,6,7,8,9,10]\n",
    "list_of_tup(lst)"
   ]
  },
  {
   "cell_type": "markdown",
   "id": "4f40a2a7",
   "metadata": {},
   "source": [
    "###### 149. Sort a list of tuples by the second Item"
   ]
  },
  {
   "cell_type": "code",
   "execution_count": 56,
   "id": "1a08e7e1",
   "metadata": {},
   "outputs": [
    {
     "data": {
      "text/plain": [
       "[(1, 'a'), (3, 'b'), (1, 'e'), (4, 'q')]"
      ]
     },
     "execution_count": 56,
     "metadata": {},
     "output_type": "execute_result"
    }
   ],
   "source": [
    "def sort_by_second_item(lst):\n",
    "    sorted_lst = sorted(lst, key=lambda x:x[1])\n",
    "    return sorted_lst\n",
    "\n",
    "lst=[(1,'e'),(3,'b'),(4,'q'),(1,'a')]\n",
    "sort_by_second_item(lst)"
   ]
  },
  {
   "cell_type": "markdown",
   "id": "d88cefe2",
   "metadata": {},
   "source": [
    "###### 150. Write a Python program to sort a list of tuples using Lambda"
   ]
  },
  {
   "cell_type": "code",
   "execution_count": 63,
   "id": "c2060b93",
   "metadata": {},
   "outputs": [
    {
     "data": {
      "text/plain": [
       "[(1, 'a'), (1, 'e'), (3, 'b'), (4, 'q')]"
      ]
     },
     "execution_count": 63,
     "metadata": {},
     "output_type": "execute_result"
    }
   ],
   "source": [
    "def sort_list_of_tuple(lst):\n",
    "    sorted_lst = sorted(lst, key=lambda x:x)\n",
    "    return sorted_lst\n",
    "\n",
    "lst=[(1,'e'),(3,'b'),(4,'q'),(1,'a')]\n",
    "sort_list_of_tuple(lst)"
   ]
  },
  {
   "cell_type": "code",
   "execution_count": 68,
   "id": "b95fbf24",
   "metadata": {},
   "outputs": [
    {
     "data": {
      "text/plain": [
       "[(1, 'a'), (3, 'b'), (1, 'e'), (4, 'q')]"
      ]
     },
     "execution_count": 68,
     "metadata": {},
     "output_type": "execute_result"
    }
   ],
   "source": [
    "def sort_list_of_tuple(lst,index):\n",
    "    sorted_lst = sorted(lst, key=lambda x:x[index])\n",
    "    return sorted_lst\n",
    "\n",
    "lst=[(1,'e'),(3,'b'),(4,'q'),(1,'a')]\n",
    "sort_list_of_tuple(lst,1)"
   ]
  },
  {
   "cell_type": "markdown",
   "id": "d8211baa",
   "metadata": {},
   "source": [
    "                                                                                                         Date: 16-May-2023"
   ]
  },
  {
   "cell_type": "markdown",
   "id": "b769d8b2",
   "metadata": {},
   "source": [
    "###### 151. Python Program for Insertion Sort"
   ]
  },
  {
   "cell_type": "code",
   "execution_count": 78,
   "id": "2b7ff345",
   "metadata": {},
   "outputs": [
    {
     "name": "stdout",
     "output_type": "stream",
     "text": [
      "[2, 2, 3, 4, 4, 5, 6, 8, 9]\n"
     ]
    }
   ],
   "source": [
    "def insertion_sort(arr):\n",
    "    for i in range(1, len(arr)):\n",
    "        j = i\n",
    "        while arr[j-1] > arr[j] and j > 0:\n",
    "            arr[j-1], arr[j] = arr[j], arr[j-1]\n",
    "            j -= 1\n",
    "\n",
    "arr= [2,6,4,5,8,9,2,3,4]\n",
    "insertion_sort(arr)\n",
    "print(arr)\n",
    "           "
   ]
  },
  {
   "cell_type": "markdown",
   "id": "aba76c28",
   "metadata": {},
   "source": [
    "###### 152. Write a Python program to find square and cube every number in a given list of integers using Lambda"
   ]
  },
  {
   "cell_type": "code",
   "execution_count": 80,
   "id": "7287dbbd",
   "metadata": {},
   "outputs": [
    {
     "data": {
      "text/plain": [
       "[(1, 1, 1),\n",
       " (2, 4, 8),\n",
       " (3, 9, 27),\n",
       " (4, 16, 64),\n",
       " (5, 25, 125),\n",
       " (6, 36, 216),\n",
       " (7, 49, 343),\n",
       " (8, 64, 512),\n",
       " (9, 81, 729),\n",
       " (10, 100, 1000)]"
      ]
     },
     "execution_count": 80,
     "metadata": {},
     "output_type": "execute_result"
    }
   ],
   "source": [
    "def list_squre_qube(lst):\n",
    "    res_list = [(num, num**2, num**3) for num in lst]\n",
    "    return res_list  \n",
    "    \n",
    "lst=[1,2,3,4,5,6,7,8,9,10]\n",
    "list_squre_qube(lst)"
   ]
  },
  {
   "cell_type": "markdown",
   "id": "bfcc61e7",
   "metadata": {},
   "source": [
    "###### 153. Write a Python program to find if a given string starts with a given character using Lambda"
   ]
  },
  {
   "cell_type": "code",
   "execution_count": 82,
   "id": "fe9c4f14",
   "metadata": {},
   "outputs": [
    {
     "name": "stdout",
     "output_type": "stream",
     "text": [
      "The string 'Digvijay' starts with the character D.\n"
     ]
    }
   ],
   "source": [
    "starts_with = lambda string, char: string.startswith(char)\n",
    "\n",
    "string = \"Digvijay\"\n",
    "char = 'D'\n",
    "\n",
    "if starts_with(string, char):\n",
    "    print(f\"The string '{string}' starts with the character {char}.\")\n",
    "else:\n",
    "    print(f\"The string '{string}' does not starts with the character {char}.\")"
   ]
  },
  {
   "cell_type": "markdown",
   "id": "bdea5e30",
   "metadata": {},
   "source": [
    "###### 154. Write a Python program to check whether a given string is number or not, using Lambda\n"
   ]
  },
  {
   "cell_type": "code",
   "execution_count": 96,
   "id": "f8b51c20",
   "metadata": {},
   "outputs": [
    {
     "name": "stdout",
     "output_type": "stream",
     "text": [
      "The string have number\n"
     ]
    }
   ],
   "source": [
    "is_number = lambda string: string.replace(\".\", \"\").isdigit()\n",
    "\n",
    "string = \"121\"\n",
    "\n",
    "if is_number(string):\n",
    "    print('The string have number')\n",
    "else:\n",
    "    print('The string does not have number')"
   ]
  },
  {
   "cell_type": "markdown",
   "id": "8de9c062",
   "metadata": {},
   "source": [
    "###### 155. Write a Python program to create Fibonacci series using Lambda"
   ]
  },
  {
   "cell_type": "code",
   "execution_count": 97,
   "id": "ff0391db",
   "metadata": {},
   "outputs": [
    {
     "name": "stdout",
     "output_type": "stream",
     "text": [
      "Fibonacci series: [0, 1, 1, 2, 3, 5, 8, 13, 21, 34]\n"
     ]
    }
   ],
   "source": [
    "fibonacci = lambda n: n if n <= 1 else fibonacci(n - 1) + fibonacci(n - 2)\n",
    "\n",
    "limit = 10\n",
    "fibonacci_series = [fibonacci(i) for i in range(limit)]\n",
    "print(\"Fibonacci series:\", fibonacci_series)\n"
   ]
  },
  {
   "cell_type": "markdown",
   "id": "bf997627",
   "metadata": {},
   "source": [
    "                                                                                                         Date: 17-May-2023"
   ]
  },
  {
   "cell_type": "markdown",
   "id": "a003e0a8",
   "metadata": {},
   "source": [
    "###### 156. Write a Python program to find the intersection of two given arrays using Lambda"
   ]
  },
  {
   "cell_type": "code",
   "execution_count": 5,
   "id": "82cb73eb",
   "metadata": {},
   "outputs": [
    {
     "name": "stdout",
     "output_type": "stream",
     "text": [
      "Array 1: [1 2 3 4 5]\n",
      "Array 2: [4 5 6 7 8]\n"
     ]
    },
    {
     "data": {
      "text/plain": [
       "[4, 5]"
      ]
     },
     "execution_count": 5,
     "metadata": {},
     "output_type": "execute_result"
    }
   ],
   "source": [
    "import numpy as np\n",
    "import pandas as pd\n",
    "\n",
    "arr1=np.array([1,2,3,4,5])\n",
    "arr2=np.array([4,5,6,7,8])\n",
    "print('Array 1:',arr1)\n",
    "print('Array 2:',arr2)\n",
    "\n",
    "intersection = list(filter(lambda x:x in arr1,arr2)) # filter function alongwith lambda will filter unique element from both array\n",
    "intersection"
   ]
  },
  {
   "cell_type": "markdown",
   "id": "7f0f9afb",
   "metadata": {},
   "source": [
    "###### 157. Write a Python program to rearrange positive and negative numbers in a given array using Lambda"
   ]
  },
  {
   "cell_type": "code",
   "execution_count": 6,
   "id": "6c8fd2df",
   "metadata": {},
   "outputs": [
    {
     "data": {
      "text/plain": [
       "[-1, -3, -6, -11, 2, 3, 10, 10]"
      ]
     },
     "execution_count": 6,
     "metadata": {},
     "output_type": "execute_result"
    }
   ],
   "source": [
    "arr=np.array([-3,-6,10,2,3,-11,-1,10])\n",
    "\n",
    "rearrange = list(sorted(arr, key=lambda x:(x>0, abs(x)))) # abs function will ensure negative elements with sorted ascending order\n",
    "rearrange"
   ]
  },
  {
   "cell_type": "markdown",
   "id": "63a8deec",
   "metadata": {},
   "source": [
    "###### 158. Write a Python program to count the even, odd numbers in a given array of integers using Lambda"
   ]
  },
  {
   "cell_type": "code",
   "execution_count": 19,
   "id": "2d52ac43",
   "metadata": {},
   "outputs": [
    {
     "name": "stdout",
     "output_type": "stream",
     "text": [
      "Array : [ 33  44  51  32   1  99 101 200 300 100 111]\n",
      "Even List: [44, 32, 200, 300, 100] & Count = 5\n",
      "Odd List: [33, 51, 1, 99, 101, 111] & Count = 6\n"
     ]
    }
   ],
   "source": [
    "arr=np.array([33,44,51,32,1,99,101,200,300,100,111])\n",
    "print('Array :',arr)\n",
    "\n",
    "even=list(filter(lambda x: x%2 == 0, arr))\n",
    "odd=list(filter(lambda x: x%2 != 0, arr))\n",
    "\n",
    "print('Even List:',even, '& Count =',len(even))\n",
    "print('Odd List:',odd, '& Count =',len(odd))\n"
   ]
  },
  {
   "cell_type": "markdown",
   "id": "416e5d78",
   "metadata": {},
   "source": [
    "###### 159. Write a Python program to add two given lists using map and lambda"
   ]
  },
  {
   "cell_type": "code",
   "execution_count": 32,
   "id": "93bbf4e5",
   "metadata": {},
   "outputs": [
    {
     "data": {
      "text/plain": [
       "[7, 9, 11, 13, 15]"
      ]
     },
     "execution_count": 32,
     "metadata": {},
     "output_type": "execute_result"
    }
   ],
   "source": [
    "lst1=[1,2,3,4,5]\n",
    "lst2=[6,7,8,9,10]\n",
    "\n",
    "addition = list(map(lambda x, y: x+y, lst1, lst2 ))\n",
    "addition"
   ]
  },
  {
   "cell_type": "markdown",
   "id": "b068fb55",
   "metadata": {},
   "source": [
    "###### 160. Write a Python program to find numbers divisible by nineteen or thirteen from a list of numbers using Lambda"
   ]
  },
  {
   "cell_type": "code",
   "execution_count": 37,
   "id": "e0b181fb",
   "metadata": {},
   "outputs": [
    {
     "data": {
      "text/plain": [
       "[19, 26, 39, 52, 65, 78, 91]"
      ]
     },
     "execution_count": 37,
     "metadata": {},
     "output_type": "execute_result"
    }
   ],
   "source": [
    "numbers = [19,26, 39, 52, 65, 78, 91, 90, 100]\n",
    "\n",
    "divisible_numbers = list(filter(lambda x: x%19 == 0 or x%13 == 0, numbers))\n",
    "divisible_numbers"
   ]
  },
  {
   "cell_type": "markdown",
   "id": "f33b5b72",
   "metadata": {},
   "source": [
    "                                                                                                         Date: 18-May-2023"
   ]
  },
  {
   "cell_type": "markdown",
   "id": "4bec0b0d",
   "metadata": {},
   "source": [
    "###### 161. Write a Python program to find palindromes in a given list of strings using Lambda"
   ]
  },
  {
   "cell_type": "code",
   "execution_count": 1,
   "id": "00ed8300",
   "metadata": {},
   "outputs": [
    {
     "data": {
      "text/plain": [
       "['level', 'radar', 'madam']"
      ]
     },
     "execution_count": 1,
     "metadata": {},
     "output_type": "execute_result"
    }
   ],
   "source": [
    "import numpy as np\n",
    "import pandas as pd\n",
    "\n",
    "def find_palindrome(strings):\n",
    "    return list(filter(lambda x: x == x[::-1],strings))\n",
    "\n",
    "lst=['level', 'python', 'radar', 'madam', 'hello']\n",
    "find_palindrome(lst)"
   ]
  },
  {
   "cell_type": "markdown",
   "id": "4d29e09a",
   "metadata": {},
   "source": [
    "###### 162. Write a Python program to find all anagrams of a string in a given list of strings using lambda"
   ]
  },
  {
   "cell_type": "code",
   "execution_count": 7,
   "id": "e55ed469",
   "metadata": {},
   "outputs": [
    {
     "data": {
      "text/plain": [
       "['silent']"
      ]
     },
     "execution_count": 7,
     "metadata": {},
     "output_type": "execute_result"
    }
   ],
   "source": [
    "is_anagram = lambda x1, x2: sorted(x1)==sorted(x2)\n",
    "\n",
    "def find_anagrams(word, string):\n",
    "    return list(filter(lambda s: is_anagram(word, s), string))\n",
    "\n",
    "word=\"listen\"\n",
    "string=['level', 'python', 'radar', 'madam', 'silent']\n",
    "find_anagrams(word, string)"
   ]
  },
  {
   "cell_type": "markdown",
   "id": "72758796",
   "metadata": {},
   "source": [
    "###### 163. Write a Python program that multiplies each number of a given list with a given number using lambda function. Print the result"
   ]
  },
  {
   "cell_type": "code",
   "execution_count": 9,
   "id": "5cb29e85",
   "metadata": {},
   "outputs": [
    {
     "data": {
      "text/plain": [
       "[10, 20, 30, 40, 50, 60, 70, 80, 90, 100]"
      ]
     },
     "execution_count": 9,
     "metadata": {},
     "output_type": "execute_result"
    }
   ],
   "source": [
    "def multiple_number(num, lst):\n",
    "    return list(map(lambda x:x*num, lst))\n",
    "\n",
    "lst=[1,2,3,4,5,6,7,8,9,10]\n",
    "multiple_number(10, lst)"
   ]
  },
  {
   "cell_type": "markdown",
   "id": "7d845bea",
   "metadata": {},
   "source": [
    "###### 164. Write a Python program to calculate the sum of the positive and negative numbers of a given list of numbers using lambda function"
   ]
  },
  {
   "cell_type": "code",
   "execution_count": 14,
   "id": "b2945a2d",
   "metadata": {},
   "outputs": [
    {
     "name": "stdout",
     "output_type": "stream",
     "text": [
      "Postive Number Count: 30\n",
      "Negative Number Count: -25\n"
     ]
    }
   ],
   "source": [
    "def sum_positive_negative(lst):\n",
    "    positive=sum(list(filter(lambda x: x == x>0, lst)))\n",
    "    negative=sum(list(filter(lambda x: x == x<0, lst)))\n",
    "    print('Postive Number Addition:',positive)\n",
    "    print('Negative Number Addition:',negative)\n",
    "    \n",
    "lst = [-1, 2, -3, 4, -5, 6, -7, 8, -9, 10]\n",
    "sum_positive_negative(lst)"
   ]
  },
  {
   "cell_type": "markdown",
   "id": "bdb8ae60",
   "metadata": {},
   "source": [
    "###### 165. Write a Python program to find the list with maximum and minimum length using lambda"
   ]
  },
  {
   "cell_type": "code",
   "execution_count": 20,
   "id": "1a6fdc99",
   "metadata": {},
   "outputs": [
    {
     "name": "stdout",
     "output_type": "stream",
     "text": [
      "Maximum Length : [6, 7, 8, 9, 10]\n",
      "Minimum Length : [10]\n"
     ]
    }
   ],
   "source": [
    "def length_max_min(lst):\n",
    "    max_len = max(lst, key=lambda lst: len(lst))\n",
    "    min_len = min(lst, key=lambda lst: len(lst))\n",
    "    print('Maximum Length :',max_len)\n",
    "    print('Minimum Length :',min_len)\n",
    "    \n",
    "lst = [[1, 2, 3], [4, 5], [6, 7, 8, 9, 10], [10], [11, 12, 13, 14, 15], [11]]\n",
    "length_max_min(lst)"
   ]
  },
  {
   "cell_type": "markdown",
   "id": "0d6c38b2",
   "metadata": {},
   "source": [
    "                                                                                                         Date: 19-May-2023"
   ]
  },
  {
   "cell_type": "markdown",
   "id": "450be5c0",
   "metadata": {},
   "source": [
    "###### 166.  Write a Python program to check whether a specified list is sorted or not using lambda"
   ]
  },
  {
   "cell_type": "code",
   "execution_count": 5,
   "id": "fc735e6d",
   "metadata": {},
   "outputs": [
    {
     "data": {
      "text/plain": [
       "True"
      ]
     },
     "execution_count": 5,
     "metadata": {},
     "output_type": "execute_result"
    }
   ],
   "source": [
    "def is_sorted(lst):\n",
    "    return all(lst[i] <= lst[i+1] for i in range(len(lst) - 1))\n",
    "\n",
    "lst = [1,2,3,4,5,6,7,8,9]\n",
    "is_sorted(lst)"
   ]
  },
  {
   "cell_type": "code",
   "execution_count": 6,
   "id": "47839d78",
   "metadata": {},
   "outputs": [
    {
     "data": {
      "text/plain": [
       "False"
      ]
     },
     "execution_count": 6,
     "metadata": {},
     "output_type": "execute_result"
    }
   ],
   "source": [
    "is_sorted = lambda lst : all(lst[i] <= lst[i+1] for i in range(len(lst) -1))\n",
    "\n",
    "lst = [1,2,432,4,3,4,1,1]\n",
    "is_sorted(lst)"
   ]
  },
  {
   "cell_type": "markdown",
   "id": "fe747905",
   "metadata": {},
   "source": [
    "###### 167. Write a Python program to remove all elements from a given list present in another list using lambda."
   ]
  },
  {
   "cell_type": "code",
   "execution_count": 8,
   "id": "236bdf09",
   "metadata": {},
   "outputs": [
    {
     "data": {
      "text/plain": [
       "[1, 2]"
      ]
     },
     "execution_count": 8,
     "metadata": {},
     "output_type": "execute_result"
    }
   ],
   "source": [
    "remove_elements = lambda lst, removed_lst: list(filter(lambda x : x not in removed_lst, lst))\n",
    "\n",
    "lst1 = [1,2,3,4,5]\n",
    "lst2 = [3,4,5]\n",
    "\n",
    "remove_elements(lst1,lst2)"
   ]
  },
  {
   "cell_type": "markdown",
   "id": "f2bf5aef",
   "metadata": {},
   "source": [
    "###### 168. Write a Python program to convert string element to integer inside a given tuple using lambda"
   ]
  },
  {
   "cell_type": "code",
   "execution_count": 17,
   "id": "2a8ae82d",
   "metadata": {},
   "outputs": [
    {
     "data": {
      "text/plain": [
       "[1, 2, 3, 4, 5.5, 10]"
      ]
     },
     "execution_count": 17,
     "metadata": {},
     "output_type": "execute_result"
    }
   ],
   "source": [
    "str_to_int = lambda tup :list(map(lambda x : int(x) if isinstance(x,str) else x, tup))\n",
    "\n",
    "tup = ('1','2','3','4',5.5,10)\n",
    "\n",
    "str_to_int(tup)"
   ]
  },
  {
   "cell_type": "markdown",
   "id": "8f335e5e",
   "metadata": {},
   "source": [
    "###### 169. Write a Python program to count the occurrences of the items in a given list using lambda"
   ]
  },
  {
   "cell_type": "code",
   "execution_count": 22,
   "id": "a2f049a7",
   "metadata": {},
   "outputs": [
    {
     "data": {
      "text/plain": [
       "{1: 5, 2: 4, 3: 6, 4: 3}"
      ]
     },
     "execution_count": 22,
     "metadata": {},
     "output_type": "execute_result"
    }
   ],
   "source": [
    "count_list = lambda lst : {x : lst.count(x) for x in lst}\n",
    "\n",
    "lst = [1,1,2,3,4,3,3,1,2,3,4,4,3,2,2,1,1,3]\n",
    "\n",
    "count_list(lst)"
   ]
  },
  {
   "cell_type": "markdown",
   "id": "05ea52e9",
   "metadata": {},
   "source": [
    "###### 170. Write a Python program to add three given lists using Python map and lambda\n"
   ]
  },
  {
   "cell_type": "code",
   "execution_count": 23,
   "id": "8ebd6878",
   "metadata": {},
   "outputs": [
    {
     "data": {
      "text/plain": [
       "[12, 15, 18]"
      ]
     },
     "execution_count": 23,
     "metadata": {},
     "output_type": "execute_result"
    }
   ],
   "source": [
    "add_list = lambda lst1, lst2, lst3: list(map(lambda x,y,z:x+y+z,lst1,lst2,lst3))\n",
    "\n",
    "lst1=[1,2,3]\n",
    "lst2=[4,5,6]\n",
    "lst3=[7,8,9]\n",
    "\n",
    "add_list(lst1,lst2,lst3)"
   ]
  },
  {
   "cell_type": "markdown",
   "id": "b292d543",
   "metadata": {},
   "source": [
    "                                                                                                         Date: 20-May-2023"
   ]
  },
  {
   "cell_type": "markdown",
   "id": "0c44ee66",
   "metadata": {},
   "source": [
    "###### 171, Write a Python program to listify the list of given strings individually using Python map"
   ]
  },
  {
   "cell_type": "code",
   "execution_count": 8,
   "id": "25e4c954",
   "metadata": {},
   "outputs": [
    {
     "name": "stdout",
     "output_type": "stream",
     "text": [
      "['Python', 'Data', 'Science']\n",
      "****************************************************************************************************\n",
      "[['P', 'y', 't', 'h', 'o', 'n'], ['D', 'a', 't', 'a'], ['S', 'c', 'i', 'e', 'n', 'c', 'e']]\n"
     ]
    }
   ],
   "source": [
    "def listify_string(string):\n",
    "    return list(string)\n",
    "\n",
    "string = ['Python','Data','Science']\n",
    "print(listify_string(string))\n",
    "\n",
    "print('*'*100)\n",
    "\n",
    "listifyed_string = list(map(listify_string, string))\n",
    "\n",
    "print(listifyed_string)"
   ]
  },
  {
   "cell_type": "markdown",
   "id": "b7f4d8ea",
   "metadata": {},
   "source": [
    "###### 172. Write a Python program to square the elements of a list using map() function"
   ]
  },
  {
   "cell_type": "code",
   "execution_count": 9,
   "id": "251ba40b",
   "metadata": {},
   "outputs": [
    {
     "data": {
      "text/plain": [
       "[1, 4, 9, 16, 25]"
      ]
     },
     "execution_count": 9,
     "metadata": {},
     "output_type": "execute_result"
    }
   ],
   "source": [
    "def squre_list(lst):\n",
    "    sqr = list(map(lambda x:x**2,lst))\n",
    "    return sqr\n",
    "\n",
    "lst=[1,2,3,4,5]\n",
    "squre_list(lst)"
   ]
  },
  {
   "cell_type": "code",
   "execution_count": 18,
   "id": "aecf41c0",
   "metadata": {},
   "outputs": [
    {
     "name": "stdout",
     "output_type": "stream",
     "text": [
      "[1, 4, 9, 16, 25]\n"
     ]
    }
   ],
   "source": [
    "def squre(x):\n",
    "    return x ** 2\n",
    "\n",
    "lst=[1,2,3,4,5]\n",
    "\n",
    "sqr = list(map(squre, lst))\n",
    "print(sqr)"
   ]
  },
  {
   "cell_type": "markdown",
   "id": "f0035f0a",
   "metadata": {},
   "source": [
    "###### 173. Write a Python program to add two given lists and find the difference between lists. Use map() function"
   ]
  },
  {
   "cell_type": "code",
   "execution_count": 20,
   "id": "060252f8",
   "metadata": {},
   "outputs": [
    {
     "name": "stdout",
     "output_type": "stream",
     "text": [
      "Addition of list : [7, 9, 11, 13, 15]\n",
      "Difference between list : [-5, -5, -5, -5, -5]\n"
     ]
    }
   ],
   "source": [
    "def add_list(lst1, lst2):\n",
    "    return lst1 + lst2\n",
    "\n",
    "def diff_list(lst1, lst2):\n",
    "    return lst1 - lst2\n",
    "\n",
    "lst1 = [1,2,3,4,5]\n",
    "lst2 = [6,7,8,9,10]\n",
    "\n",
    "added_list = list(map(add_list, lst1,lst2))\n",
    "diffed_list = list(map(diff_list, lst1,lst2))\n",
    "\n",
    "print('Addition of list :',added_list)\n",
    "print('Difference between list :',diffed_list)"
   ]
  },
  {
   "cell_type": "markdown",
   "id": "a94aa2ec",
   "metadata": {},
   "source": [
    "###### 174. Write a Python program to convert a given list of integers and a tuple of integers in a list of strings"
   ]
  },
  {
   "cell_type": "code",
   "execution_count": 22,
   "id": "a19d03e8",
   "metadata": {},
   "outputs": [
    {
     "name": "stdout",
     "output_type": "stream",
     "text": [
      "Convertion int to list of str : ['1', '2', '3', '4', '5', '6', '7', '8', '9']\n",
      "Conversion int tuple to list of str ['1', '2', '3', '4', '5', '6', '7', '8', '9']\n"
     ]
    }
   ],
   "source": [
    "def int_str(lst):\n",
    "    return str(lst)\n",
    "\n",
    "def tupint_str(lst):\n",
    "    return str(lst)\n",
    "\n",
    "lst1 = [1,2,3,4,5,6,7,8,9]\n",
    "tup = (1,2,3,4,5,6,7,8,9)\n",
    "\n",
    "int_to_str = list(map(int_str, lst1))\n",
    "print('Convertion int to list of str :',int_to_str)\n",
    "\n",
    "int_tuple_to_str = list(map(tupint_str, tup))\n",
    "print('Conversion int tuple to list of str', int_tuple_to_str)"
   ]
  },
  {
   "cell_type": "markdown",
   "id": "292c1128",
   "metadata": {},
   "source": [
    "###### 175. Write a Python program to compute the sum of elements of an given array of integers, use map() function"
   ]
  },
  {
   "cell_type": "code",
   "execution_count": 32,
   "id": "e29d6701",
   "metadata": {},
   "outputs": [
    {
     "name": "stdout",
     "output_type": "stream",
     "text": [
      "Array : [1 2 3 4 5 6 7 8 9]\n",
      "45\n"
     ]
    }
   ],
   "source": [
    "def sum_array(x):\n",
    "    return sum(x)\n",
    "\n",
    "arr=np.array([1,2,3,4,5,6,7,8,9])\n",
    "print('Array :',arr)\n",
    "\n",
    "sum_of_ele = sum(map(sum_array,[arr]))\n",
    "print(sum_of_ele)"
   ]
  },
  {
   "cell_type": "markdown",
   "id": "e620cb57",
   "metadata": {},
   "source": [
    "                                                                                                         Date: 21-May-2023"
   ]
  },
  {
   "cell_type": "markdown",
   "id": "f2e29bed",
   "metadata": {},
   "source": [
    "###### 176. Write a Python program to count the same pair in two given lists. use map() function"
   ]
  },
  {
   "cell_type": "code",
   "execution_count": 35,
   "id": "48295491",
   "metadata": {},
   "outputs": [
    {
     "data": {
      "text/plain": [
       "{(1, 1): 2, (2, 2): 1, (3, 3): 2, (4, 7): 1}"
      ]
     },
     "execution_count": 35,
     "metadata": {},
     "output_type": "execute_result"
    }
   ],
   "source": [
    "import pandas as pd\n",
    "import numpy as np\n",
    "\n",
    "def same_pair(lst1,lst2):\n",
    "    count = {}\n",
    "    pairs = list(map(lambda x,y:(x,y),lst1,lst2))\n",
    "    \n",
    "    for i in pairs:\n",
    "        if i in count:\n",
    "            count[i]+=1\n",
    "        else:\n",
    "            count[i]=1\n",
    "    return count\n",
    "\n",
    "\n",
    "lst1 = [1,2,3,4,3,1]\n",
    "lst2 = [1,2,3,7,3,1]\n",
    "\n",
    "same_pair(lst1,lst2)\n"
   ]
  },
  {
   "cell_type": "markdown",
   "id": "d9353d5a",
   "metadata": {},
   "source": [
    "###### 177. Write a Python program to convert a given list of strings into list of lists using map function"
   ]
  },
  {
   "cell_type": "code",
   "execution_count": 36,
   "id": "7cec7200",
   "metadata": {},
   "outputs": [
    {
     "data": {
      "text/plain": [
       "[['Digvijay'], ['Abhimany'], ['Shourya']]"
      ]
     },
     "execution_count": 36,
     "metadata": {},
     "output_type": "execute_result"
    }
   ],
   "source": [
    "def convert_list_of_list(strings):\n",
    "    list_of_list = list(map(lambda x:[x],strings))\n",
    "    return list_of_list\n",
    "\n",
    "strings = ['Digvijay', 'Abhimany','Shourya']\n",
    "\n",
    "convert_list_of_list(strings)"
   ]
  },
  {
   "cell_type": "markdown",
   "id": "38209dc7",
   "metadata": {},
   "source": [
    "###### 178. Write a Python program to convert a given list of tuples to a list of strings using map function"
   ]
  },
  {
   "cell_type": "code",
   "execution_count": 46,
   "id": "ed0386d9",
   "metadata": {},
   "outputs": [
    {
     "data": {
      "text/plain": [
       "['Digvijay Mohite', 'Abhimany Mohite', 'Shourya Mohite']"
      ]
     },
     "execution_count": 46,
     "metadata": {},
     "output_type": "execute_result"
    }
   ],
   "source": [
    "def convert_list_of_str(tup):\n",
    "    list_of_str = list(map(lambda x:' '.join(map(str,x)),tup))\n",
    "    return list_of_str\n",
    "\n",
    "tup = [('Digvijay','Mohite'), ('Abhimany','Mohite'),('Shourya','Mohite')]\n",
    "\n",
    "convert_list_of_str(tup)"
   ]
  },
  {
   "cell_type": "markdown",
   "id": "69909ba0",
   "metadata": {},
   "source": [
    "###### 179. Python program to find the diff. between two lists using filter() function"
   ]
  },
  {
   "cell_type": "code",
   "execution_count": 48,
   "id": "938a69d5",
   "metadata": {},
   "outputs": [
    {
     "data": {
      "text/plain": [
       "[6, 7]"
      ]
     },
     "execution_count": 48,
     "metadata": {},
     "output_type": "execute_result"
    }
   ],
   "source": [
    "def diff_between_list(lst1,lst2):\n",
    "    diff=list(filter(lambda x:x not in lst1,lst2))\n",
    "    return diff\n",
    "\n",
    "lst1=[1,2,3,4,5]\n",
    "lst2=[3,4,5,6,7]\n",
    "\n",
    "diff_between_list(lst1,lst2)"
   ]
  },
  {
   "cell_type": "markdown",
   "id": "61b4d65b",
   "metadata": {},
   "source": [
    "###### 180. Python program to remove stop words from string using filter() function"
   ]
  },
  {
   "cell_type": "code",
   "execution_count": 49,
   "id": "31b225d5",
   "metadata": {},
   "outputs": [
    {
     "data": {
      "text/plain": [
       "'This sample text we need to remove stop words from it.'"
      ]
     },
     "execution_count": 49,
     "metadata": {},
     "output_type": "execute_result"
    }
   ],
   "source": [
    " def remove_stop_words(string, stop_words):\n",
    "    words = string.split()\n",
    "    filtered_words = list(filter(lambda x: x not in stop_words, words))\n",
    "    result = ' '.join(filtered_words)\n",
    "    return result\n",
    "\n",
    "stop_words = ['the', 'is', 'and', 'a']\n",
    "text = \"This is a sample text and we need to remove the stop words from it.\"\n",
    "\n",
    "remove_stop_words(text, stop_words)"
   ]
  },
  {
   "cell_type": "markdown",
   "id": "37207e83",
   "metadata": {},
   "source": [
    "                                                                                                         Date: 22-May-2023"
   ]
  },
  {
   "cell_type": "markdown",
   "id": "65db9e98",
   "metadata": {},
   "source": [
    "###### 181. Python program to find common items in two arrays using lambda and filter() function"
   ]
  },
  {
   "cell_type": "code",
   "execution_count": 3,
   "id": "67751cda",
   "metadata": {},
   "outputs": [
    {
     "data": {
      "text/plain": [
       "[1, 2]"
      ]
     },
     "execution_count": 3,
     "metadata": {},
     "output_type": "execute_result"
    }
   ],
   "source": [
    "import numpy as np\n",
    "import pandas as pd\n",
    "\n",
    "arr1 =np.array([1,2,3,4,5])\n",
    "arr2 =np.array([1,2,6,7,8])\n",
    "\n",
    "common_ele = list(filter(lambda x : x in arr1,arr2))\n",
    "common_ele"
   ]
  },
  {
   "cell_type": "markdown",
   "id": "6587f0ef",
   "metadata": {},
   "source": [
    "###### 182. Python program to filter odd numbers from the list using filter() function"
   ]
  },
  {
   "cell_type": "code",
   "execution_count": 4,
   "id": "4b644ee7",
   "metadata": {},
   "outputs": [
    {
     "data": {
      "text/plain": [
       "[1, 3, 5, 7, 9]"
      ]
     },
     "execution_count": 4,
     "metadata": {},
     "output_type": "execute_result"
    }
   ],
   "source": [
    "arr=np.array([1,2,3,4,5,6,7,8,9])\n",
    "\n",
    "odd_num = list(filter(lambda x : x%2 != 0,arr))\n",
    "odd_num"
   ]
  },
  {
   "cell_type": "markdown",
   "id": "77f31b74",
   "metadata": {},
   "source": [
    "###### 183. Python program to filter even numbers from the list using filter() function"
   ]
  },
  {
   "cell_type": "code",
   "execution_count": 5,
   "id": "ced8161f",
   "metadata": {},
   "outputs": [
    {
     "data": {
      "text/plain": [
       "[2, 4, 6, 8]"
      ]
     },
     "execution_count": 5,
     "metadata": {},
     "output_type": "execute_result"
    }
   ],
   "source": [
    "arr=np.array([1,2,3,4,5,6,7,8,9])\n",
    "\n",
    "odd_num = list(filter(lambda x : x%2 == 0,arr))\n",
    "odd_num"
   ]
  },
  {
   "cell_type": "markdown",
   "id": "7a669f1a",
   "metadata": {},
   "source": [
    "###### 184. Python program that filters non-vowels from the list using filter() function"
   ]
  },
  {
   "cell_type": "code",
   "execution_count": 6,
   "id": "1b810234",
   "metadata": {},
   "outputs": [
    {
     "name": "stdout",
     "output_type": "stream",
     "text": [
      "Filtered letters: ['a', 'e', 'i']\n"
     ]
    }
   ],
   "source": [
    "vowels = ['a', 'e', 'i', 'o', 'u']\n",
    "letters = ['a', 'b', 'c', 'd', 'e', 'f', 'g', 'h', 'i']\n",
    "\n",
    "filtered_letters = list(filter(lambda x: x in vowels, letters))\n",
    "\n",
    "print(\"Filtered letters:\", filtered_letters)\n"
   ]
  },
  {
   "cell_type": "markdown",
   "id": "9dde822d",
   "metadata": {},
   "source": [
    "###### 185. WAP for below pattern\n",
    "    * * * *\n",
    "    * * * *\n",
    "    * * * *\n",
    "    * * * *"
   ]
  },
  {
   "cell_type": "code",
   "execution_count": 51,
   "id": "9ae48a9f",
   "metadata": {
    "scrolled": true
   },
   "outputs": [
    {
     "name": "stdout",
     "output_type": "stream",
     "text": [
      "* * * * \n",
      "* * * * \n",
      "* * * * \n",
      "* * * * \n"
     ]
    }
   ],
   "source": [
    "n=4\n",
    "for i in range(n):\n",
    "    print('* '*n)"
   ]
  },
  {
   "cell_type": "markdown",
   "id": "650d6347",
   "metadata": {},
   "source": [
    "                                                                                                         Date: 23-May-2023"
   ]
  },
  {
   "cell_type": "markdown",
   "id": "47d456f9",
   "metadata": {},
   "source": [
    "###### 186. WAP for below pattern\n",
    "\n",
    "    4 4 4 4\n",
    "    4 4 4 4\n",
    "    4 4 4 4 \n",
    "    4 4 4 4"
   ]
  },
  {
   "cell_type": "code",
   "execution_count": 54,
   "id": "f4fcbc52",
   "metadata": {},
   "outputs": [
    {
     "name": "stdout",
     "output_type": "stream",
     "text": [
      "4 4 4 4 \n",
      "4 4 4 4 \n",
      "4 4 4 4 \n",
      "4 4 4 4 \n"
     ]
    }
   ],
   "source": [
    "n=4\n",
    "\n",
    "for i in range(n):\n",
    "    print((str(n)+' ')*n)"
   ]
  },
  {
   "cell_type": "markdown",
   "id": "ae852418",
   "metadata": {},
   "source": [
    "###### 187. WAP for below pattern\n",
    "\n",
    "    1 1 1 \n",
    "    2 2 2 \n",
    "    3 3 3 "
   ]
  },
  {
   "cell_type": "code",
   "execution_count": 59,
   "id": "bfbf2b10",
   "metadata": {},
   "outputs": [
    {
     "name": "stdout",
     "output_type": "stream",
     "text": [
      "1 1 1 \n",
      "2 2 2 \n",
      "3 3 3 \n"
     ]
    }
   ],
   "source": [
    "n=3\n",
    "\n",
    "for i in range(n):\n",
    "    print((str(i+1)+' ')*n)"
   ]
  },
  {
   "cell_type": "code",
   "execution_count": null,
   "id": "fcede8ff",
   "metadata": {},
   "outputs": [],
   "source": [
    "n "
   ]
  },
  {
   "cell_type": "markdown",
   "id": "5826e1ea",
   "metadata": {},
   "source": [
    "###### 188. WAP for below pattern\n",
    "\n",
    "    A\n",
    "    B B\n",
    "    C C C \n",
    "    D D D D \n",
    "    E E E E E "
   ]
  },
  {
   "cell_type": "code",
   "execution_count": 69,
   "id": "10574207",
   "metadata": {},
   "outputs": [
    {
     "name": "stdout",
     "output_type": "stream",
     "text": [
      "A \n",
      "B B \n",
      "C C C \n",
      "D D D D \n",
      "E E E E E \n"
     ]
    }
   ],
   "source": [
    "n=5\n",
    "\n",
    "for i in range(n):\n",
    "    print((chr(65+i)+' ')*(i+1))"
   ]
  },
  {
   "cell_type": "markdown",
   "id": "5349fb31",
   "metadata": {},
   "source": [
    "###### 188. WAP for below pattern\n",
    "\n",
    "    *\n",
    "    * *\n",
    "    * * *\n",
    "    * * * *\n",
    "    * * * * *"
   ]
  },
  {
   "cell_type": "code",
   "execution_count": 90,
   "id": "67d1907b",
   "metadata": {},
   "outputs": [
    {
     "name": "stdout",
     "output_type": "stream",
     "text": [
      "* \n",
      "* * \n",
      "* * * \n",
      "* * * * \n",
      "* * * * * \n"
     ]
    }
   ],
   "source": [
    "n=5\n",
    "\n",
    "for i in range(n):\n",
    "    print('* '*(i+1))"
   ]
  },
  {
   "cell_type": "markdown",
   "id": "55e136b3",
   "metadata": {},
   "source": [
    "#### 189. WAP for below pattern\n",
    "\n",
    "    * * * * *\n",
    "    * * * *\n",
    "    * * *\n",
    "    * *\n",
    "    *"
   ]
  },
  {
   "cell_type": "code",
   "execution_count": 88,
   "id": "32b568b9",
   "metadata": {
    "scrolled": true
   },
   "outputs": [
    {
     "name": "stdout",
     "output_type": "stream",
     "text": [
      "* * * * * \n",
      "* * * * \n",
      "* * * \n",
      "* * \n",
      "* \n"
     ]
    }
   ],
   "source": [
    "rows=5\n",
    "\n",
    "for i in range(1, rows+1):\n",
    "    print(\"* \"*(n-i))     \n",
    "            "
   ]
  },
  {
   "cell_type": "markdown",
   "id": "d036dc2d",
   "metadata": {},
   "source": [
    "###### 190. WAP for below patterns\n",
    "\n",
    "                 *\n",
    "               * *\n",
    "             * * *\n",
    "           * * * *\n",
    "         * * * * *"
   ]
  },
  {
   "cell_type": "code",
   "execution_count": 112,
   "id": "79eb79d4",
   "metadata": {},
   "outputs": [
    {
     "name": "stdout",
     "output_type": "stream",
     "text": [
      "        * \n",
      "      * * \n",
      "    * * * \n",
      "  * * * * \n",
      "* * * * * \n"
     ]
    }
   ],
   "source": [
    "n=6\n",
    "\n",
    "for i in range(1,n):\n",
    "    for j in range(1,n):\n",
    "        if j>=n-i:\n",
    "            print('*',end=' ')\n",
    "        else:\n",
    "            print(' ',end=' ')\n",
    "    print()"
   ]
  },
  {
   "cell_type": "markdown",
   "id": "435fb186",
   "metadata": {},
   "source": [
    "                                                                                                         Date: 24-May-2023"
   ]
  },
  {
   "cell_type": "markdown",
   "id": "4aad71a0",
   "metadata": {},
   "source": [
    "###### 191. WAP for below patterns\n",
    "      1 2 3 4 \n",
    "      1 2 3\n",
    "      1 2\n",
    "      1"
   ]
  },
  {
   "cell_type": "code",
   "execution_count": 5,
   "id": "70ff0712",
   "metadata": {
    "scrolled": true
   },
   "outputs": [
    {
     "name": "stdout",
     "output_type": "stream",
     "text": [
      "1 2 3 4 \n",
      "1 2 3 \n",
      "1 2 \n",
      "1 \n"
     ]
    }
   ],
   "source": [
    "n=4 \n",
    "\n",
    "for i in range(n):\n",
    "    for j in range(n-i):\n",
    "        print(j+1, end=' ')\n",
    "    print()"
   ]
  },
  {
   "cell_type": "markdown",
   "id": "1fffebc9",
   "metadata": {},
   "source": [
    "###### 192. WAP for below patterns\n",
    "       1\n",
    "      2 2\n",
    "     3 3 3 \n",
    "    4 4 4 4 "
   ]
  },
  {
   "cell_type": "code",
   "execution_count": 6,
   "id": "88b25d31",
   "metadata": {},
   "outputs": [
    {
     "name": "stdout",
     "output_type": "stream",
     "text": [
      "   1 \n",
      "  2 2 \n",
      " 3 3 3 \n",
      "4 4 4 4 \n"
     ]
    }
   ],
   "source": [
    "n=4\n",
    "\n",
    "for i in range(n): # 0 1 2 3 \n",
    "    print(' '*(n-i-1) + (str(i+1)+' ')*(i+1))\n",
    "    "
   ]
  },
  {
   "cell_type": "markdown",
   "id": "c39d9dbf",
   "metadata": {},
   "source": [
    "###### 193. WAP for below patterns\n",
    "       D\n",
    "      D  C\n",
    "     D  C  B \n",
    "    D  C  B  A"
   ]
  },
  {
   "cell_type": "code",
   "execution_count": 8,
   "id": "deba0ff9",
   "metadata": {},
   "outputs": [
    {
     "name": "stdout",
     "output_type": "stream",
     "text": [
      "    D \n",
      "   D C \n",
      "  D C B \n",
      " D C B A \n"
     ]
    }
   ],
   "source": [
    "n=4\n",
    "\n",
    "for i in range(n):\n",
    "    print(' '*(n-i-1), end=' ')\n",
    "    for j in range(i+1):\n",
    "        print(chr(64+n-j), end= ' ')\n",
    "    print()"
   ]
  },
  {
   "cell_type": "markdown",
   "id": "1ffbd665",
   "metadata": {},
   "source": [
    "###### 194. WAP for below pattern\n",
    "\n",
    "    1 2 3 4 5\n",
    "    2 2 3 4 5\n",
    "    3 3 3 4 5\n",
    "    4 4 4 4 5\n",
    "    5 5 5 5 5"
   ]
  },
  {
   "cell_type": "code",
   "execution_count": 23,
   "id": "f7323da9",
   "metadata": {},
   "outputs": [
    {
     "name": "stdout",
     "output_type": "stream",
     "text": [
      "1 2 3 4 5 \n",
      "2 2 3 4 5 \n",
      "3 3 3 4 5 \n",
      "4 4 4 4 5 \n",
      "5 5 5 5 5 \n"
     ]
    }
   ],
   "source": [
    "n = 5\n",
    "\n",
    "for i in range(1, n + 1):\n",
    "        for j in range(1, n + 1):\n",
    "            if j == i:\n",
    "                print(i, end=' ')\n",
    "            else:\n",
    "                print(max(i, j), end=' ')\n",
    "        print()\n"
   ]
  },
  {
   "cell_type": "markdown",
   "id": "250f722c",
   "metadata": {},
   "source": [
    "###### 195. WAP for below pattern\n",
    "\n",
    "                *\n",
    "               * *\n",
    "              * * *\n",
    "             * * * *\n",
    "            * * * * *\n"
   ]
  },
  {
   "cell_type": "code",
   "execution_count": 24,
   "id": "c7488d9e",
   "metadata": {},
   "outputs": [
    {
     "name": "stdout",
     "output_type": "stream",
     "text": [
      "   * \n",
      "  * * \n",
      " * * * \n",
      "* * * * \n"
     ]
    }
   ],
   "source": [
    "n=4\n",
    "\n",
    "for i in range(n): # 0 1 2 3 \n",
    "    print(' '*(n-i-1) + ('*'+' ')*(i+1))"
   ]
  },
  {
   "cell_type": "markdown",
   "id": "90d14fd6",
   "metadata": {},
   "source": [
    "                                                                                                         Date: 25-May-2023"
   ]
  },
  {
   "cell_type": "markdown",
   "id": "53098217",
   "metadata": {},
   "source": [
    "###### 196. Write a program to print every character of a string entered by the user in a new line using a loop"
   ]
  },
  {
   "cell_type": "code",
   "execution_count": 33,
   "id": "4ad8f17e",
   "metadata": {},
   "outputs": [
    {
     "name": "stdout",
     "output_type": "stream",
     "text": [
      "Enter WordDigvijay\n",
      "D \n",
      "\n",
      "i \n",
      "\n",
      "g \n",
      "\n",
      "v \n",
      "\n",
      "i \n",
      "\n",
      "j \n",
      "\n",
      "a \n",
      "\n",
      "y \n",
      "\n"
     ]
    }
   ],
   "source": [
    "string = str(input('Enter Word'))\n",
    "\n",
    "for char in string:\n",
    "    print(char,'\\n')"
   ]
  },
  {
   "cell_type": "markdown",
   "id": "018b2084",
   "metadata": {},
   "source": [
    "###### 197. Write a program to find the length of the string \"machine learning\" with and without using len function."
   ]
  },
  {
   "cell_type": "code",
   "execution_count": 41,
   "id": "22e41ed5",
   "metadata": {},
   "outputs": [
    {
     "name": "stdout",
     "output_type": "stream",
     "text": [
      "length without len function : 16\n",
      "length with with len function : 16\n"
     ]
    }
   ],
   "source": [
    "string = 'machine learning'\n",
    "\n",
    "count=0\n",
    "for i in string:\n",
    "    count +=1\n",
    "print('length without len function :',count)\n",
    "\n",
    "print('length with with len function :',len(string))       "
   ]
  },
  {
   "cell_type": "markdown",
   "id": "e8029056",
   "metadata": {},
   "source": [
    "###### 198. Write a program to check if the word 'orange' is present in the \"This is orange juice\""
   ]
  },
  {
   "cell_type": "code",
   "execution_count": 44,
   "id": "dc7b5448",
   "metadata": {},
   "outputs": [
    {
     "name": "stdout",
     "output_type": "stream",
     "text": [
      "Oragnge is present\n"
     ]
    }
   ],
   "source": [
    "string = 'This is orange juice'\n",
    "\n",
    "word = 'orange'\n",
    "\n",
    "if word in string:\n",
    "    print('Oragnge is present')\n",
    "else:\n",
    "    print('Orange is not present')"
   ]
  },
  {
   "cell_type": "markdown",
   "id": "0c80ac39",
   "metadata": {},
   "source": [
    "###### 199.Write a program to find the number of vowels, consonants, digits, and white space characters in a string."
   ]
  },
  {
   "cell_type": "code",
   "execution_count": 56,
   "id": "f5f1752c",
   "metadata": {},
   "outputs": [
    {
     "name": "stdout",
     "output_type": "stream",
     "text": [
      "vowel_count 3\n",
      "consonants_count 5\n",
      "digits_count 3\n",
      "white_space 1\n"
     ]
    }
   ],
   "source": [
    "def count_characters(string):\n",
    "    vowels = 0\n",
    "    consonants = 0\n",
    "    digits = 0\n",
    "    white_space = 0\n",
    "    \n",
    "    for char in string:\n",
    "        if char.isalpha():\n",
    "            if char.lower() in ('a','e','i','o','u'):\n",
    "                vowels +=1\n",
    "            else:\n",
    "                consonants+=1\n",
    "        elif char.isdigit():\n",
    "            digits +=1\n",
    "        elif char.isspace():\n",
    "            white_space +=1\n",
    "            \n",
    "    return vowels, consonants, digits, white_space\n",
    "\n",
    "\n",
    "\n",
    "vowel_count, consonants_count, digits_count , white_space = count_characters('Dig vijay123')\n",
    "\n",
    "print('vowel_count',vowel_count)\n",
    "print('consonants_count',consonants_count)\n",
    "print('digits_count',digits_count)\n",
    "print('white_space',white_space)\n"
   ]
  },
  {
   "cell_type": "markdown",
   "id": "b19b0433",
   "metadata": {},
   "source": [
    "###### 200. Write a Python program to count Uppercase, Lowercase, special character, and numeric values in a given string.\n"
   ]
  },
  {
   "cell_type": "code",
   "execution_count": 61,
   "id": "5c1c3617",
   "metadata": {},
   "outputs": [
    {
     "name": "stdout",
     "output_type": "stream",
     "text": [
      "uppercase_count 2\n",
      "lowercase_count 8\n",
      "special_count 7\n",
      "numeric_count 3\n"
     ]
    }
   ],
   "source": [
    "def count_characters(string):\n",
    "    uppercase_count = 0\n",
    "    lowercase_count = 0\n",
    "    special_count = 0\n",
    "    numeric_count = 0\n",
    "    \n",
    "    for char in string:\n",
    "        if char.isupper():\n",
    "            uppercase_count +=1\n",
    "        elif char.islower():\n",
    "            lowercase_count +=1\n",
    "        elif char.isdigit():\n",
    "            numeric_count +=1\n",
    "        else:\n",
    "            special_count +=1\n",
    "            \n",
    "    return uppercase_count, lowercase_count, special_count, numeric_count\n",
    "\n",
    "\n",
    "\n",
    "uppercase_count, lowercase_count, special_count , numeric_count = count_characters(\"Hello World! 123 #$%\")\n",
    "\n",
    "print('uppercase_count',uppercase_count)\n",
    "print('lowercase_count',lowercase_count)\n",
    "print('special_count',special_count)\n",
    "print('numeric_count',numeric_count)"
   ]
  },
  {
   "cell_type": "markdown",
   "id": "ff772857",
   "metadata": {},
   "source": [
    "                                                                                                         Date: 26-May-2023"
   ]
  },
  {
   "cell_type": "markdown",
   "id": "01be7ef6",
   "metadata": {},
   "source": [
    "###### 201. Write a program to make a new string with all the consonants deleted from the string \"Hello, have a good day\"."
   ]
  },
  {
   "cell_type": "code",
   "execution_count": 67,
   "id": "590570ab",
   "metadata": {},
   "outputs": [
    {
     "data": {
      "text/plain": [
       "['a', 'e', 'a', 'e', 'a', 'a', 'e', 'o', 'o', 'u', 'a']"
      ]
     },
     "execution_count": 67,
     "metadata": {},
     "output_type": "execute_result"
    }
   ],
   "source": [
    "str_list=[]\n",
    "def remove_consonants(string):\n",
    "    \n",
    "    for char in string:\n",
    "        if char.isalpha():\n",
    "            if char not in ('a','e','i','o','u'):\n",
    "                del char\n",
    "            else:\n",
    "                str_list.append(char)\n",
    "    return str_list\n",
    "\n",
    "remove_consonants('Ramesh and Neha are good humans')"
   ]
  },
  {
   "cell_type": "code",
   "execution_count": 73,
   "id": "38c692c8",
   "metadata": {},
   "outputs": [
    {
     "data": {
      "text/plain": [
       "' ae a ea ae oo ua'"
      ]
     },
     "execution_count": 73,
     "metadata": {},
     "output_type": "execute_result"
    }
   ],
   "source": [
    "\n",
    "def remove_consonants(string):\n",
    "    new_string=\" \"\n",
    "    for char in string:\n",
    "        if char in ('a','e','i','o','u') or char.isspace():\n",
    "            new_string += char\n",
    "            \n",
    "    return new_string\n",
    "\n",
    "remove_consonants('Ramesh and Neha are good humans')"
   ]
  },
  {
   "cell_type": "markdown",
   "id": "7a217f76",
   "metadata": {},
   "source": [
    "###### 202. Write a Python program to remove the nth index character from a non-empty string.\n"
   ]
  },
  {
   "cell_type": "code",
   "execution_count": 79,
   "id": "d06efe09",
   "metadata": {},
   "outputs": [
    {
     "data": {
      "text/plain": [
       "'Pyhon'"
      ]
     },
     "execution_count": 79,
     "metadata": {},
     "output_type": "execute_result"
    }
   ],
   "source": [
    "# By using positive indexing\n",
    "def remove_character(string,index):\n",
    "    if index < 0 or index>=len(string):\n",
    "        return string\n",
    "    new_string = string[:index]+string[index+1:]\n",
    "    return new_string\n",
    "\n",
    "remove_character('Python',2)"
   ]
  },
  {
   "cell_type": "code",
   "execution_count": 92,
   "id": "dd7f5f07",
   "metadata": {},
   "outputs": [
    {
     "data": {
      "text/plain": [
       "'Pythn'"
      ]
     },
     "execution_count": 92,
     "metadata": {},
     "output_type": "execute_result"
    }
   ],
   "source": [
    "# by using negative/postive indexing\n",
    "def remove_character(string,index):\n",
    "    if abs(index) > len(string):\n",
    "        return string\n",
    "    \n",
    "    new_string = string[:index]+string[index+1:]\n",
    "    return new_string\n",
    "\n",
    "remove_character('Python',-2)"
   ]
  },
  {
   "cell_type": "markdown",
   "id": "4afbe6e7",
   "metadata": {},
   "source": [
    "###### 203. Write a Python program to change a given string to a new string where the first and last characters have been exchanged."
   ]
  },
  {
   "cell_type": "code",
   "execution_count": 94,
   "id": "b0fecb0c",
   "metadata": {},
   "outputs": [
    {
     "data": {
      "text/plain": [
       "'yigvijaD'"
      ]
     },
     "execution_count": 94,
     "metadata": {},
     "output_type": "execute_result"
    }
   ],
   "source": [
    "def exchange_first_last(string):\n",
    "    \n",
    "    if len(string)<1:\n",
    "        return string\n",
    "    \n",
    "    new_string= string[-1] + string[1:-1] + string[0]\n",
    "    return new_string\n",
    "\n",
    "exchange_first_last('Digvijay')"
   ]
  },
  {
   "cell_type": "markdown",
   "id": "a075c0e7",
   "metadata": {},
   "source": [
    "###### 204. Write a Python program to count the occurrences of each word in a given sentence"
   ]
  },
  {
   "cell_type": "code",
   "execution_count": 97,
   "id": "963c025d",
   "metadata": {},
   "outputs": [
    {
     "data": {
      "text/plain": [
       "{'My': 1, 'name': 2, 'is': 2, 'my': 1, 'lakhan': 2, 'and': 1}"
      ]
     },
     "execution_count": 97,
     "metadata": {},
     "output_type": "execute_result"
    }
   ],
   "source": [
    "def count_occurance(string):\n",
    "    word_count ={}\n",
    "    words=string.split()\n",
    "    \n",
    "    for word in words:\n",
    "        if word in word_count:\n",
    "            word_count[word]+=1\n",
    "        else:\n",
    "            word_count[word]=1\n",
    "            \n",
    "    return word_count\n",
    "\n",
    "count_occurance('My name is my name is lakhan and lakhan')"
   ]
  },
  {
   "cell_type": "markdown",
   "id": "55fd47fa",
   "metadata": {},
   "source": [
    "###### 205. How do you count the occurrence of a given character in a string?"
   ]
  },
  {
   "cell_type": "code",
   "execution_count": 99,
   "id": "a191da60",
   "metadata": {},
   "outputs": [
    {
     "data": {
      "text/plain": [
       "2"
      ]
     },
     "execution_count": 99,
     "metadata": {},
     "output_type": "execute_result"
    }
   ],
   "source": [
    "def count_character_occurrences(string, character):\n",
    "    count = string.count(character)\n",
    "    return count\n",
    "count_character_occurrences('My name is my name is lakhan and lakhan','i')"
   ]
  },
  {
   "cell_type": "markdown",
   "id": "bffda721",
   "metadata": {},
   "source": [
    "                                                                                                         Date: 27-May-2023"
   ]
  },
  {
   "cell_type": "markdown",
   "id": "307aade1",
   "metadata": {},
   "source": [
    "###### 206. Write a program to find last 10 characters of a string"
   ]
  },
  {
   "cell_type": "code",
   "execution_count": 8,
   "id": "a3630c91",
   "metadata": {},
   "outputs": [
    {
     "name": "stdout",
     "output_type": "stream",
     "text": [
      "an perfect\n"
     ]
    }
   ],
   "source": [
    "def find_last_10_char(string):\n",
    "    if len(string) <= 10:\n",
    "        return string\n",
    "    else:\n",
    "        print(string[-10:])\n",
    "\n",
    "find_last_10_char('Practice makes man perfect')"
   ]
  },
  {
   "cell_type": "markdown",
   "id": "f15d6233",
   "metadata": {},
   "source": [
    "###### 207. WAP to convert a given string to all uppercase if it contains at least 2 uppercase characters in the first 4 characters.\n"
   ]
  },
  {
   "cell_type": "code",
   "execution_count": 14,
   "id": "0e0d7d2f",
   "metadata": {},
   "outputs": [
    {
     "name": "stdout",
     "output_type": "stream",
     "text": [
      "hardWork\n",
      "harDwork\n",
      "HARDWORK\n"
     ]
    }
   ],
   "source": [
    "def convert_to_uppercase(string):\n",
    "    uppercase_count = 0\n",
    "    \n",
    "    for i in string[:4]:\n",
    "         if i.isupper():\n",
    "                uppercase_count += 1\n",
    "                \n",
    "    if uppercase_count >= 2:\n",
    "        return string.upper()\n",
    "    else:\n",
    "        return string\n",
    "    \n",
    "obj1= convert_to_uppercase('hardWork')\n",
    "print(obj1)\n",
    "obj2= convert_to_uppercase('harDwork')\n",
    "print(obj2)\n",
    "obj3= convert_to_uppercase('haRDWork')\n",
    "print(obj3)"
   ]
  },
  {
   "cell_type": "markdown",
   "id": "9328d44f",
   "metadata": {},
   "source": [
    "###### 208. Write a Python program to remove a newline in Python."
   ]
  },
  {
   "cell_type": "code",
   "execution_count": 18,
   "id": "cbfde376",
   "metadata": {},
   "outputs": [
    {
     "name": "stdout",
     "output_type": "stream",
     "text": [
      "Original String : India is great\n",
      "all indians are my brothers and sisters\n",
      "I love india\n",
      "\n",
      "****************************************************************************************************\n"
     ]
    },
    {
     "data": {
      "text/plain": [
       "'India is great\\nall indians are my brothers and sisters\\nI love india'"
      ]
     },
     "execution_count": 18,
     "metadata": {},
     "output_type": "execute_result"
    }
   ],
   "source": [
    "def remove_newline(string):\n",
    "    string_without_newline = string.rstrip()\n",
    "    return string_without_newline\n",
    "\n",
    "str1='''India is great\n",
    "all indians are my brothers and sisters\n",
    "I love india\n",
    "'''\n",
    "\n",
    "print('Original String :',str1)\n",
    "print('*'*100)\n",
    "\n",
    "remove_newline(str1)"
   ]
  },
  {
   "cell_type": "markdown",
   "id": "fb32b3c3",
   "metadata": {},
   "source": [
    "###### 209. Write a Python program to swap commas and dots in a string\n",
    "    ○ Sample string: \"32.054,23\"\n",
    "    ○ Expected Output: \"32,054.23\""
   ]
  },
  {
   "cell_type": "code",
   "execution_count": 22,
   "id": "4c191257",
   "metadata": {},
   "outputs": [
    {
     "name": "stdout",
     "output_type": "stream",
     "text": [
      "Orignal String : 32.054,23\n",
      "Swapped String : 32,054.23\n"
     ]
    }
   ],
   "source": [
    "def swap(string):\n",
    "    swaped_string = string.replace('.','@').replace(',','.').replace('@',',')\n",
    "    return swaped_string\n",
    "\n",
    "string = \"32.054,23\"\n",
    "print('Orignal String :',string)\n",
    "print('Swapped String :',swap(string))"
   ]
  },
  {
   "cell_type": "markdown",
   "id": "40466d8a",
   "metadata": {},
   "source": [
    "###### 210. Write a Python program to find the first repeated character in a given string"
   ]
  },
  {
   "cell_type": "code",
   "execution_count": 30,
   "id": "ecd5c2f2",
   "metadata": {},
   "outputs": [
    {
     "name": "stdout",
     "output_type": "stream",
     "text": [
      "First repeated character : i\n"
     ]
    }
   ],
   "source": [
    "def find_first_repeated_character(string):\n",
    "    char_seen = set()\n",
    "    \n",
    "    for char in string:\n",
    "        if char in char_seen:\n",
    "            return char\n",
    "        char_seen.add(char)\n",
    "    return None\n",
    "\n",
    "repeated_char = find_first_repeated_character('Digvijay')\n",
    "\n",
    "if repeated_char is not None:\n",
    "    print('First repeated character :',repeated_char)\n",
    "else:\n",
    "    print('No repeated char found')"
   ]
  },
  {
   "cell_type": "markdown",
   "id": "ad0b1da0",
   "metadata": {},
   "source": [
    "                                                                                                         Date: 28-May-2023"
   ]
  },
  {
   "cell_type": "markdown",
   "id": "b8ca4369",
   "metadata": {},
   "source": [
    "###### 211. Write a Python program to find the second most repeated word in a given string"
   ]
  },
  {
   "cell_type": "code",
   "execution_count": 21,
   "id": "e3b1beca",
   "metadata": {},
   "outputs": [
    {
     "data": {
      "text/plain": [
       "'fox'"
      ]
     },
     "execution_count": 21,
     "metadata": {},
     "output_type": "execute_result"
    }
   ],
   "source": [
    "from collections import Counter\n",
    "\n",
    "def second_most_repeated_word(string):\n",
    "    cleaned_str = ''.join(i for i in string if i.isalnum() or i.isspace()) # removing special characters\n",
    "#     print(cleaned_str)\n",
    "    cleaned_str = cleaned_str.lower() # converting all string in lower case\n",
    "#     print(cleaned_str)\n",
    "    \n",
    "    \n",
    "    word_counts = Counter(cleaned_str.split()) # count of words\n",
    "#     print(word_count)\n",
    "    \n",
    "    most_common_word = word_counts.most_common(2)\n",
    "#     print(most_common_word)\n",
    "    if len(most_common_word) >= 2:\n",
    "        return most_common_word[1][0]\n",
    "    else:\n",
    "        return None\n",
    "    \n",
    "second_most_repeated_word(\"The quick brown fox jumps over the lazy dog. The dog jumps over the fox.\")\n",
    "    "
   ]
  },
  {
   "cell_type": "markdown",
   "id": "2ff79478",
   "metadata": {},
   "source": [
    "###### 212. Python program to Count Even and Odd numbers in a string"
   ]
  },
  {
   "cell_type": "code",
   "execution_count": 25,
   "id": "0231cca9",
   "metadata": {},
   "outputs": [
    {
     "name": "stdout",
     "output_type": "stream",
     "text": [
      "Even count: 4\n",
      "Odd count: 5\n"
     ]
    }
   ],
   "source": [
    "def even_odd_num(string):\n",
    "    numbers = []\n",
    "    even_count = 0\n",
    "    odd_count = 0\n",
    "    \n",
    "    for word in string.split():\n",
    "        if word.isdigit():\n",
    "            numbers.append(int(word))\n",
    "        \n",
    "        \n",
    "    for i in numbers:\n",
    "        if i%2 == 0:\n",
    "            even_count+=1\n",
    "        else:\n",
    "            odd_count+=1\n",
    "            \n",
    "    return even_count, odd_count\n",
    "\n",
    "string = 'The numbers 1 2 3 4 5 6 7 8 9 are in the string'\n",
    "\n",
    "even, odd = even_odd_num(string)\n",
    "\n",
    "print('Even count:',even)\n",
    "print('Odd count:',odd)"
   ]
  },
  {
   "cell_type": "markdown",
   "id": "8bd153c9",
   "metadata": {},
   "source": [
    "###### 213. How do you check if a string contains only digits?\n"
   ]
  },
  {
   "cell_type": "code",
   "execution_count": 37,
   "id": "7b9d4edd",
   "metadata": {},
   "outputs": [
    {
     "name": "stdout",
     "output_type": "stream",
     "text": [
      "False\n",
      "True\n"
     ]
    }
   ],
   "source": [
    "def check_digit(string):\n",
    "    return string.isdigit()\n",
    "\n",
    "string1 = 'The numbers are 1 2 3 4 5 6 7 8 9 in string'\n",
    "print(check_digit(string1))\n",
    "\n",
    "string2 = '12349'\n",
    "print(check_digit(string2))"
   ]
  },
  {
   "cell_type": "code",
   "execution_count": 31,
   "id": "3e6de0be",
   "metadata": {},
   "outputs": [
    {
     "data": {
      "text/plain": [
       "9"
      ]
     },
     "execution_count": 31,
     "metadata": {},
     "output_type": "execute_result"
    }
   ],
   "source": [
    "def check_digit_count(string):\n",
    "    numbers = []\n",
    "    digit_count = 0\n",
    "    \n",
    "    for word in string.split():\n",
    "        if word.isdigit():\n",
    "            numbers.append(int(word))\n",
    "    return len(numbers)\n",
    "\n",
    "string = 'The numbers are 1 2 3 4 5 6 7 8 9 in string'\n",
    "check_digit_count(string)"
   ]
  },
  {
   "cell_type": "markdown",
   "id": "33854ccd",
   "metadata": {},
   "source": [
    "###### 214. How do you remove a given character/word from String?"
   ]
  },
  {
   "cell_type": "code",
   "execution_count": 8,
   "id": "d7b91e40",
   "metadata": {},
   "outputs": [
    {
     "data": {
      "text/plain": [
       "'Hell wrd'"
      ]
     },
     "execution_count": 8,
     "metadata": {},
     "output_type": "execute_result"
    }
   ],
   "source": [
    "def remove_char(string,char):\n",
    "    return string.replace(char,'')\n",
    "\n",
    "remove_char('Hello word',\"o\")"
   ]
  },
  {
   "cell_type": "code",
   "execution_count": 9,
   "id": "9e989acb",
   "metadata": {},
   "outputs": [
    {
     "data": {
      "text/plain": [
       "' India'"
      ]
     },
     "execution_count": 9,
     "metadata": {},
     "output_type": "execute_result"
    }
   ],
   "source": [
    "def remove_char(string,word):\n",
    "    return string.replace(word,'')\n",
    "\n",
    "remove_char('Hello India',\"Hello\")"
   ]
  },
  {
   "cell_type": "code",
   "execution_count": null,
   "id": "a5be71d4",
   "metadata": {},
   "outputs": [],
   "source": [
    "def remove_odd_characters(string):\n",
    "    new_string = \"\"\n",
    "    for index, char in enumerate(string):\n",
    "        if index % 2 == 0:\n",
    "            new_string += char\n",
    "    return new_string\n",
    "\n",
    "# Example usage\n",
    "my_string = \"Hello, World!\"\n",
    "new_string = remove_odd_characters(my_string)\n",
    "print(new_string)  # Output: Hlo ol!\n"
   ]
  },
  {
   "cell_type": "markdown",
   "id": "571ff716",
   "metadata": {},
   "source": [
    "###### 215. Write a Python program to remove the characters which have odd index values of a given string\n"
   ]
  },
  {
   "cell_type": "code",
   "execution_count": 22,
   "id": "130627e0",
   "metadata": {},
   "outputs": [
    {
     "name": "stdout",
     "output_type": "stream",
     "text": [
      "D\n",
      "Di\n",
      "Dig\n",
      "Digv\n",
      "Digvi\n",
      "Digvij\n",
      "Digvija\n",
      "Digvijay\n"
     ]
    },
    {
     "data": {
      "text/plain": [
       "'Digvijay'"
      ]
     },
     "execution_count": 22,
     "metadata": {},
     "output_type": "execute_result"
    }
   ],
   "source": [
    "def remove_odd_index_char(string):\n",
    "    new_string = \"\"\n",
    "    \n",
    "    for index, char in enumerate(string):\n",
    "        if index%2 == 0:\n",
    "            new_string += char\n",
    "            print(new_string)\n",
    "    return new_string\n",
    "\n",
    "string = 'D_i_g_v_i_j_a_y'\n",
    "remove_odd_index_char(string)"
   ]
  },
  {
   "cell_type": "markdown",
   "id": "948042b4",
   "metadata": {},
   "source": [
    "                                                                                                         Date: 29-May-2023"
   ]
  },
  {
   "cell_type": "markdown",
   "id": "bd712c81",
   "metadata": {},
   "source": [
    "###### 216. Write a Python function to reverses a string if its length is a multiple of 5"
   ]
  },
  {
   "cell_type": "code",
   "execution_count": 1,
   "id": "e4112b9e",
   "metadata": {},
   "outputs": [
    {
     "name": "stdout",
     "output_type": "stream",
     "text": [
      "olleH\n",
      "Boys\n",
      "dlroW\n"
     ]
    }
   ],
   "source": [
    "def reverse_string_if_multiple_of_five(string):\n",
    "    if len(string)%5 == 0:\n",
    "        return string[::-1]\n",
    "    else:\n",
    "        return string\n",
    "    \n",
    "string1= 'Hello'\n",
    "string2= 'Boys'\n",
    "string3= 'World'\n",
    "\n",
    "print(reverse_string_if_multiple_of_five(string1))\n",
    "print(reverse_string_if_multiple_of_five(string2))\n",
    "print(reverse_string_if_multiple_of_five(string3))"
   ]
  },
  {
   "cell_type": "markdown",
   "id": "435ac389",
   "metadata": {},
   "source": [
    "###### 217. Write a Python program to format a number with a percentage(0.05 >> 5%)"
   ]
  },
  {
   "cell_type": "code",
   "execution_count": 4,
   "id": "b027b9af",
   "metadata": {},
   "outputs": [
    {
     "data": {
      "text/plain": [
       "'5%'"
      ]
     },
     "execution_count": 4,
     "metadata": {},
     "output_type": "execute_result"
    }
   ],
   "source": [
    "def format_as_percentage(number):\n",
    "    formatted_percentage = \"{:.0%}\".format(number)\n",
    "    return formatted_percentage\n",
    "\n",
    "format_as_percentage(0.05)"
   ]
  },
  {
   "cell_type": "markdown",
   "id": "a5e2f13c",
   "metadata": {},
   "source": [
    "###### 218. Write a Python program to reverse words in a string"
   ]
  },
  {
   "cell_type": "code",
   "execution_count": 10,
   "id": "fc5e5258",
   "metadata": {},
   "outputs": [
    {
     "name": "stdout",
     "output_type": "stream",
     "text": [
      "['My', 'name', 'is', 'Lakhan']\n",
      "['Lakhan', 'is', 'name', 'My']\n"
     ]
    },
    {
     "data": {
      "text/plain": [
       "'Lakhan is name My'"
      ]
     },
     "execution_count": 10,
     "metadata": {},
     "output_type": "execute_result"
    }
   ],
   "source": [
    "def reverse_w(string):\n",
    "    words = string.split()\n",
    "    print(words)\n",
    "    \n",
    "    reversed_words = words[::-1]\n",
    "    print(reversed_words)\n",
    "    \n",
    "    reversed_string = ' '.join(reversed_words)\n",
    "    return reversed_string\n",
    "\n",
    "string = 'My name is Lakhan'\n",
    "reverse_w(string)"
   ]
  },
  {
   "cell_type": "markdown",
   "id": "9d4b3d6e",
   "metadata": {},
   "source": [
    "###### 219. Write a Python program to swap cases of a given string"
   ]
  },
  {
   "cell_type": "code",
   "execution_count": 11,
   "id": "70a79bd3",
   "metadata": {},
   "outputs": [
    {
     "name": "stdout",
     "output_type": "stream",
     "text": [
      "hELLO wORLD\n"
     ]
    }
   ],
   "source": [
    "def swap_case(string):\n",
    "    swapped_string = string.swapcase()  \n",
    "    return swapped_string\n",
    "\n",
    "\n",
    "input_string = \"Hello World\"\n",
    "swapped_string = swap_case(input_string)\n",
    "print(swapped_string)\n"
   ]
  },
  {
   "cell_type": "markdown",
   "id": "7be4d07e",
   "metadata": {},
   "source": [
    "###### 220. Write a Python program to remove spaces from a given string"
   ]
  },
  {
   "cell_type": "code",
   "execution_count": 12,
   "id": "952144b6",
   "metadata": {},
   "outputs": [
    {
     "name": "stdout",
     "output_type": "stream",
     "text": [
      "HelloWorld!Howareyou?\n"
     ]
    }
   ],
   "source": [
    "def remove_spaces(string):\n",
    "    string_without_spaces = string.replace(\" \", \"\")\n",
    "    return string_without_spaces\n",
    "\n",
    "input_string = \"Hello World! How are you?\"\n",
    "string_without_spaces = remove_spaces(input_string)\n",
    "print(string_without_spaces)"
   ]
  },
  {
   "cell_type": "markdown",
   "id": "9afe7a05",
   "metadata": {},
   "source": [
    "                                                                                                         Date: 30-May-2023"
   ]
  },
  {
   "cell_type": "markdown",
   "id": "eee069ba",
   "metadata": {},
   "source": [
    "###### 221. Write a Python program to remove duplicate characters of a given string"
   ]
  },
  {
   "cell_type": "code",
   "execution_count": 7,
   "id": "464e9439",
   "metadata": {},
   "outputs": [
    {
     "data": {
      "text/plain": [
       "'Pshectday nio'"
      ]
     },
     "execution_count": 7,
     "metadata": {},
     "output_type": "execute_result"
    }
   ],
   "source": [
    "def remove_duplicates(string):\n",
    "    unique_string = set(string)\n",
    "    result = ''.join(unique_string)\n",
    "    return result\n",
    "\n",
    "duplicate_char('Python and data science')"
   ]
  },
  {
   "cell_type": "code",
   "execution_count": 6,
   "id": "77abe659",
   "metadata": {},
   "outputs": [
    {
     "data": {
      "text/plain": [
       "'Pshectday nio'"
      ]
     },
     "execution_count": 6,
     "metadata": {},
     "output_type": "execute_result"
    }
   ],
   "source": [
    "def remove_duplicates(string):\n",
    "    \n",
    "    unique_chars = set(string)\n",
    "\n",
    "    result = \"\"\n",
    "    \n",
    "    for char in string:\n",
    "        if char not in unique_chars:\n",
    "            unique_chars.add(char)\n",
    "            result += char\n",
    "\n",
    "    return result\n",
    "\n",
    "duplicate_char('Python and data science')\n"
   ]
  },
  {
   "cell_type": "markdown",
   "id": "35a5ce1f",
   "metadata": {},
   "source": [
    "###### 222.  Write a Python Program to find the area of a circle"
   ]
  },
  {
   "cell_type": "code",
   "execution_count": 12,
   "id": "9a6f6c1d",
   "metadata": {},
   "outputs": [
    {
     "name": "stdout",
     "output_type": "stream",
     "text": [
      "Area of circle is : 314.1592653589793\n"
     ]
    }
   ],
   "source": [
    "# Area of circle = π * r^2\n",
    "\n",
    "import math\n",
    "\n",
    "def area_of_circle(radious):\n",
    "    result = math.pi * radious**2\n",
    "    return result\n",
    "\n",
    "area = area_of_circle(10)\n",
    "print('Area of circle is :',area)"
   ]
  },
  {
   "cell_type": "markdown",
   "id": "d7ca0475",
   "metadata": {},
   "source": [
    "###### 223. Python Program to find Sum of squares of first n natural numbers"
   ]
  },
  {
   "cell_type": "code",
   "execution_count": 15,
   "id": "e0475fce",
   "metadata": {},
   "outputs": [
    {
     "name": "stdout",
     "output_type": "stream",
     "text": [
      "1\n",
      "5\n",
      "14\n",
      "30\n",
      "55\n",
      "91\n",
      "140\n",
      "204\n",
      "285\n",
      "385\n"
     ]
    },
    {
     "data": {
      "text/plain": [
       "385"
      ]
     },
     "execution_count": 15,
     "metadata": {},
     "output_type": "execute_result"
    }
   ],
   "source": [
    "def sum_of_squares(n):\n",
    "    \n",
    "    sum_squares = 0\n",
    "    \n",
    "    for i in range(1,n+1):\n",
    "        sum_squares += i**2\n",
    "        print(sum_squares)\n",
    "    return sum_squares\n",
    "\n",
    "sum_of_squares(10)"
   ]
  },
  {
   "cell_type": "markdown",
   "id": "de2ffe22",
   "metadata": {},
   "source": [
    "###### 224. Python Program to find cube sum of first n natural numbers"
   ]
  },
  {
   "cell_type": "code",
   "execution_count": 2,
   "id": "0d494034",
   "metadata": {},
   "outputs": [
    {
     "name": "stdout",
     "output_type": "stream",
     "text": [
      "1\n",
      "9\n",
      "36\n",
      "100\n",
      "225\n",
      "441\n",
      "784\n",
      "1296\n",
      "2025\n",
      "3025\n"
     ]
    },
    {
     "data": {
      "text/plain": [
       "3025"
      ]
     },
     "execution_count": 2,
     "metadata": {},
     "output_type": "execute_result"
    }
   ],
   "source": [
    "def sum_of_cubes(n):\n",
    "    \n",
    "    sum_cubes = 0\n",
    "    \n",
    "    for i in range(1,n+1):\n",
    "        sum_cubes += i**3\n",
    "        print(sum_cubes)\n",
    "    return sum_cubes\n",
    "\n",
    "sum_of_cubes(10)"
   ]
  },
  {
   "attachments": {
    "image-2.png": {
     "image/png": "[encoded data removed]"
    },
    "image.png": {
     "image/png": "[encoded data removed]"
    }
   },
   "cell_type": "markdown",
   "id": "d45e04a1",
   "metadata": {},
   "source": [
    "###### 225. Python Program to find simple interest and compound interest\n",
    "\n",
    "![image.png](attachment:image.png)\n",
    "![image-2.png](attachment:image-2.png)"
   ]
  },
  {
   "cell_type": "code",
   "execution_count": 5,
   "id": "76e214a8",
   "metadata": {},
   "outputs": [
    {
     "data": {
      "text/plain": [
       "5110.0"
      ]
     },
     "execution_count": 5,
     "metadata": {},
     "output_type": "execute_result"
    }
   ],
   "source": [
    "def calculate_simple_interest(principle, rate, time):\n",
    "    interest = (principle * rate/100 * time)/100\n",
    "    return interest\n",
    "\n",
    "calculate_simple_interest(10000, 14, 365)"
   ]
  },
  {
   "cell_type": "code",
   "execution_count": 14,
   "id": "059825ac",
   "metadata": {},
   "outputs": [
    {
     "data": {
      "text/plain": [
       "5.892108530792502e+24"
      ]
     },
     "execution_count": 14,
     "metadata": {},
     "output_type": "execute_result"
    }
   ],
   "source": [
    "def calculate_compound_interest(principle, rate, time):\n",
    "    interest = ( principle * (1 + rate/100)**time ) - principle\n",
    "    return interest\n",
    "\n",
    "calculate_compound_interest(10000, 14 , 365)"
   ]
  },
  {
   "cell_type": "markdown",
   "id": "642d48d3",
   "metadata": {},
   "source": [
    "                                                                                                         Date: 31-May-2023"
   ]
  },
  {
   "cell_type": "markdown",
   "id": "70127774",
   "metadata": {},
   "source": [
    "###### 226. Python program to check whether a number is Prime or no"
   ]
  },
  {
   "cell_type": "code",
   "execution_count": 8,
   "id": "7950f966",
   "metadata": {},
   "outputs": [
    {
     "name": "stdout",
     "output_type": "stream",
     "text": [
      "11 The number is prime\n"
     ]
    }
   ],
   "source": [
    "def prime_or_not(num):\n",
    "    if num > 1:\n",
    "        for i in range(2, int(num/2)+1):\n",
    "            if num % i == 0:\n",
    "                print('The number is not prime')\n",
    "                break\n",
    "        else:\n",
    "            print(num, 'The number is prime')\n",
    "    else:\n",
    "        print(num, 'The number is not prime')         \n",
    "            \n",
    "prime_or_not(11)"
   ]
  },
  {
   "cell_type": "markdown",
   "id": "49f48e47",
   "metadata": {},
   "source": [
    "###### 227. Python Program to find the largest element in the list"
   ]
  },
  {
   "cell_type": "code",
   "execution_count": 9,
   "id": "4039dc7f",
   "metadata": {},
   "outputs": [
    {
     "data": {
      "text/plain": [
       "99"
      ]
     },
     "execution_count": 9,
     "metadata": {},
     "output_type": "execute_result"
    }
   ],
   "source": [
    "def find_largest_element(lst):\n",
    "    if not lst:\n",
    "        return None\n",
    "    \n",
    "    largest = lst[0]\n",
    "    \n",
    "    for num in lst:\n",
    "        if num > largest:\n",
    "            largest = num\n",
    "            \n",
    "    return largest\n",
    "\n",
    "list1 = [10,33, 1, 23, 4, 5, 99]\n",
    "find_largest_element(list1)"
   ]
  },
  {
   "cell_type": "markdown",
   "id": "a36cb5d4",
   "metadata": {},
   "source": [
    "###### 228. Python program to interchange first and last elements in a list."
   ]
  },
  {
   "cell_type": "code",
   "execution_count": 14,
   "id": "8b503a3b",
   "metadata": {},
   "outputs": [
    {
     "name": "stdout",
     "output_type": "stream",
     "text": [
      "Original list : [1, 2, 3, 4, 5]\n",
      "Swapped list : [5, 2, 3, 4, 1]\n"
     ]
    }
   ],
   "source": [
    "def interchange_first_last(lst):\n",
    "    if len(lst) < 2:\n",
    "        return lst\n",
    "    \n",
    "    lst[0], lst[-1] = lst[-1], lst[0]\n",
    "    return lst\n",
    "    \n",
    "lst=[1,2,3,4,5]\n",
    "print('Original list :',lst)\n",
    "print('Swapped list :',interchange_first_last(lst))"
   ]
  },
  {
   "cell_type": "markdown",
   "id": "d2cf089d",
   "metadata": {},
   "source": [
    "###### 229. Python program to swap two elements in a list"
   ]
  },
  {
   "cell_type": "code",
   "execution_count": 15,
   "id": "7f46775d",
   "metadata": {},
   "outputs": [
    {
     "name": "stdout",
     "output_type": "stream",
     "text": [
      "Original list : [1, 2, 3, 4, 5]\n",
      "Swapped list : [5, 4, 3, 2, 1]\n"
     ]
    }
   ],
   "source": [
    "def interchange_first_last(lst):\n",
    "    if len(lst) < 2:\n",
    "        return lst\n",
    "    \n",
    "    lst[0], lst[-1] = lst[-1], lst[0]\n",
    "    lst[1], lst[-2] = lst[-2], lst[1]\n",
    "    return lst\n",
    "    \n",
    "lst=[1,2,3,4,5]\n",
    "print('Original list :',lst)\n",
    "print('Swapped list :',interchange_first_last(lst))"
   ]
  },
  {
   "cell_type": "markdown",
   "id": "e99ae0cd",
   "metadata": {},
   "source": [
    "###### 230. Python program to Reverse a List"
   ]
  },
  {
   "cell_type": "code",
   "execution_count": 17,
   "id": "038296a3",
   "metadata": {},
   "outputs": [
    {
     "name": "stdout",
     "output_type": "stream",
     "text": [
      "Original list : [1, 2, 3, 4, 5]\n",
      "Swapped list : [5, 4, 3, 2, 1]\n"
     ]
    }
   ],
   "source": [
    "def reverse_list(lst):\n",
    "    reversed_list = lst[::-1]\n",
    "    return reversed_list\n",
    "\n",
    "lst=[1,2,3,4,5]\n",
    "print('Original list :',lst)\n",
    "print('Swapped list :',reverse_list(lst))"
   ]
  },
  {
   "cell_type": "markdown",
   "id": "68f94065",
   "metadata": {},
   "source": [
    "                                                                                                         Date: 1-June-2023"
   ]
  },
  {
   "cell_type": "markdown",
   "id": "f8282e64",
   "metadata": {},
   "source": [
    "###### 231. Python program to count occurrences of an element in a list"
   ]
  },
  {
   "cell_type": "code",
   "execution_count": 18,
   "id": "48d5a413",
   "metadata": {},
   "outputs": [
    {
     "name": "stdout",
     "output_type": "stream",
     "text": [
      "original list: [1, 2, 3, 1, 1, 2, 3, 3, 3, 3, 4, 4, 1, 2, 3, 5, 6, 7, 8, 9, 1]\n"
     ]
    },
    {
     "data": {
      "text/plain": [
       "5"
      ]
     },
     "execution_count": 18,
     "metadata": {},
     "output_type": "execute_result"
    }
   ],
   "source": [
    "def occurance_list(lst, target_element):\n",
    "    count = 0\n",
    "    for item in lst:\n",
    "        if item == target_element:\n",
    "            count+=1\n",
    "    return count\n",
    "\n",
    "lst=[1,2,3,1,1,2,3,3,3,3,4,4,1,2,3,5,6,7,8,9,1]\n",
    "print('original list:',lst)\n",
    "occurance_list(lst,1)\n",
    "    "
   ]
  },
  {
   "cell_type": "markdown",
   "id": "979ea39d",
   "metadata": {},
   "source": [
    "###### 232. Python program to find the sum of elements in a list"
   ]
  },
  {
   "cell_type": "code",
   "execution_count": 19,
   "id": "6be3c242",
   "metadata": {},
   "outputs": [
    {
     "data": {
      "text/plain": [
       "15"
      ]
     },
     "execution_count": 19,
     "metadata": {},
     "output_type": "execute_result"
    }
   ],
   "source": [
    "def summetion_of_list(lst):\n",
    "    sum_of_list = sum(lst)\n",
    "    return sum_of_list\n",
    "\n",
    "lst=[1,2,3,4,5]\n",
    "summetion_of_list(lst)"
   ]
  },
  {
   "cell_type": "markdown",
   "id": "21121a36",
   "metadata": {},
   "source": [
    "###### 233. Python program to Multiply all numbers in the list"
   ]
  },
  {
   "cell_type": "code",
   "execution_count": 24,
   "id": "f50ab951",
   "metadata": {},
   "outputs": [
    {
     "data": {
      "text/plain": [
       "120"
      ]
     },
     "execution_count": 24,
     "metadata": {},
     "output_type": "execute_result"
    }
   ],
   "source": [
    "def multiplication_of_list(lst):\n",
    "    if not lst:\n",
    "        return False\n",
    "    \n",
    "    result = 1\n",
    "    \n",
    "    for i in lst:\n",
    "        result *= i # result = result * i\n",
    "    return result\n",
    "\n",
    "lst=[1,2,3,4,5]\n",
    "multiplication_of_list(lst)"
   ]
  },
  {
   "cell_type": "code",
   "execution_count": 25,
   "id": "e0e213e1",
   "metadata": {},
   "outputs": [
    {
     "data": {
      "text/plain": [
       "120"
      ]
     },
     "execution_count": 25,
     "metadata": {},
     "output_type": "execute_result"
    }
   ],
   "source": [
    "import numpy\n",
    "def multiplication_of_list(lst):\n",
    "    if not lst:\n",
    "        return False\n",
    "       \n",
    "    result = numpy.prod(lst)\n",
    "    return result\n",
    "\n",
    "lst=[1,2,3,4,5]\n",
    "multiplication_of_list(lst)"
   ]
  },
  {
   "cell_type": "markdown",
   "id": "bce64ee0",
   "metadata": {},
   "source": [
    "###### 234. What are the ways to find the length of a list"
   ]
  },
  {
   "cell_type": "code",
   "execution_count": 33,
   "id": "17bd3e16",
   "metadata": {},
   "outputs": [
    {
     "name": "stdout",
     "output_type": "stream",
     "text": [
      "5\n",
      "5\n",
      "5\n",
      "5\n"
     ]
    }
   ],
   "source": [
    "# 1. By using len function\n",
    "lst = [1,2,3,4,5]\n",
    "result = len(lst)\n",
    "print(result)\n",
    "\n",
    "# 2. by using iterating and counting elements\n",
    "count=0\n",
    "for i in lst:\n",
    "    count+=1\n",
    "print(count)\n",
    "\n",
    "# 3. using list comprehension\n",
    "length = sum(1 for i in lst)\n",
    "print(length)\n",
    "\n",
    "# 4. by using converting set and len function\n",
    "length = len(set(lst))\n",
    "print(length)\n",
    "    "
   ]
  },
  {
   "cell_type": "markdown",
   "id": "94fa3a9a",
   "metadata": {},
   "source": [
    "###### 235. Python program to find the smallest and largest number in a list (Without min-max function)"
   ]
  },
  {
   "cell_type": "code",
   "execution_count": 37,
   "id": "9ab93037",
   "metadata": {},
   "outputs": [
    {
     "name": "stdout",
     "output_type": "stream",
     "text": [
      "Smallest element is = 1\n",
      "Largest element is = 99\n"
     ]
    }
   ],
   "source": [
    "def find_smallest_largest(lst):\n",
    "    if not lst:\n",
    "        return False\n",
    "    \n",
    "    smallest = lst[0]\n",
    "    largest = lst[0]\n",
    "    \n",
    "    for num in lst:\n",
    "        if num < smallest:\n",
    "            smallest = num\n",
    "        elif num > largest:\n",
    "            largest = num\n",
    "            \n",
    "    print('Smallest element is =',smallest)\n",
    "    print('Largest element is =', largest)\n",
    "\n",
    "lst = [88,22, 11, 1, 22, 88,56, 22, 99]\n",
    "find_smallest_largest(lst)"
   ]
  },
  {
   "cell_type": "markdown",
   "id": "90e6d427",
   "metadata": {},
   "source": [
    "                                                                                                         Date: 2-June-2023"
   ]
  },
  {
   "cell_type": "markdown",
   "id": "93d83923",
   "metadata": {},
   "source": [
    "###### 236. Take inputs from the user to make a list. Again take one input from the user and search it in the list and delete that element, if found. Iterate over a list using for loop."
   ]
  },
  {
   "cell_type": "code",
   "execution_count": 25,
   "id": "8f058d56",
   "metadata": {},
   "outputs": [
    {
     "name": "stdout",
     "output_type": "stream",
     "text": [
      "Enter elements separated by spaces: 23 56 32 12 99 38 50\n",
      "User input List: ['23', '56', '32', '12', '99', '38', '50']\n",
      "Enter the element to delete: 10\n",
      "Element '10' not found in the list.\n",
      "Modified user input List: ['23', '56', '32', '12', '99', '38', '50']\n"
     ]
    }
   ],
   "source": [
    "user_list = input(\"Enter elements separated by spaces: \").split()\n",
    "print(\"User input List:\",user_list)\n",
    "\n",
    "element_to_delete = input(\"Enter the element to delete: \")\n",
    "\n",
    "if element_to_delete in user_list:\n",
    "    user_list.remove(element_to_delete)\n",
    "    print(\"Element '{}' removed from the list.\".format(element_to_delete))\n",
    "else:\n",
    "    print(\"Element '{}' not found in the list.\".format(element_to_delete))\n",
    "\n",
    "print(\"Modified user input List:\",user_list)"
   ]
  },
  {
   "cell_type": "markdown",
   "id": "c6ef49e6",
   "metadata": {},
   "source": [
    "###### 237. You are given a list of integer elements. Make a new list that will store a square of elements of the previous list. (With and without list comprehension)\n",
    "     i. Input_list = [2,5,6,12]\n",
    "    ii. Output_list = [4,25,36,144]"
   ]
  },
  {
   "cell_type": "code",
   "execution_count": 44,
   "id": "e3e7749b",
   "metadata": {},
   "outputs": [
    {
     "name": "stdout",
     "output_type": "stream",
     "text": [
      "with list comprehension [4, 25, 36, 144]\n",
      "****************************************************************************************************\n",
      "Without list comprehension : [4, 25, 36, 144]\n"
     ]
    }
   ],
   "source": [
    "input_list = [2,5,6,12]\n",
    "\n",
    "# with list cmprehension\n",
    "squre_of_ele = [i**2 for i in input_list]\n",
    "print('with list comprehension',squre_of_ele)\n",
    "\n",
    "print('*'*100)\n",
    "\n",
    "input_list = [2,5,6,12]\n",
    "\n",
    "# Without list comprehension\n",
    "output_list=[]\n",
    "for i in input_list:\n",
    "    squre_of_ele = i**2\n",
    "    output_list.append(squre_of_ele)\n",
    "print('Without list comprehension :',output_list)"
   ]
  },
  {
   "cell_type": "markdown",
   "id": "95445849",
   "metadata": {},
   "source": [
    "###### 238. WAP to create two lists, one containing all even numbers and the other containing all odd numbers between 0 to 151"
   ]
  },
  {
   "cell_type": "code",
   "execution_count": 53,
   "id": "e657f77c",
   "metadata": {},
   "outputs": [
    {
     "name": "stdout",
     "output_type": "stream",
     "text": [
      "Even number list between 0 to 151 : [0, 2, 4, 6, 8, 10, 12, 14, 16, 18, 20, 22, 24, 26, 28, 30, 32, 34, 36, 38, 40, 42, 44, 46, 48, 50, 52, 54, 56, 58, 60, 62, 64, 66, 68, 70, 72, 74, 76, 78, 80, 82, 84, 86, 88, 90, 92, 94, 96, 98, 100, 102, 104, 106, 108, 110, 112, 114, 116, 118, 120, 122, 124, 126, 128, 130, 132, 134, 136, 138, 140, 142, 144, 146, 148, 150]\n",
      "****************************************************************************************************\n",
      "Odd number list between 0 to 151 : [1, 3, 5, 7, 9, 11, 13, 15, 17, 19, 21, 23, 25, 27, 29, 31, 33, 35, 37, 39, 41, 43, 45, 47, 49, 51, 53, 55, 57, 59, 61, 63, 65, 67, 69, 71, 73, 75, 77, 79, 81, 83, 85, 87, 89, 91, 93, 95, 97, 99, 101, 103, 105, 107, 109, 111, 113, 115, 117, 119, 121, 123, 125, 127, 129, 131, 133, 135, 137, 139, 141, 143, 145, 147, 149, 151]\n"
     ]
    }
   ],
   "source": [
    "even_list = []\n",
    "odd_list = []\n",
    "\n",
    "for i in range(0,152):\n",
    "    if i%2 == 0:\n",
    "        even_list.append(i)\n",
    "    else:\n",
    "        odd_list.append(i)\n",
    "        \n",
    "print('Even number list between 0 to 151 :',even_list)\n",
    "print('*'*100)\n",
    "print('Odd number list between 0 to 151 :',odd_list)"
   ]
  },
  {
   "cell_type": "markdown",
   "id": "d22e8cfa",
   "metadata": {},
   "source": [
    "###### 239. WAP to make new lists, containing only numbers which are divisible by 4, 6, 8, 10, 3, 5, 7, and 9 in separate lists for range(0,151)\n"
   ]
  },
  {
   "cell_type": "code",
   "execution_count": 56,
   "id": "7b0d1f3d",
   "metadata": {},
   "outputs": [
    {
     "name": "stdout",
     "output_type": "stream",
     "text": [
      "Divisible by 4 number list between range 0 to 151 :\n",
      " [0, 4, 8, 12, 16, 20, 24, 28, 32, 36, 40, 44, 48, 52, 56, 60, 64, 68, 72, 76, 80, 84, 88, 92, 96, 100, 104, 108, 112, 116, 120, 124, 128, 132, 136, 140, 144, 148]\n",
      "Divisible by 6 number list between range 0 to 151 :\n",
      " [0, 6, 12, 18, 24, 30, 36, 42, 48, 54, 60, 66, 72, 78, 84, 90, 96, 102, 108, 114, 120, 126, 132, 138, 144, 150]\n",
      "Divisible by 8 number list between range 0 to 151 :\n",
      " [0, 8, 16, 24, 32, 40, 48, 56, 64, 72, 80, 88, 96, 104, 112, 120, 128, 136, 144]\n",
      "Divisible by 10 number list between range 0 to 151 :\n",
      " [0, 10, 20, 30, 40, 50, 60, 70, 80, 90, 100, 110, 120, 130, 140, 150]\n",
      "Divisible by 3 number list between range 0 to 151 :\n",
      " [0, 3, 6, 9, 12, 15, 18, 21, 24, 27, 30, 33, 36, 39, 42, 45, 48, 51, 54, 57, 60, 63, 66, 69, 72, 75, 78, 81, 84, 87, 90, 93, 96, 99, 102, 105, 108, 111, 114, 117, 120, 123, 126, 129, 132, 135, 138, 141, 144, 147, 150]\n",
      "Divisible by 5 number list between range 0 to 151 :\n",
      " [0, 5, 10, 15, 20, 25, 30, 35, 40, 45, 50, 55, 60, 65, 70, 75, 80, 85, 90, 95, 100, 105, 110, 115, 120, 125, 130, 135, 140, 145, 150]\n",
      "Divisible by 7 number list between range 0 to 151 :\n",
      " [0, 7, 14, 21, 28, 35, 42, 49, 56, 63, 70, 77, 84, 91, 98, 105, 112, 119, 126, 133, 140, 147]\n",
      "Divisible by 9 number list between range 0 to 151 :\n",
      " [0, 9, 18, 27, 36, 45, 54, 63, 72, 81, 90, 99, 108, 117, 126, 135, 144]\n"
     ]
    }
   ],
   "source": [
    "list_4_div = []\n",
    "list_6_div = []\n",
    "list_8_div = []\n",
    "list_10_div = []\n",
    "list_3_div = []\n",
    "list_5_div = []\n",
    "list_7_div = []\n",
    "list_9_div = []\n",
    "\n",
    "for i in range(0,151):\n",
    "    if i%4==0:\n",
    "        list_4_div.append(i)\n",
    "    if i%6==0:\n",
    "        list_6_div.append(i)\n",
    "    if i%8==0:\n",
    "        list_8_div.append(i) \n",
    "    if i%10==0:\n",
    "        list_10_div.append(i)\n",
    "    if i%3==0:\n",
    "        list_3_div.append(i)\n",
    "    if i%5==0:\n",
    "        list_5_div.append(i)\n",
    "    if i%7==0:\n",
    "        list_7_div.append(i)\n",
    "    if i%9==0:\n",
    "        list_9_div.append(i)\n",
    "    \n",
    "    \n",
    "print('Divisible by 4 number list between range 0 to 151 :\\n',list_4_div)\n",
    "print('Divisible by 6 number list between range 0 to 151 :\\n',list_6_div)\n",
    "print('Divisible by 8 number list between range 0 to 151 :\\n',list_8_div)\n",
    "print('Divisible by 10 number list between range 0 to 151 :\\n',list_10_div)\n",
    "print('Divisible by 3 number list between range 0 to 151 :\\n',list_3_div)\n",
    "print('Divisible by 5 number list between range 0 to 151 :\\n',list_5_div)\n",
    "print('Divisible by 7 number list between range 0 to 151 :\\n',list_7_div)\n",
    "print('Divisible by 9 number list between range 0 to 151 :\\n',list_9_div)"
   ]
  },
  {
   "cell_type": "markdown",
   "id": "10b7591f",
   "metadata": {},
   "source": [
    "###### 240. From a list containing ints, strings, and floats, make three lists to store them separately."
   ]
  },
  {
   "cell_type": "code",
   "execution_count": 58,
   "id": "7d6bde2f",
   "metadata": {},
   "outputs": [
    {
     "name": "stdout",
     "output_type": "stream",
     "text": [
      "[1, 2, 3, 4, 5]\n",
      "[1, 1.1, 2, 2.2, 3, 3.3, 4, 4.4, 5, 5.5]\n",
      "['1', '2', '3', '4', '5']\n"
     ]
    }
   ],
   "source": [
    "list1=[1,1.1,'1',2,2.2,'2',3,3.3,'3',4,4.4,'4',5,5.5,'5']\n",
    "\n",
    "int_list=[]\n",
    "float_list=[]\n",
    "str_list=[]\n",
    "\n",
    "for i in list1:\n",
    "    if i == int(i):\n",
    "        int_list.append(i)\n",
    "    if i == float(i):\n",
    "        float_list.append(i)\n",
    "    if i == str(i):\n",
    "        str_list.append(i)\n",
    "        \n",
    "print(int_list)\n",
    "print(float_list)\n",
    "print(str_list)"
   ]
  }
 ],
 "metadata": {
  "kernelspec": {
   "display_name": "Python 3 (ipykernel)",
   "language": "python",
   "name": "python3"
  },
  "language_info": {
   "codemirror_mode": {
    "name": "ipython",
    "version": 3
   },
   "file_extension": ".py",
   "mimetype": "text/x-python",
   "name": "python",
   "nbconvert_exporter": "python",
   "pygments_lexer": "ipython3",
   "version": "3.11.3"
  }
 },
 "nbformat": 4,
 "nbformat_minor": 5
}
